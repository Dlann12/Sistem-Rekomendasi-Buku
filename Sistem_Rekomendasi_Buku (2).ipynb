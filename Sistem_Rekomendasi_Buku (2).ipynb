{
  "nbformat": 4,
  "nbformat_minor": 0,
  "metadata": {
    "colab": {
      "provenance": [],
      "gpuType": "T4"
    },
    "kernelspec": {
      "name": "python3",
      "display_name": "Python 3"
    },
    "language_info": {
      "name": "python"
    },
    "accelerator": "GPU"
  },
  "cells": [
    {
      "cell_type": "markdown",
      "source": [
        "## IMPORT LIBRARY"
      ],
      "metadata": {
        "id": "S4tNoUP2z5LR"
      }
    },
    {
      "cell_type": "code",
      "source": [
        "import pandas as pd\n",
        "import numpy as np\n",
        "from sklearn.model_selection import train_test_split\n",
        "from tensorflow.keras.models import Sequential,Model\n",
        "from tensorflow.keras.layers import Dense, Input\n",
        "import ast\n",
        "from sklearn.preprocessing import MultiLabelBinarizer, LabelEncoder\n",
        "from sklearn.feature_extraction.text import TfidfVectorizer\n",
        "from sklearn.preprocessing import MinMaxScaler\n",
        "import tensorflow as tf\n",
        "from sklearn.metrics.pairwise import cosine_similarity\n",
        "import seaborn as sns\n",
        "import matplotlib.pyplot as plt\n",
        "from sklearn.manifold import TSNE"
      ],
      "metadata": {
        "id": "iUsMUI8uz39L"
      },
      "execution_count": 1,
      "outputs": []
    },
    {
      "cell_type": "markdown",
      "source": [
        "## Data Load"
      ],
      "metadata": {
        "id": "w-Bc-l-X01i-"
      }
    },
    {
      "cell_type": "code",
      "source": [
        "df = pd.read_csv('/content/goodreads_data.csv')\n",
        "df.head()"
      ],
      "metadata": {
        "colab": {
          "base_uri": "https://localhost:8080/",
          "height": 310
        },
        "id": "JSx7I_DH05s9",
        "outputId": "fc3e206d-be30-4554-9834-06b734342c41"
      },
      "execution_count": 2,
      "outputs": [
        {
          "output_type": "execute_result",
          "data": {
            "text/plain": [
              "   Unnamed: 0                                               Book  \\\n",
              "0           0                              To Kill a Mockingbird   \n",
              "1           1  Harry Potter and the Philosopher’s Stone (Harr...   \n",
              "2           2                                Pride and Prejudice   \n",
              "3           3                          The Diary of a Young Girl   \n",
              "4           4                                        Animal Farm   \n",
              "\n",
              "          Author                                        Description  \\\n",
              "0     Harper Lee  The unforgettable novel of a childhood in a sl...   \n",
              "1   J.K. Rowling  Harry Potter thinks he is an ordinary boy - un...   \n",
              "2    Jane Austen  Since its immediate success in 1813, Pride and...   \n",
              "3     Anne Frank  Discovered in the attic in which she spent the...   \n",
              "4  George Orwell  Librarian's note: There is an Alternate Cover ...   \n",
              "\n",
              "                                              Genres  Avg_Rating Num_Ratings  \\\n",
              "0  ['Classics', 'Fiction', 'Historical Fiction', ...        4.27   5,691,311   \n",
              "1  ['Fantasy', 'Fiction', 'Young Adult', 'Magic',...        4.47   9,278,135   \n",
              "2  ['Classics', 'Fiction', 'Romance', 'Historical...        4.28   3,944,155   \n",
              "3  ['Classics', 'Nonfiction', 'History', 'Biograp...        4.18   3,488,438   \n",
              "4  ['Classics', 'Fiction', 'Dystopia', 'Fantasy',...        3.98   3,575,172   \n",
              "\n",
              "                                                 URL  \n",
              "0  https://www.goodreads.com/book/show/2657.To_Ki...  \n",
              "1  https://www.goodreads.com/book/show/72193.Harr...  \n",
              "2  https://www.goodreads.com/book/show/1885.Pride...  \n",
              "3  https://www.goodreads.com/book/show/48855.The_...  \n",
              "4  https://www.goodreads.com/book/show/170448.Ani...  "
            ],
            "text/html": [
              "\n",
              "  <div id=\"df-e4ec6205-9fcd-4b24-ae7c-b08cbd58731f\" class=\"colab-df-container\">\n",
              "    <div>\n",
              "<style scoped>\n",
              "    .dataframe tbody tr th:only-of-type {\n",
              "        vertical-align: middle;\n",
              "    }\n",
              "\n",
              "    .dataframe tbody tr th {\n",
              "        vertical-align: top;\n",
              "    }\n",
              "\n",
              "    .dataframe thead th {\n",
              "        text-align: right;\n",
              "    }\n",
              "</style>\n",
              "<table border=\"1\" class=\"dataframe\">\n",
              "  <thead>\n",
              "    <tr style=\"text-align: right;\">\n",
              "      <th></th>\n",
              "      <th>Unnamed: 0</th>\n",
              "      <th>Book</th>\n",
              "      <th>Author</th>\n",
              "      <th>Description</th>\n",
              "      <th>Genres</th>\n",
              "      <th>Avg_Rating</th>\n",
              "      <th>Num_Ratings</th>\n",
              "      <th>URL</th>\n",
              "    </tr>\n",
              "  </thead>\n",
              "  <tbody>\n",
              "    <tr>\n",
              "      <th>0</th>\n",
              "      <td>0</td>\n",
              "      <td>To Kill a Mockingbird</td>\n",
              "      <td>Harper Lee</td>\n",
              "      <td>The unforgettable novel of a childhood in a sl...</td>\n",
              "      <td>['Classics', 'Fiction', 'Historical Fiction', ...</td>\n",
              "      <td>4.27</td>\n",
              "      <td>5,691,311</td>\n",
              "      <td>https://www.goodreads.com/book/show/2657.To_Ki...</td>\n",
              "    </tr>\n",
              "    <tr>\n",
              "      <th>1</th>\n",
              "      <td>1</td>\n",
              "      <td>Harry Potter and the Philosopher’s Stone (Harr...</td>\n",
              "      <td>J.K. Rowling</td>\n",
              "      <td>Harry Potter thinks he is an ordinary boy - un...</td>\n",
              "      <td>['Fantasy', 'Fiction', 'Young Adult', 'Magic',...</td>\n",
              "      <td>4.47</td>\n",
              "      <td>9,278,135</td>\n",
              "      <td>https://www.goodreads.com/book/show/72193.Harr...</td>\n",
              "    </tr>\n",
              "    <tr>\n",
              "      <th>2</th>\n",
              "      <td>2</td>\n",
              "      <td>Pride and Prejudice</td>\n",
              "      <td>Jane Austen</td>\n",
              "      <td>Since its immediate success in 1813, Pride and...</td>\n",
              "      <td>['Classics', 'Fiction', 'Romance', 'Historical...</td>\n",
              "      <td>4.28</td>\n",
              "      <td>3,944,155</td>\n",
              "      <td>https://www.goodreads.com/book/show/1885.Pride...</td>\n",
              "    </tr>\n",
              "    <tr>\n",
              "      <th>3</th>\n",
              "      <td>3</td>\n",
              "      <td>The Diary of a Young Girl</td>\n",
              "      <td>Anne Frank</td>\n",
              "      <td>Discovered in the attic in which she spent the...</td>\n",
              "      <td>['Classics', 'Nonfiction', 'History', 'Biograp...</td>\n",
              "      <td>4.18</td>\n",
              "      <td>3,488,438</td>\n",
              "      <td>https://www.goodreads.com/book/show/48855.The_...</td>\n",
              "    </tr>\n",
              "    <tr>\n",
              "      <th>4</th>\n",
              "      <td>4</td>\n",
              "      <td>Animal Farm</td>\n",
              "      <td>George Orwell</td>\n",
              "      <td>Librarian's note: There is an Alternate Cover ...</td>\n",
              "      <td>['Classics', 'Fiction', 'Dystopia', 'Fantasy',...</td>\n",
              "      <td>3.98</td>\n",
              "      <td>3,575,172</td>\n",
              "      <td>https://www.goodreads.com/book/show/170448.Ani...</td>\n",
              "    </tr>\n",
              "  </tbody>\n",
              "</table>\n",
              "</div>\n",
              "    <div class=\"colab-df-buttons\">\n",
              "\n",
              "  <div class=\"colab-df-container\">\n",
              "    <button class=\"colab-df-convert\" onclick=\"convertToInteractive('df-e4ec6205-9fcd-4b24-ae7c-b08cbd58731f')\"\n",
              "            title=\"Convert this dataframe to an interactive table.\"\n",
              "            style=\"display:none;\">\n",
              "\n",
              "  <svg xmlns=\"http://www.w3.org/2000/svg\" height=\"24px\" viewBox=\"0 -960 960 960\">\n",
              "    <path d=\"M120-120v-720h720v720H120Zm60-500h600v-160H180v160Zm220 220h160v-160H400v160Zm0 220h160v-160H400v160ZM180-400h160v-160H180v160Zm440 0h160v-160H620v160ZM180-180h160v-160H180v160Zm440 0h160v-160H620v160Z\"/>\n",
              "  </svg>\n",
              "    </button>\n",
              "\n",
              "  <style>\n",
              "    .colab-df-container {\n",
              "      display:flex;\n",
              "      gap: 12px;\n",
              "    }\n",
              "\n",
              "    .colab-df-convert {\n",
              "      background-color: #E8F0FE;\n",
              "      border: none;\n",
              "      border-radius: 50%;\n",
              "      cursor: pointer;\n",
              "      display: none;\n",
              "      fill: #1967D2;\n",
              "      height: 32px;\n",
              "      padding: 0 0 0 0;\n",
              "      width: 32px;\n",
              "    }\n",
              "\n",
              "    .colab-df-convert:hover {\n",
              "      background-color: #E2EBFA;\n",
              "      box-shadow: 0px 1px 2px rgba(60, 64, 67, 0.3), 0px 1px 3px 1px rgba(60, 64, 67, 0.15);\n",
              "      fill: #174EA6;\n",
              "    }\n",
              "\n",
              "    .colab-df-buttons div {\n",
              "      margin-bottom: 4px;\n",
              "    }\n",
              "\n",
              "    [theme=dark] .colab-df-convert {\n",
              "      background-color: #3B4455;\n",
              "      fill: #D2E3FC;\n",
              "    }\n",
              "\n",
              "    [theme=dark] .colab-df-convert:hover {\n",
              "      background-color: #434B5C;\n",
              "      box-shadow: 0px 1px 3px 1px rgba(0, 0, 0, 0.15);\n",
              "      filter: drop-shadow(0px 1px 2px rgba(0, 0, 0, 0.3));\n",
              "      fill: #FFFFFF;\n",
              "    }\n",
              "  </style>\n",
              "\n",
              "    <script>\n",
              "      const buttonEl =\n",
              "        document.querySelector('#df-e4ec6205-9fcd-4b24-ae7c-b08cbd58731f button.colab-df-convert');\n",
              "      buttonEl.style.display =\n",
              "        google.colab.kernel.accessAllowed ? 'block' : 'none';\n",
              "\n",
              "      async function convertToInteractive(key) {\n",
              "        const element = document.querySelector('#df-e4ec6205-9fcd-4b24-ae7c-b08cbd58731f');\n",
              "        const dataTable =\n",
              "          await google.colab.kernel.invokeFunction('convertToInteractive',\n",
              "                                                    [key], {});\n",
              "        if (!dataTable) return;\n",
              "\n",
              "        const docLinkHtml = 'Like what you see? Visit the ' +\n",
              "          '<a target=\"_blank\" href=https://colab.research.google.com/notebooks/data_table.ipynb>data table notebook</a>'\n",
              "          + ' to learn more about interactive tables.';\n",
              "        element.innerHTML = '';\n",
              "        dataTable['output_type'] = 'display_data';\n",
              "        await google.colab.output.renderOutput(dataTable, element);\n",
              "        const docLink = document.createElement('div');\n",
              "        docLink.innerHTML = docLinkHtml;\n",
              "        element.appendChild(docLink);\n",
              "      }\n",
              "    </script>\n",
              "  </div>\n",
              "\n",
              "\n",
              "    <div id=\"df-2dfb00f3-2603-4255-a84d-0171de633a6d\">\n",
              "      <button class=\"colab-df-quickchart\" onclick=\"quickchart('df-2dfb00f3-2603-4255-a84d-0171de633a6d')\"\n",
              "                title=\"Suggest charts\"\n",
              "                style=\"display:none;\">\n",
              "\n",
              "<svg xmlns=\"http://www.w3.org/2000/svg\" height=\"24px\"viewBox=\"0 0 24 24\"\n",
              "     width=\"24px\">\n",
              "    <g>\n",
              "        <path d=\"M19 3H5c-1.1 0-2 .9-2 2v14c0 1.1.9 2 2 2h14c1.1 0 2-.9 2-2V5c0-1.1-.9-2-2-2zM9 17H7v-7h2v7zm4 0h-2V7h2v10zm4 0h-2v-4h2v4z\"/>\n",
              "    </g>\n",
              "</svg>\n",
              "      </button>\n",
              "\n",
              "<style>\n",
              "  .colab-df-quickchart {\n",
              "      --bg-color: #E8F0FE;\n",
              "      --fill-color: #1967D2;\n",
              "      --hover-bg-color: #E2EBFA;\n",
              "      --hover-fill-color: #174EA6;\n",
              "      --disabled-fill-color: #AAA;\n",
              "      --disabled-bg-color: #DDD;\n",
              "  }\n",
              "\n",
              "  [theme=dark] .colab-df-quickchart {\n",
              "      --bg-color: #3B4455;\n",
              "      --fill-color: #D2E3FC;\n",
              "      --hover-bg-color: #434B5C;\n",
              "      --hover-fill-color: #FFFFFF;\n",
              "      --disabled-bg-color: #3B4455;\n",
              "      --disabled-fill-color: #666;\n",
              "  }\n",
              "\n",
              "  .colab-df-quickchart {\n",
              "    background-color: var(--bg-color);\n",
              "    border: none;\n",
              "    border-radius: 50%;\n",
              "    cursor: pointer;\n",
              "    display: none;\n",
              "    fill: var(--fill-color);\n",
              "    height: 32px;\n",
              "    padding: 0;\n",
              "    width: 32px;\n",
              "  }\n",
              "\n",
              "  .colab-df-quickchart:hover {\n",
              "    background-color: var(--hover-bg-color);\n",
              "    box-shadow: 0 1px 2px rgba(60, 64, 67, 0.3), 0 1px 3px 1px rgba(60, 64, 67, 0.15);\n",
              "    fill: var(--button-hover-fill-color);\n",
              "  }\n",
              "\n",
              "  .colab-df-quickchart-complete:disabled,\n",
              "  .colab-df-quickchart-complete:disabled:hover {\n",
              "    background-color: var(--disabled-bg-color);\n",
              "    fill: var(--disabled-fill-color);\n",
              "    box-shadow: none;\n",
              "  }\n",
              "\n",
              "  .colab-df-spinner {\n",
              "    border: 2px solid var(--fill-color);\n",
              "    border-color: transparent;\n",
              "    border-bottom-color: var(--fill-color);\n",
              "    animation:\n",
              "      spin 1s steps(1) infinite;\n",
              "  }\n",
              "\n",
              "  @keyframes spin {\n",
              "    0% {\n",
              "      border-color: transparent;\n",
              "      border-bottom-color: var(--fill-color);\n",
              "      border-left-color: var(--fill-color);\n",
              "    }\n",
              "    20% {\n",
              "      border-color: transparent;\n",
              "      border-left-color: var(--fill-color);\n",
              "      border-top-color: var(--fill-color);\n",
              "    }\n",
              "    30% {\n",
              "      border-color: transparent;\n",
              "      border-left-color: var(--fill-color);\n",
              "      border-top-color: var(--fill-color);\n",
              "      border-right-color: var(--fill-color);\n",
              "    }\n",
              "    40% {\n",
              "      border-color: transparent;\n",
              "      border-right-color: var(--fill-color);\n",
              "      border-top-color: var(--fill-color);\n",
              "    }\n",
              "    60% {\n",
              "      border-color: transparent;\n",
              "      border-right-color: var(--fill-color);\n",
              "    }\n",
              "    80% {\n",
              "      border-color: transparent;\n",
              "      border-right-color: var(--fill-color);\n",
              "      border-bottom-color: var(--fill-color);\n",
              "    }\n",
              "    90% {\n",
              "      border-color: transparent;\n",
              "      border-bottom-color: var(--fill-color);\n",
              "    }\n",
              "  }\n",
              "</style>\n",
              "\n",
              "      <script>\n",
              "        async function quickchart(key) {\n",
              "          const quickchartButtonEl =\n",
              "            document.querySelector('#' + key + ' button');\n",
              "          quickchartButtonEl.disabled = true;  // To prevent multiple clicks.\n",
              "          quickchartButtonEl.classList.add('colab-df-spinner');\n",
              "          try {\n",
              "            const charts = await google.colab.kernel.invokeFunction(\n",
              "                'suggestCharts', [key], {});\n",
              "          } catch (error) {\n",
              "            console.error('Error during call to suggestCharts:', error);\n",
              "          }\n",
              "          quickchartButtonEl.classList.remove('colab-df-spinner');\n",
              "          quickchartButtonEl.classList.add('colab-df-quickchart-complete');\n",
              "        }\n",
              "        (() => {\n",
              "          let quickchartButtonEl =\n",
              "            document.querySelector('#df-2dfb00f3-2603-4255-a84d-0171de633a6d button');\n",
              "          quickchartButtonEl.style.display =\n",
              "            google.colab.kernel.accessAllowed ? 'block' : 'none';\n",
              "        })();\n",
              "      </script>\n",
              "    </div>\n",
              "\n",
              "    </div>\n",
              "  </div>\n"
            ],
            "application/vnd.google.colaboratory.intrinsic+json": {
              "type": "dataframe",
              "variable_name": "df",
              "summary": "{\n  \"name\": \"df\",\n  \"rows\": 10000,\n  \"fields\": [\n    {\n      \"column\": \"Unnamed: 0\",\n      \"properties\": {\n        \"dtype\": \"number\",\n        \"std\": 2886,\n        \"min\": 0,\n        \"max\": 9999,\n        \"num_unique_values\": 10000,\n        \"samples\": [\n          6252,\n          4684,\n          1731\n        ],\n        \"semantic_type\": \"\",\n        \"description\": \"\"\n      }\n    },\n    {\n      \"column\": \"Book\",\n      \"properties\": {\n        \"dtype\": \"string\",\n        \"num_unique_values\": 9871,\n        \"samples\": [\n          \"HOW TO SAY NO TO ANYTHING AND MEAN IT\",\n          \"Rejection Proof: How I Beat Fear and Became Invincible Through 100 Days of Rejection\",\n          \"Village Evenings Near Dikanka and Mirgorod\"\n        ],\n        \"semantic_type\": \"\",\n        \"description\": \"\"\n      }\n    },\n    {\n      \"column\": \"Author\",\n      \"properties\": {\n        \"dtype\": \"string\",\n        \"num_unique_values\": 6064,\n        \"samples\": [\n          \"Ryan White\",\n          \"Rachel Hartman\",\n          \"Jim Gaffigan\"\n        ],\n        \"semantic_type\": \"\",\n        \"description\": \"\"\n      }\n    },\n    {\n      \"column\": \"Description\",\n      \"properties\": {\n        \"dtype\": \"string\",\n        \"num_unique_values\": 9888,\n        \"samples\": [\n          \"What is leadership? What qualities do true leaders have? Can you learn to be a leader? These questions and more are answered. Described are the most common virtues of a leader and past and present examples.\",\n          \"Don\\u2019t face reality. Create reality!\\u00a0\\u00a0\\u00a0\\u00a0\\u00a0\\u00a0 \\nE-Squared\\n could best be described as a lab manual with simple experiments to prove once and for all that reality is malleable, that consciousness trumps matter, and that you shape your life with your mind. Rather than take it on faith, you are invited to conduct nine 48-hour experiments to prove there really is a positive, loving, totally hip force in the universe. Yes, you read that right. It says prove. \\u00a0\\u00a0\\u00a0\\u00a0\\u00a0 The experiments, each of which can be conducted with absolutely no money and very little time expenditure, demonstrate that spiritual principles are as dependable as gravity, as consistent as Newton\\u2019s\\u00a0laws of motion. For years, you\\u2019ve been hoping and praying that spiritual principles are true. Now, you can know. \\u00a0\\u00a0\\u00a0\\u00a0\\u00a0 E-Squared proves the following:\\u00a01.\\u00a0\\u00a0\\u00a0\\u00a0\\u00a0\\u00a0 There is an invisible energy force or field of infinite possibilities. 2.\\u00a0\\u00a0\\u00a0\\u00a0\\u00a0\\u00a0 You impact the field and draw from it according to your beliefs and expectations.\\u00a03.\\u00a0\\u00a0\\u00a0\\u00a0\\u00a0\\u00a0 You, too, are a field of energy.\\u00a04.\\u00a0\\u00a0\\u00a0\\u00a0\\u00a0\\u00a0 Whatever you focus on expands.\\u00a0\\u00a0 5.\\u00a0\\u00a0\\u00a0\\u00a0\\u00a0\\u00a0 Your connection to the field provides accurate and unlimited guidance.6.\\u00a0\\u00a0\\u00a0\\u00a0\\u00a0\\u00a0 Your thoughts and consciousness impact matter.\\u00a07.\\u00a0\\u00a0\\u00a0\\u00a0\\u00a0\\u00a0 Your thoughts and consciousness provide the scaffolding for your physical body.8.\\u00a0\\u00a0\\u00a0\\u00a0\\u00a0\\u00a0 You are connected to everything and everyone else in the universe. 9.\\u00a0\\u00a0\\u00a0\\u00a0\\u00a0\\u00a0 The universe is limitless, abundant, and strangely accommodating.\",\n          \"A rookie lawyer, crime mogul and junior reporter all converge in London's underworld of glamour, crime and greed. Set in a city rocked by corruption and tabloid excess, one of them is going to learn that sometimes in life you get more than you bargained forJukebox is Saira Viola's brilliant full length debut novel.\\\"A great amount has been done in literature over the years but every now and then someone comes along and shows us a completely different approach to the ancient art of the scribe . So hail Saira Viola and discover her twisted and beautiful imagination. Literature needs Saira Viola . Her writing is sharp direct and gripping. The latest research shows there is no one like her.\\\" Benjamin Zephaniah\\\" A fresh faced voice to herald in the apocalypse .Posers beware .This is the real deal.\\\" Jonathan Shaw\\\"Injecting musical prose into a dying genre and one sorely needing a shot in the arm .What Viola has proven is the great novel is not incompatible with virtuosic poetics.\\\"James Browning Kepple\\\"I enjoyed this piece's in-your-face quality.\\\"Robin Wyatt Dunn\\\"Guy Ritchie meets Martin Amis.......stunning.\\\"Betsy Reavley\"\n        ],\n        \"semantic_type\": \"\",\n        \"description\": \"\"\n      }\n    },\n    {\n      \"column\": \"Genres\",\n      \"properties\": {\n        \"dtype\": \"string\",\n        \"num_unique_values\": 8043,\n        \"samples\": [\n          \"['Fantasy', 'Romance', 'Time Travel', 'Christian Fiction', 'Young Adult', 'Christian Fantasy']\",\n          \"['Fantasy', 'Young Adult', 'Dystopia', 'Romance', 'Young Adult Fantasy', 'Fiction', 'Magic']\",\n          \"['Fiction', 'Classics', 'Romance', 'India', 'Novels', 'Indian Literature', 'Historical']\"\n        ],\n        \"semantic_type\": \"\",\n        \"description\": \"\"\n      }\n    },\n    {\n      \"column\": \"Avg_Rating\",\n      \"properties\": {\n        \"dtype\": \"number\",\n        \"std\": 0.3353586015150974,\n        \"min\": 0.0,\n        \"max\": 5.0,\n        \"num_unique_values\": 211,\n        \"samples\": [\n          3.9,\n          4.93,\n          3.24\n        ],\n        \"semantic_type\": \"\",\n        \"description\": \"\"\n      }\n    },\n    {\n      \"column\": \"Num_Ratings\",\n      \"properties\": {\n        \"dtype\": \"string\",\n        \"num_unique_values\": 7545,\n        \"samples\": [\n          \"10,144\",\n          \"295,059\",\n          \"25,501\"\n        ],\n        \"semantic_type\": \"\",\n        \"description\": \"\"\n      }\n    },\n    {\n      \"column\": \"URL\",\n      \"properties\": {\n        \"dtype\": \"string\",\n        \"num_unique_values\": 10000,\n        \"samples\": [\n          \"https://www.goodreads.com/book/show/53397.El_amor_las_mujeres_y_la_vida\",\n          \"https://www.goodreads.com/book/show/17262100-the-lowland\",\n          \"https://www.goodreads.com/book/show/35068432-i-ll-be-gone-in-the-dark\"\n        ],\n        \"semantic_type\": \"\",\n        \"description\": \"\"\n      }\n    }\n  ]\n}"
            }
          },
          "metadata": {},
          "execution_count": 2
        }
      ]
    },
    {
      "cell_type": "code",
      "source": [
        "jumlah_data = len(df)\n",
        "print(jumlah_data)"
      ],
      "metadata": {
        "colab": {
          "base_uri": "https://localhost:8080/"
        },
        "id": "h7Vyun2w1XXW",
        "outputId": "d397190d-04aa-4247-8992-110cfa20f0c3"
      },
      "execution_count": 3,
      "outputs": [
        {
          "output_type": "stream",
          "name": "stdout",
          "text": [
            "10000\n"
          ]
        }
      ]
    },
    {
      "cell_type": "code",
      "source": [
        "df.describe()"
      ],
      "metadata": {
        "colab": {
          "base_uri": "https://localhost:8080/",
          "height": 300
        },
        "id": "OG2c5m5d2b6p",
        "outputId": "6fe21b13-5c87-4a76-f2da-720890b36e99"
      },
      "execution_count": 4,
      "outputs": [
        {
          "output_type": "execute_result",
          "data": {
            "text/plain": [
              "        Unnamed: 0    Avg_Rating\n",
              "count  10000.00000  10000.000000\n",
              "mean    4999.50000      4.068577\n",
              "std     2886.89568      0.335359\n",
              "min        0.00000      0.000000\n",
              "25%     2499.75000      3.880000\n",
              "50%     4999.50000      4.080000\n",
              "75%     7499.25000      4.260000\n",
              "max     9999.00000      5.000000"
            ],
            "text/html": [
              "\n",
              "  <div id=\"df-5e17cd16-aecb-40b6-864d-1a69d66ea14f\" class=\"colab-df-container\">\n",
              "    <div>\n",
              "<style scoped>\n",
              "    .dataframe tbody tr th:only-of-type {\n",
              "        vertical-align: middle;\n",
              "    }\n",
              "\n",
              "    .dataframe tbody tr th {\n",
              "        vertical-align: top;\n",
              "    }\n",
              "\n",
              "    .dataframe thead th {\n",
              "        text-align: right;\n",
              "    }\n",
              "</style>\n",
              "<table border=\"1\" class=\"dataframe\">\n",
              "  <thead>\n",
              "    <tr style=\"text-align: right;\">\n",
              "      <th></th>\n",
              "      <th>Unnamed: 0</th>\n",
              "      <th>Avg_Rating</th>\n",
              "    </tr>\n",
              "  </thead>\n",
              "  <tbody>\n",
              "    <tr>\n",
              "      <th>count</th>\n",
              "      <td>10000.00000</td>\n",
              "      <td>10000.000000</td>\n",
              "    </tr>\n",
              "    <tr>\n",
              "      <th>mean</th>\n",
              "      <td>4999.50000</td>\n",
              "      <td>4.068577</td>\n",
              "    </tr>\n",
              "    <tr>\n",
              "      <th>std</th>\n",
              "      <td>2886.89568</td>\n",
              "      <td>0.335359</td>\n",
              "    </tr>\n",
              "    <tr>\n",
              "      <th>min</th>\n",
              "      <td>0.00000</td>\n",
              "      <td>0.000000</td>\n",
              "    </tr>\n",
              "    <tr>\n",
              "      <th>25%</th>\n",
              "      <td>2499.75000</td>\n",
              "      <td>3.880000</td>\n",
              "    </tr>\n",
              "    <tr>\n",
              "      <th>50%</th>\n",
              "      <td>4999.50000</td>\n",
              "      <td>4.080000</td>\n",
              "    </tr>\n",
              "    <tr>\n",
              "      <th>75%</th>\n",
              "      <td>7499.25000</td>\n",
              "      <td>4.260000</td>\n",
              "    </tr>\n",
              "    <tr>\n",
              "      <th>max</th>\n",
              "      <td>9999.00000</td>\n",
              "      <td>5.000000</td>\n",
              "    </tr>\n",
              "  </tbody>\n",
              "</table>\n",
              "</div>\n",
              "    <div class=\"colab-df-buttons\">\n",
              "\n",
              "  <div class=\"colab-df-container\">\n",
              "    <button class=\"colab-df-convert\" onclick=\"convertToInteractive('df-5e17cd16-aecb-40b6-864d-1a69d66ea14f')\"\n",
              "            title=\"Convert this dataframe to an interactive table.\"\n",
              "            style=\"display:none;\">\n",
              "\n",
              "  <svg xmlns=\"http://www.w3.org/2000/svg\" height=\"24px\" viewBox=\"0 -960 960 960\">\n",
              "    <path d=\"M120-120v-720h720v720H120Zm60-500h600v-160H180v160Zm220 220h160v-160H400v160Zm0 220h160v-160H400v160ZM180-400h160v-160H180v160Zm440 0h160v-160H620v160ZM180-180h160v-160H180v160Zm440 0h160v-160H620v160Z\"/>\n",
              "  </svg>\n",
              "    </button>\n",
              "\n",
              "  <style>\n",
              "    .colab-df-container {\n",
              "      display:flex;\n",
              "      gap: 12px;\n",
              "    }\n",
              "\n",
              "    .colab-df-convert {\n",
              "      background-color: #E8F0FE;\n",
              "      border: none;\n",
              "      border-radius: 50%;\n",
              "      cursor: pointer;\n",
              "      display: none;\n",
              "      fill: #1967D2;\n",
              "      height: 32px;\n",
              "      padding: 0 0 0 0;\n",
              "      width: 32px;\n",
              "    }\n",
              "\n",
              "    .colab-df-convert:hover {\n",
              "      background-color: #E2EBFA;\n",
              "      box-shadow: 0px 1px 2px rgba(60, 64, 67, 0.3), 0px 1px 3px 1px rgba(60, 64, 67, 0.15);\n",
              "      fill: #174EA6;\n",
              "    }\n",
              "\n",
              "    .colab-df-buttons div {\n",
              "      margin-bottom: 4px;\n",
              "    }\n",
              "\n",
              "    [theme=dark] .colab-df-convert {\n",
              "      background-color: #3B4455;\n",
              "      fill: #D2E3FC;\n",
              "    }\n",
              "\n",
              "    [theme=dark] .colab-df-convert:hover {\n",
              "      background-color: #434B5C;\n",
              "      box-shadow: 0px 1px 3px 1px rgba(0, 0, 0, 0.15);\n",
              "      filter: drop-shadow(0px 1px 2px rgba(0, 0, 0, 0.3));\n",
              "      fill: #FFFFFF;\n",
              "    }\n",
              "  </style>\n",
              "\n",
              "    <script>\n",
              "      const buttonEl =\n",
              "        document.querySelector('#df-5e17cd16-aecb-40b6-864d-1a69d66ea14f button.colab-df-convert');\n",
              "      buttonEl.style.display =\n",
              "        google.colab.kernel.accessAllowed ? 'block' : 'none';\n",
              "\n",
              "      async function convertToInteractive(key) {\n",
              "        const element = document.querySelector('#df-5e17cd16-aecb-40b6-864d-1a69d66ea14f');\n",
              "        const dataTable =\n",
              "          await google.colab.kernel.invokeFunction('convertToInteractive',\n",
              "                                                    [key], {});\n",
              "        if (!dataTable) return;\n",
              "\n",
              "        const docLinkHtml = 'Like what you see? Visit the ' +\n",
              "          '<a target=\"_blank\" href=https://colab.research.google.com/notebooks/data_table.ipynb>data table notebook</a>'\n",
              "          + ' to learn more about interactive tables.';\n",
              "        element.innerHTML = '';\n",
              "        dataTable['output_type'] = 'display_data';\n",
              "        await google.colab.output.renderOutput(dataTable, element);\n",
              "        const docLink = document.createElement('div');\n",
              "        docLink.innerHTML = docLinkHtml;\n",
              "        element.appendChild(docLink);\n",
              "      }\n",
              "    </script>\n",
              "  </div>\n",
              "\n",
              "\n",
              "    <div id=\"df-3908960b-fa55-4db9-bb39-1656c29de0df\">\n",
              "      <button class=\"colab-df-quickchart\" onclick=\"quickchart('df-3908960b-fa55-4db9-bb39-1656c29de0df')\"\n",
              "                title=\"Suggest charts\"\n",
              "                style=\"display:none;\">\n",
              "\n",
              "<svg xmlns=\"http://www.w3.org/2000/svg\" height=\"24px\"viewBox=\"0 0 24 24\"\n",
              "     width=\"24px\">\n",
              "    <g>\n",
              "        <path d=\"M19 3H5c-1.1 0-2 .9-2 2v14c0 1.1.9 2 2 2h14c1.1 0 2-.9 2-2V5c0-1.1-.9-2-2-2zM9 17H7v-7h2v7zm4 0h-2V7h2v10zm4 0h-2v-4h2v4z\"/>\n",
              "    </g>\n",
              "</svg>\n",
              "      </button>\n",
              "\n",
              "<style>\n",
              "  .colab-df-quickchart {\n",
              "      --bg-color: #E8F0FE;\n",
              "      --fill-color: #1967D2;\n",
              "      --hover-bg-color: #E2EBFA;\n",
              "      --hover-fill-color: #174EA6;\n",
              "      --disabled-fill-color: #AAA;\n",
              "      --disabled-bg-color: #DDD;\n",
              "  }\n",
              "\n",
              "  [theme=dark] .colab-df-quickchart {\n",
              "      --bg-color: #3B4455;\n",
              "      --fill-color: #D2E3FC;\n",
              "      --hover-bg-color: #434B5C;\n",
              "      --hover-fill-color: #FFFFFF;\n",
              "      --disabled-bg-color: #3B4455;\n",
              "      --disabled-fill-color: #666;\n",
              "  }\n",
              "\n",
              "  .colab-df-quickchart {\n",
              "    background-color: var(--bg-color);\n",
              "    border: none;\n",
              "    border-radius: 50%;\n",
              "    cursor: pointer;\n",
              "    display: none;\n",
              "    fill: var(--fill-color);\n",
              "    height: 32px;\n",
              "    padding: 0;\n",
              "    width: 32px;\n",
              "  }\n",
              "\n",
              "  .colab-df-quickchart:hover {\n",
              "    background-color: var(--hover-bg-color);\n",
              "    box-shadow: 0 1px 2px rgba(60, 64, 67, 0.3), 0 1px 3px 1px rgba(60, 64, 67, 0.15);\n",
              "    fill: var(--button-hover-fill-color);\n",
              "  }\n",
              "\n",
              "  .colab-df-quickchart-complete:disabled,\n",
              "  .colab-df-quickchart-complete:disabled:hover {\n",
              "    background-color: var(--disabled-bg-color);\n",
              "    fill: var(--disabled-fill-color);\n",
              "    box-shadow: none;\n",
              "  }\n",
              "\n",
              "  .colab-df-spinner {\n",
              "    border: 2px solid var(--fill-color);\n",
              "    border-color: transparent;\n",
              "    border-bottom-color: var(--fill-color);\n",
              "    animation:\n",
              "      spin 1s steps(1) infinite;\n",
              "  }\n",
              "\n",
              "  @keyframes spin {\n",
              "    0% {\n",
              "      border-color: transparent;\n",
              "      border-bottom-color: var(--fill-color);\n",
              "      border-left-color: var(--fill-color);\n",
              "    }\n",
              "    20% {\n",
              "      border-color: transparent;\n",
              "      border-left-color: var(--fill-color);\n",
              "      border-top-color: var(--fill-color);\n",
              "    }\n",
              "    30% {\n",
              "      border-color: transparent;\n",
              "      border-left-color: var(--fill-color);\n",
              "      border-top-color: var(--fill-color);\n",
              "      border-right-color: var(--fill-color);\n",
              "    }\n",
              "    40% {\n",
              "      border-color: transparent;\n",
              "      border-right-color: var(--fill-color);\n",
              "      border-top-color: var(--fill-color);\n",
              "    }\n",
              "    60% {\n",
              "      border-color: transparent;\n",
              "      border-right-color: var(--fill-color);\n",
              "    }\n",
              "    80% {\n",
              "      border-color: transparent;\n",
              "      border-right-color: var(--fill-color);\n",
              "      border-bottom-color: var(--fill-color);\n",
              "    }\n",
              "    90% {\n",
              "      border-color: transparent;\n",
              "      border-bottom-color: var(--fill-color);\n",
              "    }\n",
              "  }\n",
              "</style>\n",
              "\n",
              "      <script>\n",
              "        async function quickchart(key) {\n",
              "          const quickchartButtonEl =\n",
              "            document.querySelector('#' + key + ' button');\n",
              "          quickchartButtonEl.disabled = true;  // To prevent multiple clicks.\n",
              "          quickchartButtonEl.classList.add('colab-df-spinner');\n",
              "          try {\n",
              "            const charts = await google.colab.kernel.invokeFunction(\n",
              "                'suggestCharts', [key], {});\n",
              "          } catch (error) {\n",
              "            console.error('Error during call to suggestCharts:', error);\n",
              "          }\n",
              "          quickchartButtonEl.classList.remove('colab-df-spinner');\n",
              "          quickchartButtonEl.classList.add('colab-df-quickchart-complete');\n",
              "        }\n",
              "        (() => {\n",
              "          let quickchartButtonEl =\n",
              "            document.querySelector('#df-3908960b-fa55-4db9-bb39-1656c29de0df button');\n",
              "          quickchartButtonEl.style.display =\n",
              "            google.colab.kernel.accessAllowed ? 'block' : 'none';\n",
              "        })();\n",
              "      </script>\n",
              "    </div>\n",
              "\n",
              "    </div>\n",
              "  </div>\n"
            ],
            "application/vnd.google.colaboratory.intrinsic+json": {
              "type": "dataframe",
              "summary": "{\n  \"name\": \"df\",\n  \"rows\": 8,\n  \"fields\": [\n    {\n      \"column\": \"Unnamed: 0\",\n      \"properties\": {\n        \"dtype\": \"number\",\n        \"std\": 3603.8294157747096,\n        \"min\": 0.0,\n        \"max\": 10000.0,\n        \"num_unique_values\": 7,\n        \"samples\": [\n          10000.0,\n          4999.5,\n          7499.25\n        ],\n        \"semantic_type\": \"\",\n        \"description\": \"\"\n      }\n    },\n    {\n      \"column\": \"Avg_Rating\",\n      \"properties\": {\n        \"dtype\": \"number\",\n        \"std\": 3534.4422317259737,\n        \"min\": 0.0,\n        \"max\": 10000.0,\n        \"num_unique_values\": 8,\n        \"samples\": [\n          4.068576999999999,\n          4.08,\n          10000.0\n        ],\n        \"semantic_type\": \"\",\n        \"description\": \"\"\n      }\n    }\n  ]\n}"
            }
          },
          "metadata": {},
          "execution_count": 4
        }
      ]
    },
    {
      "cell_type": "code",
      "source": [
        "df.info()"
      ],
      "metadata": {
        "colab": {
          "base_uri": "https://localhost:8080/"
        },
        "id": "dlPllD9Z2k42",
        "outputId": "a23fe9ff-c363-4083-bffe-782d5f2eebd3"
      },
      "execution_count": 5,
      "outputs": [
        {
          "output_type": "stream",
          "name": "stdout",
          "text": [
            "<class 'pandas.core.frame.DataFrame'>\n",
            "RangeIndex: 10000 entries, 0 to 9999\n",
            "Data columns (total 8 columns):\n",
            " #   Column       Non-Null Count  Dtype  \n",
            "---  ------       --------------  -----  \n",
            " 0   Unnamed: 0   10000 non-null  int64  \n",
            " 1   Book         10000 non-null  object \n",
            " 2   Author       10000 non-null  object \n",
            " 3   Description  9923 non-null   object \n",
            " 4   Genres       10000 non-null  object \n",
            " 5   Avg_Rating   10000 non-null  float64\n",
            " 6   Num_Ratings  10000 non-null  object \n",
            " 7   URL          10000 non-null  object \n",
            "dtypes: float64(1), int64(1), object(6)\n",
            "memory usage: 625.1+ KB\n"
          ]
        }
      ]
    },
    {
      "cell_type": "markdown",
      "source": [
        "## PREPROCESSING"
      ],
      "metadata": {
        "id": "5Rj2W5pW2oSI"
      }
    },
    {
      "cell_type": "code",
      "source": [
        "df.duplicated().sum()"
      ],
      "metadata": {
        "colab": {
          "base_uri": "https://localhost:8080/"
        },
        "id": "c8qluH6v2qYq",
        "outputId": "cfeeb3ef-bafa-47e2-d2db-f4aa93cf7f0b"
      },
      "execution_count": 6,
      "outputs": [
        {
          "output_type": "execute_result",
          "data": {
            "text/plain": [
              "np.int64(0)"
            ]
          },
          "metadata": {},
          "execution_count": 6
        }
      ]
    },
    {
      "cell_type": "code",
      "source": [
        "df.isnull().sum()\n",
        "df = df.dropna()"
      ],
      "metadata": {
        "id": "I9OL6LrS2tw6"
      },
      "execution_count": 7,
      "outputs": []
    },
    {
      "cell_type": "code",
      "source": [
        "#  Hapus kolom 'Unnamed: 0' dan 'URL' jika ada\n",
        "columns_to_drop = [col for col in ['Unnamed: 0', 'URL'] if col in df.columns]\n",
        "df.drop(columns=columns_to_drop, inplace=True)"
      ],
      "metadata": {
        "id": "8JaGjei23Ll0"
      },
      "execution_count": 8,
      "outputs": []
    },
    {
      "cell_type": "code",
      "source": [
        "#  Konversi 'Num_Ratings' dari string ke integer (hilangkan koma)\n",
        "df['Num_Ratings'] = df['Num_Ratings'].str.replace(',', '').astype(int)\n",
        "\n",
        "# Lihat hasilnya\n",
        "print(df.dtypes)\n",
        "print(df.head())"
      ],
      "metadata": {
        "colab": {
          "base_uri": "https://localhost:8080/"
        },
        "id": "DE65sVELXPXA",
        "outputId": "a0021a9a-9bce-40c2-9560-b02b6b675859"
      },
      "execution_count": 9,
      "outputs": [
        {
          "output_type": "stream",
          "name": "stdout",
          "text": [
            "Book            object\n",
            "Author          object\n",
            "Description     object\n",
            "Genres          object\n",
            "Avg_Rating     float64\n",
            "Num_Ratings      int64\n",
            "dtype: object\n",
            "                                                Book         Author  \\\n",
            "0                              To Kill a Mockingbird     Harper Lee   \n",
            "1  Harry Potter and the Philosopher’s Stone (Harr...   J.K. Rowling   \n",
            "2                                Pride and Prejudice    Jane Austen   \n",
            "3                          The Diary of a Young Girl     Anne Frank   \n",
            "4                                        Animal Farm  George Orwell   \n",
            "\n",
            "                                         Description  \\\n",
            "0  The unforgettable novel of a childhood in a sl...   \n",
            "1  Harry Potter thinks he is an ordinary boy - un...   \n",
            "2  Since its immediate success in 1813, Pride and...   \n",
            "3  Discovered in the attic in which she spent the...   \n",
            "4  Librarian's note: There is an Alternate Cover ...   \n",
            "\n",
            "                                              Genres  Avg_Rating  Num_Ratings  \n",
            "0  ['Classics', 'Fiction', 'Historical Fiction', ...        4.27      5691311  \n",
            "1  ['Fantasy', 'Fiction', 'Young Adult', 'Magic',...        4.47      9278135  \n",
            "2  ['Classics', 'Fiction', 'Romance', 'Historical...        4.28      3944155  \n",
            "3  ['Classics', 'Nonfiction', 'History', 'Biograp...        4.18      3488438  \n",
            "4  ['Classics', 'Fiction', 'Dystopia', 'Fantasy',...        3.98      3575172  \n"
          ]
        }
      ]
    },
    {
      "cell_type": "code",
      "source": [
        "df.head()"
      ],
      "metadata": {
        "colab": {
          "base_uri": "https://localhost:8080/",
          "height": 206
        },
        "id": "DqRkIRIS5Zf-",
        "outputId": "ef13655a-8cc4-4be9-c80b-288a03085b78"
      },
      "execution_count": 10,
      "outputs": [
        {
          "output_type": "execute_result",
          "data": {
            "text/plain": [
              "                                                Book         Author  \\\n",
              "0                              To Kill a Mockingbird     Harper Lee   \n",
              "1  Harry Potter and the Philosopher’s Stone (Harr...   J.K. Rowling   \n",
              "2                                Pride and Prejudice    Jane Austen   \n",
              "3                          The Diary of a Young Girl     Anne Frank   \n",
              "4                                        Animal Farm  George Orwell   \n",
              "\n",
              "                                         Description  \\\n",
              "0  The unforgettable novel of a childhood in a sl...   \n",
              "1  Harry Potter thinks he is an ordinary boy - un...   \n",
              "2  Since its immediate success in 1813, Pride and...   \n",
              "3  Discovered in the attic in which she spent the...   \n",
              "4  Librarian's note: There is an Alternate Cover ...   \n",
              "\n",
              "                                              Genres  Avg_Rating  Num_Ratings  \n",
              "0  ['Classics', 'Fiction', 'Historical Fiction', ...        4.27      5691311  \n",
              "1  ['Fantasy', 'Fiction', 'Young Adult', 'Magic',...        4.47      9278135  \n",
              "2  ['Classics', 'Fiction', 'Romance', 'Historical...        4.28      3944155  \n",
              "3  ['Classics', 'Nonfiction', 'History', 'Biograp...        4.18      3488438  \n",
              "4  ['Classics', 'Fiction', 'Dystopia', 'Fantasy',...        3.98      3575172  "
            ],
            "text/html": [
              "\n",
              "  <div id=\"df-1601d078-d170-4125-8072-8f18a8af9805\" class=\"colab-df-container\">\n",
              "    <div>\n",
              "<style scoped>\n",
              "    .dataframe tbody tr th:only-of-type {\n",
              "        vertical-align: middle;\n",
              "    }\n",
              "\n",
              "    .dataframe tbody tr th {\n",
              "        vertical-align: top;\n",
              "    }\n",
              "\n",
              "    .dataframe thead th {\n",
              "        text-align: right;\n",
              "    }\n",
              "</style>\n",
              "<table border=\"1\" class=\"dataframe\">\n",
              "  <thead>\n",
              "    <tr style=\"text-align: right;\">\n",
              "      <th></th>\n",
              "      <th>Book</th>\n",
              "      <th>Author</th>\n",
              "      <th>Description</th>\n",
              "      <th>Genres</th>\n",
              "      <th>Avg_Rating</th>\n",
              "      <th>Num_Ratings</th>\n",
              "    </tr>\n",
              "  </thead>\n",
              "  <tbody>\n",
              "    <tr>\n",
              "      <th>0</th>\n",
              "      <td>To Kill a Mockingbird</td>\n",
              "      <td>Harper Lee</td>\n",
              "      <td>The unforgettable novel of a childhood in a sl...</td>\n",
              "      <td>['Classics', 'Fiction', 'Historical Fiction', ...</td>\n",
              "      <td>4.27</td>\n",
              "      <td>5691311</td>\n",
              "    </tr>\n",
              "    <tr>\n",
              "      <th>1</th>\n",
              "      <td>Harry Potter and the Philosopher’s Stone (Harr...</td>\n",
              "      <td>J.K. Rowling</td>\n",
              "      <td>Harry Potter thinks he is an ordinary boy - un...</td>\n",
              "      <td>['Fantasy', 'Fiction', 'Young Adult', 'Magic',...</td>\n",
              "      <td>4.47</td>\n",
              "      <td>9278135</td>\n",
              "    </tr>\n",
              "    <tr>\n",
              "      <th>2</th>\n",
              "      <td>Pride and Prejudice</td>\n",
              "      <td>Jane Austen</td>\n",
              "      <td>Since its immediate success in 1813, Pride and...</td>\n",
              "      <td>['Classics', 'Fiction', 'Romance', 'Historical...</td>\n",
              "      <td>4.28</td>\n",
              "      <td>3944155</td>\n",
              "    </tr>\n",
              "    <tr>\n",
              "      <th>3</th>\n",
              "      <td>The Diary of a Young Girl</td>\n",
              "      <td>Anne Frank</td>\n",
              "      <td>Discovered in the attic in which she spent the...</td>\n",
              "      <td>['Classics', 'Nonfiction', 'History', 'Biograp...</td>\n",
              "      <td>4.18</td>\n",
              "      <td>3488438</td>\n",
              "    </tr>\n",
              "    <tr>\n",
              "      <th>4</th>\n",
              "      <td>Animal Farm</td>\n",
              "      <td>George Orwell</td>\n",
              "      <td>Librarian's note: There is an Alternate Cover ...</td>\n",
              "      <td>['Classics', 'Fiction', 'Dystopia', 'Fantasy',...</td>\n",
              "      <td>3.98</td>\n",
              "      <td>3575172</td>\n",
              "    </tr>\n",
              "  </tbody>\n",
              "</table>\n",
              "</div>\n",
              "    <div class=\"colab-df-buttons\">\n",
              "\n",
              "  <div class=\"colab-df-container\">\n",
              "    <button class=\"colab-df-convert\" onclick=\"convertToInteractive('df-1601d078-d170-4125-8072-8f18a8af9805')\"\n",
              "            title=\"Convert this dataframe to an interactive table.\"\n",
              "            style=\"display:none;\">\n",
              "\n",
              "  <svg xmlns=\"http://www.w3.org/2000/svg\" height=\"24px\" viewBox=\"0 -960 960 960\">\n",
              "    <path d=\"M120-120v-720h720v720H120Zm60-500h600v-160H180v160Zm220 220h160v-160H400v160Zm0 220h160v-160H400v160ZM180-400h160v-160H180v160Zm440 0h160v-160H620v160ZM180-180h160v-160H180v160Zm440 0h160v-160H620v160Z\"/>\n",
              "  </svg>\n",
              "    </button>\n",
              "\n",
              "  <style>\n",
              "    .colab-df-container {\n",
              "      display:flex;\n",
              "      gap: 12px;\n",
              "    }\n",
              "\n",
              "    .colab-df-convert {\n",
              "      background-color: #E8F0FE;\n",
              "      border: none;\n",
              "      border-radius: 50%;\n",
              "      cursor: pointer;\n",
              "      display: none;\n",
              "      fill: #1967D2;\n",
              "      height: 32px;\n",
              "      padding: 0 0 0 0;\n",
              "      width: 32px;\n",
              "    }\n",
              "\n",
              "    .colab-df-convert:hover {\n",
              "      background-color: #E2EBFA;\n",
              "      box-shadow: 0px 1px 2px rgba(60, 64, 67, 0.3), 0px 1px 3px 1px rgba(60, 64, 67, 0.15);\n",
              "      fill: #174EA6;\n",
              "    }\n",
              "\n",
              "    .colab-df-buttons div {\n",
              "      margin-bottom: 4px;\n",
              "    }\n",
              "\n",
              "    [theme=dark] .colab-df-convert {\n",
              "      background-color: #3B4455;\n",
              "      fill: #D2E3FC;\n",
              "    }\n",
              "\n",
              "    [theme=dark] .colab-df-convert:hover {\n",
              "      background-color: #434B5C;\n",
              "      box-shadow: 0px 1px 3px 1px rgba(0, 0, 0, 0.15);\n",
              "      filter: drop-shadow(0px 1px 2px rgba(0, 0, 0, 0.3));\n",
              "      fill: #FFFFFF;\n",
              "    }\n",
              "  </style>\n",
              "\n",
              "    <script>\n",
              "      const buttonEl =\n",
              "        document.querySelector('#df-1601d078-d170-4125-8072-8f18a8af9805 button.colab-df-convert');\n",
              "      buttonEl.style.display =\n",
              "        google.colab.kernel.accessAllowed ? 'block' : 'none';\n",
              "\n",
              "      async function convertToInteractive(key) {\n",
              "        const element = document.querySelector('#df-1601d078-d170-4125-8072-8f18a8af9805');\n",
              "        const dataTable =\n",
              "          await google.colab.kernel.invokeFunction('convertToInteractive',\n",
              "                                                    [key], {});\n",
              "        if (!dataTable) return;\n",
              "\n",
              "        const docLinkHtml = 'Like what you see? Visit the ' +\n",
              "          '<a target=\"_blank\" href=https://colab.research.google.com/notebooks/data_table.ipynb>data table notebook</a>'\n",
              "          + ' to learn more about interactive tables.';\n",
              "        element.innerHTML = '';\n",
              "        dataTable['output_type'] = 'display_data';\n",
              "        await google.colab.output.renderOutput(dataTable, element);\n",
              "        const docLink = document.createElement('div');\n",
              "        docLink.innerHTML = docLinkHtml;\n",
              "        element.appendChild(docLink);\n",
              "      }\n",
              "    </script>\n",
              "  </div>\n",
              "\n",
              "\n",
              "    <div id=\"df-261b66b2-1c50-4844-9995-bcea35bb2a4d\">\n",
              "      <button class=\"colab-df-quickchart\" onclick=\"quickchart('df-261b66b2-1c50-4844-9995-bcea35bb2a4d')\"\n",
              "                title=\"Suggest charts\"\n",
              "                style=\"display:none;\">\n",
              "\n",
              "<svg xmlns=\"http://www.w3.org/2000/svg\" height=\"24px\"viewBox=\"0 0 24 24\"\n",
              "     width=\"24px\">\n",
              "    <g>\n",
              "        <path d=\"M19 3H5c-1.1 0-2 .9-2 2v14c0 1.1.9 2 2 2h14c1.1 0 2-.9 2-2V5c0-1.1-.9-2-2-2zM9 17H7v-7h2v7zm4 0h-2V7h2v10zm4 0h-2v-4h2v4z\"/>\n",
              "    </g>\n",
              "</svg>\n",
              "      </button>\n",
              "\n",
              "<style>\n",
              "  .colab-df-quickchart {\n",
              "      --bg-color: #E8F0FE;\n",
              "      --fill-color: #1967D2;\n",
              "      --hover-bg-color: #E2EBFA;\n",
              "      --hover-fill-color: #174EA6;\n",
              "      --disabled-fill-color: #AAA;\n",
              "      --disabled-bg-color: #DDD;\n",
              "  }\n",
              "\n",
              "  [theme=dark] .colab-df-quickchart {\n",
              "      --bg-color: #3B4455;\n",
              "      --fill-color: #D2E3FC;\n",
              "      --hover-bg-color: #434B5C;\n",
              "      --hover-fill-color: #FFFFFF;\n",
              "      --disabled-bg-color: #3B4455;\n",
              "      --disabled-fill-color: #666;\n",
              "  }\n",
              "\n",
              "  .colab-df-quickchart {\n",
              "    background-color: var(--bg-color);\n",
              "    border: none;\n",
              "    border-radius: 50%;\n",
              "    cursor: pointer;\n",
              "    display: none;\n",
              "    fill: var(--fill-color);\n",
              "    height: 32px;\n",
              "    padding: 0;\n",
              "    width: 32px;\n",
              "  }\n",
              "\n",
              "  .colab-df-quickchart:hover {\n",
              "    background-color: var(--hover-bg-color);\n",
              "    box-shadow: 0 1px 2px rgba(60, 64, 67, 0.3), 0 1px 3px 1px rgba(60, 64, 67, 0.15);\n",
              "    fill: var(--button-hover-fill-color);\n",
              "  }\n",
              "\n",
              "  .colab-df-quickchart-complete:disabled,\n",
              "  .colab-df-quickchart-complete:disabled:hover {\n",
              "    background-color: var(--disabled-bg-color);\n",
              "    fill: var(--disabled-fill-color);\n",
              "    box-shadow: none;\n",
              "  }\n",
              "\n",
              "  .colab-df-spinner {\n",
              "    border: 2px solid var(--fill-color);\n",
              "    border-color: transparent;\n",
              "    border-bottom-color: var(--fill-color);\n",
              "    animation:\n",
              "      spin 1s steps(1) infinite;\n",
              "  }\n",
              "\n",
              "  @keyframes spin {\n",
              "    0% {\n",
              "      border-color: transparent;\n",
              "      border-bottom-color: var(--fill-color);\n",
              "      border-left-color: var(--fill-color);\n",
              "    }\n",
              "    20% {\n",
              "      border-color: transparent;\n",
              "      border-left-color: var(--fill-color);\n",
              "      border-top-color: var(--fill-color);\n",
              "    }\n",
              "    30% {\n",
              "      border-color: transparent;\n",
              "      border-left-color: var(--fill-color);\n",
              "      border-top-color: var(--fill-color);\n",
              "      border-right-color: var(--fill-color);\n",
              "    }\n",
              "    40% {\n",
              "      border-color: transparent;\n",
              "      border-right-color: var(--fill-color);\n",
              "      border-top-color: var(--fill-color);\n",
              "    }\n",
              "    60% {\n",
              "      border-color: transparent;\n",
              "      border-right-color: var(--fill-color);\n",
              "    }\n",
              "    80% {\n",
              "      border-color: transparent;\n",
              "      border-right-color: var(--fill-color);\n",
              "      border-bottom-color: var(--fill-color);\n",
              "    }\n",
              "    90% {\n",
              "      border-color: transparent;\n",
              "      border-bottom-color: var(--fill-color);\n",
              "    }\n",
              "  }\n",
              "</style>\n",
              "\n",
              "      <script>\n",
              "        async function quickchart(key) {\n",
              "          const quickchartButtonEl =\n",
              "            document.querySelector('#' + key + ' button');\n",
              "          quickchartButtonEl.disabled = true;  // To prevent multiple clicks.\n",
              "          quickchartButtonEl.classList.add('colab-df-spinner');\n",
              "          try {\n",
              "            const charts = await google.colab.kernel.invokeFunction(\n",
              "                'suggestCharts', [key], {});\n",
              "          } catch (error) {\n",
              "            console.error('Error during call to suggestCharts:', error);\n",
              "          }\n",
              "          quickchartButtonEl.classList.remove('colab-df-spinner');\n",
              "          quickchartButtonEl.classList.add('colab-df-quickchart-complete');\n",
              "        }\n",
              "        (() => {\n",
              "          let quickchartButtonEl =\n",
              "            document.querySelector('#df-261b66b2-1c50-4844-9995-bcea35bb2a4d button');\n",
              "          quickchartButtonEl.style.display =\n",
              "            google.colab.kernel.accessAllowed ? 'block' : 'none';\n",
              "        })();\n",
              "      </script>\n",
              "    </div>\n",
              "\n",
              "    </div>\n",
              "  </div>\n"
            ],
            "application/vnd.google.colaboratory.intrinsic+json": {
              "type": "dataframe",
              "variable_name": "df",
              "summary": "{\n  \"name\": \"df\",\n  \"rows\": 9923,\n  \"fields\": [\n    {\n      \"column\": \"Book\",\n      \"properties\": {\n        \"dtype\": \"string\",\n        \"num_unique_values\": 9795,\n        \"samples\": [\n          \"The Poisonwood Bible\",\n          \"Les Mis\\u00e9rables\",\n          \"The Natural\"\n        ],\n        \"semantic_type\": \"\",\n        \"description\": \"\"\n      }\n    },\n    {\n      \"column\": \"Author\",\n      \"properties\": {\n        \"dtype\": \"string\",\n        \"num_unique_values\": 6009,\n        \"samples\": [\n          \"Pearl S. Buck\",\n          \"Kevin Hearne\",\n          \"William Kent Krueger\"\n        ],\n        \"semantic_type\": \"\",\n        \"description\": \"\"\n      }\n    },\n    {\n      \"column\": \"Description\",\n      \"properties\": {\n        \"dtype\": \"string\",\n        \"num_unique_values\": 9888,\n        \"samples\": [\n          \"What is leadership? What qualities do true leaders have? Can you learn to be a leader? These questions and more are answered. Described are the most common virtues of a leader and past and present examples.\",\n          \"Don\\u2019t face reality. Create reality!\\u00a0\\u00a0\\u00a0\\u00a0\\u00a0\\u00a0 \\nE-Squared\\n could best be described as a lab manual with simple experiments to prove once and for all that reality is malleable, that consciousness trumps matter, and that you shape your life with your mind. Rather than take it on faith, you are invited to conduct nine 48-hour experiments to prove there really is a positive, loving, totally hip force in the universe. Yes, you read that right. It says prove. \\u00a0\\u00a0\\u00a0\\u00a0\\u00a0 The experiments, each of which can be conducted with absolutely no money and very little time expenditure, demonstrate that spiritual principles are as dependable as gravity, as consistent as Newton\\u2019s\\u00a0laws of motion. For years, you\\u2019ve been hoping and praying that spiritual principles are true. Now, you can know. \\u00a0\\u00a0\\u00a0\\u00a0\\u00a0 E-Squared proves the following:\\u00a01.\\u00a0\\u00a0\\u00a0\\u00a0\\u00a0\\u00a0 There is an invisible energy force or field of infinite possibilities. 2.\\u00a0\\u00a0\\u00a0\\u00a0\\u00a0\\u00a0 You impact the field and draw from it according to your beliefs and expectations.\\u00a03.\\u00a0\\u00a0\\u00a0\\u00a0\\u00a0\\u00a0 You, too, are a field of energy.\\u00a04.\\u00a0\\u00a0\\u00a0\\u00a0\\u00a0\\u00a0 Whatever you focus on expands.\\u00a0\\u00a0 5.\\u00a0\\u00a0\\u00a0\\u00a0\\u00a0\\u00a0 Your connection to the field provides accurate and unlimited guidance.6.\\u00a0\\u00a0\\u00a0\\u00a0\\u00a0\\u00a0 Your thoughts and consciousness impact matter.\\u00a07.\\u00a0\\u00a0\\u00a0\\u00a0\\u00a0\\u00a0 Your thoughts and consciousness provide the scaffolding for your physical body.8.\\u00a0\\u00a0\\u00a0\\u00a0\\u00a0\\u00a0 You are connected to everything and everyone else in the universe. 9.\\u00a0\\u00a0\\u00a0\\u00a0\\u00a0\\u00a0 The universe is limitless, abundant, and strangely accommodating.\",\n          \"A rookie lawyer, crime mogul and junior reporter all converge in London's underworld of glamour, crime and greed. Set in a city rocked by corruption and tabloid excess, one of them is going to learn that sometimes in life you get more than you bargained forJukebox is Saira Viola's brilliant full length debut novel.\\\"A great amount has been done in literature over the years but every now and then someone comes along and shows us a completely different approach to the ancient art of the scribe . So hail Saira Viola and discover her twisted and beautiful imagination. Literature needs Saira Viola . Her writing is sharp direct and gripping. The latest research shows there is no one like her.\\\" Benjamin Zephaniah\\\" A fresh faced voice to herald in the apocalypse .Posers beware .This is the real deal.\\\" Jonathan Shaw\\\"Injecting musical prose into a dying genre and one sorely needing a shot in the arm .What Viola has proven is the great novel is not incompatible with virtuosic poetics.\\\"James Browning Kepple\\\"I enjoyed this piece's in-your-face quality.\\\"Robin Wyatt Dunn\\\"Guy Ritchie meets Martin Amis.......stunning.\\\"Betsy Reavley\"\n        ],\n        \"semantic_type\": \"\",\n        \"description\": \"\"\n      }\n    },\n    {\n      \"column\": \"Genres\",\n      \"properties\": {\n        \"dtype\": \"string\",\n        \"num_unique_values\": 8022,\n        \"samples\": [\n          \"['History', 'Biography', 'Nonfiction', 'Race', 'Historical', 'American', 'Womens']\",\n          \"['Young Adult', 'Fantasy', 'Paranormal', 'Romance', 'Fiction', 'Ghosts', 'Supernatural']\",\n          \"['Fantasy', 'Young Adult', 'Romance', 'Paranormal', 'Fairies', 'Fae', 'Fiction']\"\n        ],\n        \"semantic_type\": \"\",\n        \"description\": \"\"\n      }\n    },\n    {\n      \"column\": \"Avg_Rating\",\n      \"properties\": {\n        \"dtype\": \"number\",\n        \"std\": 0.3319367356051134,\n        \"min\": 0.0,\n        \"max\": 5.0,\n        \"num_unique_values\": 211,\n        \"samples\": [\n          3.9,\n          4.93,\n          3.24\n        ],\n        \"semantic_type\": \"\",\n        \"description\": \"\"\n      }\n    },\n    {\n      \"column\": \"Num_Ratings\",\n      \"properties\": {\n        \"dtype\": \"number\",\n        \"std\": 343376,\n        \"min\": 0,\n        \"max\": 9278135,\n        \"num_unique_values\": 7534,\n        \"samples\": [\n          18022,\n          40171,\n          99818\n        ],\n        \"semantic_type\": \"\",\n        \"description\": \"\"\n      }\n    }\n  ]\n}"
            }
          },
          "metadata": {},
          "execution_count": 10
        }
      ]
    },
    {
      "cell_type": "code",
      "source": [
        "df.info()"
      ],
      "metadata": {
        "colab": {
          "base_uri": "https://localhost:8080/"
        },
        "id": "elqMaPIr9pk6",
        "outputId": "99fae387-842e-4c37-91cd-55bd97aaaca6"
      },
      "execution_count": 11,
      "outputs": [
        {
          "output_type": "stream",
          "name": "stdout",
          "text": [
            "<class 'pandas.core.frame.DataFrame'>\n",
            "Index: 9923 entries, 0 to 9999\n",
            "Data columns (total 6 columns):\n",
            " #   Column       Non-Null Count  Dtype  \n",
            "---  ------       --------------  -----  \n",
            " 0   Book         9923 non-null   object \n",
            " 1   Author       9923 non-null   object \n",
            " 2   Description  9923 non-null   object \n",
            " 3   Genres       9923 non-null   object \n",
            " 4   Avg_Rating   9923 non-null   float64\n",
            " 5   Num_Ratings  9923 non-null   int64  \n",
            "dtypes: float64(1), int64(1), object(4)\n",
            "memory usage: 542.7+ KB\n"
          ]
        }
      ]
    },
    {
      "cell_type": "code",
      "source": [
        "# Pastikan 'Genres' diubah dari string ke list Python\n",
        "df['Genres'] = df['Genres'].apply(lambda x: ast.literal_eval(x))"
      ],
      "metadata": {
        "id": "p7yLS-8i-u_X"
      },
      "execution_count": 12,
      "outputs": []
    },
    {
      "cell_type": "code",
      "source": [
        "#  Multi-hot Encoding untuk Genres\n",
        "mlb = MultiLabelBinarizer()\n",
        "genres_encoded = mlb.fit_transform(df['Genres'])\n",
        "genres_df = pd.DataFrame(genres_encoded, columns=mlb.classes_)\n"
      ],
      "metadata": {
        "id": "qO1_DTUOXThW"
      },
      "execution_count": 13,
      "outputs": []
    },
    {
      "cell_type": "code",
      "source": [
        "\n",
        "#  TF-IDF Vectorization untuk Description\n",
        "# Kosongkan description yang null\n",
        "df['Description'] = df['Description'].fillna('')\n",
        "tfidf = TfidfVectorizer(max_features=300)  # Bisa disesuaikan jumlah fiturnya\n",
        "description_tfidf = tfidf.fit_transform(df['Description'])\n",
        "description_df = pd.DataFrame(description_tfidf.toarray(), columns=tfidf.get_feature_names_out())\n",
        "\n"
      ],
      "metadata": {
        "id": "Vb0vCK9eXTZk"
      },
      "execution_count": 14,
      "outputs": []
    },
    {
      "cell_type": "code",
      "source": [
        "#  Label Encoding untuk Author dan Book\n",
        "le_author = LabelEncoder()\n",
        "le_book = LabelEncoder()\n",
        "df['Author_ID'] = le_author.fit_transform(df['Author'])\n",
        "df['Book_ID'] = le_book.fit_transform(df['Book'])"
      ],
      "metadata": {
        "id": "ZDkCuH4vXXw2"
      },
      "execution_count": 15,
      "outputs": []
    },
    {
      "cell_type": "code",
      "source": [
        "# Gabungkan semua fitur jadi satu DataFrame (opsional)\n",
        "df_features = pd.concat([\n",
        "    df[['Book_ID', 'Author_ID', 'Avg_Rating', 'Num_Ratings']].reset_index(drop=True),\n",
        "    genres_df.reset_index(drop=True),\n",
        "    description_df.reset_index(drop=True)\n",
        "], axis=1)\n",
        "\n",
        "# Cek hasil akhir\n",
        "print(df_features.head())"
      ],
      "metadata": {
        "colab": {
          "base_uri": "https://localhost:8080/"
        },
        "id": "ntDFRLtBXbaB",
        "outputId": "62e39e8d-1fec-499d-bf55-724f43280766"
      },
      "execution_count": 16,
      "outputs": [
        {
          "output_type": "stream",
          "name": "stdout",
          "text": [
            "   Book_ID  Author_ID  Avg_Rating  Num_Ratings  12th Century  15th Century  \\\n",
            "0     8960       2094        4.27      5691311             0             0   \n",
            "1     2842       2331        4.47      9278135             0             0   \n",
            "2     4960       2475        4.28      3944155             0             0   \n",
            "3     6714        405        4.18      3488438             0             0   \n",
            "4      647       1942        3.98      3575172             0             0   \n",
            "\n",
            "   16th Century  17th Century  18th Century  19th Century  ...    world  \\\n",
            "0             0             0             0             0  ...  0.00000   \n",
            "1             0             0             0             0  ...  0.00000   \n",
            "2             0             0             0             0  ...  0.00000   \n",
            "3             0             0             0             0  ...  0.13357   \n",
            "4             0             0             0             0  ...  0.00000   \n",
            "\n",
            "   would  written      year     years  yet  york  you     young  your  \n",
            "0    0.0      0.0  0.000000  0.000000  0.0   0.0  0.0  0.118656   0.0  \n",
            "1    0.0      0.0  0.000000  0.000000  0.0   0.0  0.0  0.000000   0.0  \n",
            "2    0.0      0.0  0.000000  0.000000  0.0   0.0  0.0  0.000000   0.0  \n",
            "3    0.0      0.0  0.095522  0.166154  0.0   0.0  0.0  0.089852   0.0  \n",
            "4    0.0      0.0  0.000000  0.000000  0.0   0.0  0.0  0.000000   0.0  \n",
            "\n",
            "[5 rows x 921 columns]\n"
          ]
        }
      ]
    },
    {
      "cell_type": "code",
      "source": [
        "# Tampilkan 5 baris pertama sebelum normalisasi\n",
        "print(\"Sebelum normalisasi:\")\n",
        "print(df[['Avg_Rating', 'Num_Ratings']].head())"
      ],
      "metadata": {
        "colab": {
          "base_uri": "https://localhost:8080/"
        },
        "id": "c26ZoUvW_A1P",
        "outputId": "b3e4ca88-3186-4684-8ef3-aade07cb2dc2"
      },
      "execution_count": 17,
      "outputs": [
        {
          "output_type": "stream",
          "name": "stdout",
          "text": [
            "Sebelum normalisasi:\n",
            "   Avg_Rating  Num_Ratings\n",
            "0        4.27      5691311\n",
            "1        4.47      9278135\n",
            "2        4.28      3944155\n",
            "3        4.18      3488438\n",
            "4        3.98      3575172\n"
          ]
        }
      ]
    },
    {
      "cell_type": "code",
      "source": [
        "# Inisialisasi scaler\n",
        "scaler = MinMaxScaler()\n",
        "# Lakukan normalisasi\n",
        "df[['Avg_Rating_norm', 'Num_Ratings_norm']] = scaler.fit_transform(df[['Avg_Rating', 'Num_Ratings']])"
      ],
      "metadata": {
        "id": "F2_O5cPcXlZn"
      },
      "execution_count": 18,
      "outputs": []
    },
    {
      "cell_type": "code",
      "source": [
        "# Tampilkan 5 baris pertama setelah normalisasi\n",
        "print(\"\\nSetelah normalisasi:\")\n",
        "print(df[['Avg_Rating_norm', 'Num_Ratings_norm']].head())"
      ],
      "metadata": {
        "colab": {
          "base_uri": "https://localhost:8080/"
        },
        "id": "fSCOzYW0XqZB",
        "outputId": "0d1ac498-3177-466c-eb27-f5d4876d1899"
      },
      "execution_count": 19,
      "outputs": [
        {
          "output_type": "stream",
          "name": "stdout",
          "text": [
            "\n",
            "Setelah normalisasi:\n",
            "   Avg_Rating_norm  Num_Ratings_norm\n",
            "0            0.854          0.613411\n",
            "1            0.894          1.000000\n",
            "2            0.856          0.425102\n",
            "3            0.836          0.375985\n",
            "4            0.796          0.385333\n"
          ]
        }
      ]
    },
    {
      "cell_type": "code",
      "source": [
        "# Genre: multi-hot encoding ----------\n",
        "# Jika sudah list, cukup bersihkan isi list\n",
        "df['Genres'] = df['Genres'].apply(lambda x: [genre.strip() for genre in x] if isinstance(x, list) else [])\n",
        "mlb = MultiLabelBinarizer()\n",
        "genre_encoded = mlb.fit_transform(df['Genres'])\n",
        "genre_df = pd.DataFrame(genre_encoded, columns=mlb.classes_)"
      ],
      "metadata": {
        "id": "Kzcxflb8_54-"
      },
      "execution_count": 20,
      "outputs": []
    },
    {
      "cell_type": "code",
      "source": [
        "#  Deskripsi buku: TF-IDF ----------\n",
        "df['Description'] = df['Description'].fillna('')\n",
        "tfidf = TfidfVectorizer(max_features=100)\n",
        "desc_tfidf = tfidf.fit_transform(df['Description']).toarray()\n",
        "desc_df = pd.DataFrame(desc_tfidf, columns=tfidf.get_feature_names_out())"
      ],
      "metadata": {
        "id": "sB0RUhMQX0O5"
      },
      "execution_count": 21,
      "outputs": []
    },
    {
      "cell_type": "code",
      "source": [
        "# Gabungkan semua fitur ----------\n",
        "final_features = pd.concat([df[['Avg_Rating_norm']].reset_index(drop=True),\n",
        "                            genre_df.reset_index(drop=True),\n",
        "                            desc_df.reset_index(drop=True)], axis=1)\n",
        "\n",
        "print(\"Shape fitur akhir:\", final_features.shape)\n",
        "print(\"Contoh 5 baris fitur:\\n\", final_features.head())"
      ],
      "metadata": {
        "colab": {
          "base_uri": "https://localhost:8080/"
        },
        "id": "2Muh-B1HX2Uw",
        "outputId": "72f0d43a-5135-45da-9e01-a3a719effbff"
      },
      "execution_count": 22,
      "outputs": [
        {
          "output_type": "stream",
          "name": "stdout",
          "text": [
            "Shape fitur akhir: (9923, 718)\n",
            "Contoh 5 baris fitur:\n",
            "    Avg_Rating_norm  12th Century  15th Century  16th Century  17th Century  \\\n",
            "0            0.854             0             0             0             0   \n",
            "1            0.894             0             0             0             0   \n",
            "2            0.856             0             0             0             0   \n",
            "3            0.836             0             0             0             0   \n",
            "4            0.796             0             0             0             0   \n",
            "\n",
            "   18th Century  19th Century  20th Century  21st Century  Abuse  ...  who  \\\n",
            "0             0             0             0             0      0  ...  0.0   \n",
            "1             0             0             0             0      0  ...  0.0   \n",
            "2             0             0             0             0      0  ...  0.0   \n",
            "3             0             0             0             0      0  ...  0.0   \n",
            "4             0             0             0             0      0  ...  0.0   \n",
            "\n",
            "   will      with      work     world      year     years  you     young  your  \n",
            "0   0.0  0.070390  0.000000  0.000000  0.000000  0.000000  0.0  0.140414   0.0  \n",
            "1   0.0  0.000000  0.000000  0.000000  0.000000  0.000000  0.0  0.000000   0.0  \n",
            "2   0.0  0.000000  0.185155  0.000000  0.000000  0.000000  0.0  0.000000   0.0  \n",
            "3   0.0  0.052786  0.000000  0.156531  0.111943  0.194716  0.0  0.105297   0.0  \n",
            "4   0.0  0.083732  0.000000  0.000000  0.000000  0.000000  0.0  0.000000   0.0  \n",
            "\n",
            "[5 rows x 718 columns]\n"
          ]
        }
      ]
    },
    {
      "cell_type": "markdown",
      "source": [
        "## MODELLING"
      ],
      "metadata": {
        "id": "qOiDy5iFCNbt"
      }
    },
    {
      "cell_type": "code",
      "source": [
        "X = final_features.values\n",
        "print(\"Shape input ke model:\", X.shape)"
      ],
      "metadata": {
        "colab": {
          "base_uri": "https://localhost:8080/"
        },
        "id": "QVmwA1CQCOUz",
        "outputId": "2144cd86-7265-4d1f-a40e-b34575d2e431"
      },
      "execution_count": 23,
      "outputs": [
        {
          "output_type": "stream",
          "name": "stdout",
          "text": [
            "Shape input ke model: (9923, 718)\n"
          ]
        }
      ]
    },
    {
      "cell_type": "code",
      "source": [
        "input_layer = Input(shape=(X.shape[1],), name=\"input_layer\")\n",
        "\n",
        "# Encoder\n",
        "x = Dense(128, activation='relu')(input_layer)\n",
        "x = Dense(64, activation='relu')(x)\n",
        "embedding = Dense(32, activation='relu', name=\"embedding_output\")(x)\n",
        "\n",
        "# Decoder\n",
        "x = Dense(64, activation='relu')(embedding)\n",
        "x = Dense(128, activation='relu')(x)\n",
        "output_layer = Dense(X.shape[1], activation='linear')(x)  # Output shape sama seperti input\n",
        "\n",
        "# Bangun model autoencoder\n",
        "autoencoder = Model(inputs=input_layer, outputs=output_layer)\n",
        "autoencoder.compile(optimizer='adam', loss='mse')\n",
        "autoencoder.summary()\n"
      ],
      "metadata": {
        "colab": {
          "base_uri": "https://localhost:8080/",
          "height": 374
        },
        "id": "t2StibjHC0xX",
        "outputId": "5fa971f9-890c-4efd-9be5-6d6f1444653c"
      },
      "execution_count": 24,
      "outputs": [
        {
          "output_type": "display_data",
          "data": {
            "text/plain": [
              "\u001b[1mModel: \"functional\"\u001b[0m\n"
            ],
            "text/html": [
              "<pre style=\"white-space:pre;overflow-x:auto;line-height:normal;font-family:Menlo,'DejaVu Sans Mono',consolas,'Courier New',monospace\"><span style=\"font-weight: bold\">Model: \"functional\"</span>\n",
              "</pre>\n"
            ]
          },
          "metadata": {}
        },
        {
          "output_type": "display_data",
          "data": {
            "text/plain": [
              "┏━━━━━━━━━━━━━━━━━━━━━━━━━━━━━━━━━┳━━━━━━━━━━━━━━━━━━━━━━━━┳━━━━━━━━━━━━━━━┓\n",
              "┃\u001b[1m \u001b[0m\u001b[1mLayer (type)                   \u001b[0m\u001b[1m \u001b[0m┃\u001b[1m \u001b[0m\u001b[1mOutput Shape          \u001b[0m\u001b[1m \u001b[0m┃\u001b[1m \u001b[0m\u001b[1m      Param #\u001b[0m\u001b[1m \u001b[0m┃\n",
              "┡━━━━━━━━━━━━━━━━━━━━━━━━━━━━━━━━━╇━━━━━━━━━━━━━━━━━━━━━━━━╇━━━━━━━━━━━━━━━┩\n",
              "│ input_layer (\u001b[38;5;33mInputLayer\u001b[0m)        │ (\u001b[38;5;45mNone\u001b[0m, \u001b[38;5;34m718\u001b[0m)            │             \u001b[38;5;34m0\u001b[0m │\n",
              "├─────────────────────────────────┼────────────────────────┼───────────────┤\n",
              "│ dense (\u001b[38;5;33mDense\u001b[0m)                   │ (\u001b[38;5;45mNone\u001b[0m, \u001b[38;5;34m128\u001b[0m)            │        \u001b[38;5;34m92,032\u001b[0m │\n",
              "├─────────────────────────────────┼────────────────────────┼───────────────┤\n",
              "│ dense_1 (\u001b[38;5;33mDense\u001b[0m)                 │ (\u001b[38;5;45mNone\u001b[0m, \u001b[38;5;34m64\u001b[0m)             │         \u001b[38;5;34m8,256\u001b[0m │\n",
              "├─────────────────────────────────┼────────────────────────┼───────────────┤\n",
              "│ embedding_output (\u001b[38;5;33mDense\u001b[0m)        │ (\u001b[38;5;45mNone\u001b[0m, \u001b[38;5;34m32\u001b[0m)             │         \u001b[38;5;34m2,080\u001b[0m │\n",
              "├─────────────────────────────────┼────────────────────────┼───────────────┤\n",
              "│ dense_2 (\u001b[38;5;33mDense\u001b[0m)                 │ (\u001b[38;5;45mNone\u001b[0m, \u001b[38;5;34m64\u001b[0m)             │         \u001b[38;5;34m2,112\u001b[0m │\n",
              "├─────────────────────────────────┼────────────────────────┼───────────────┤\n",
              "│ dense_3 (\u001b[38;5;33mDense\u001b[0m)                 │ (\u001b[38;5;45mNone\u001b[0m, \u001b[38;5;34m128\u001b[0m)            │         \u001b[38;5;34m8,320\u001b[0m │\n",
              "├─────────────────────────────────┼────────────────────────┼───────────────┤\n",
              "│ dense_4 (\u001b[38;5;33mDense\u001b[0m)                 │ (\u001b[38;5;45mNone\u001b[0m, \u001b[38;5;34m718\u001b[0m)            │        \u001b[38;5;34m92,622\u001b[0m │\n",
              "└─────────────────────────────────┴────────────────────────┴───────────────┘\n"
            ],
            "text/html": [
              "<pre style=\"white-space:pre;overflow-x:auto;line-height:normal;font-family:Menlo,'DejaVu Sans Mono',consolas,'Courier New',monospace\">┏━━━━━━━━━━━━━━━━━━━━━━━━━━━━━━━━━┳━━━━━━━━━━━━━━━━━━━━━━━━┳━━━━━━━━━━━━━━━┓\n",
              "┃<span style=\"font-weight: bold\"> Layer (type)                    </span>┃<span style=\"font-weight: bold\"> Output Shape           </span>┃<span style=\"font-weight: bold\">       Param # </span>┃\n",
              "┡━━━━━━━━━━━━━━━━━━━━━━━━━━━━━━━━━╇━━━━━━━━━━━━━━━━━━━━━━━━╇━━━━━━━━━━━━━━━┩\n",
              "│ input_layer (<span style=\"color: #0087ff; text-decoration-color: #0087ff\">InputLayer</span>)        │ (<span style=\"color: #00d7ff; text-decoration-color: #00d7ff\">None</span>, <span style=\"color: #00af00; text-decoration-color: #00af00\">718</span>)            │             <span style=\"color: #00af00; text-decoration-color: #00af00\">0</span> │\n",
              "├─────────────────────────────────┼────────────────────────┼───────────────┤\n",
              "│ dense (<span style=\"color: #0087ff; text-decoration-color: #0087ff\">Dense</span>)                   │ (<span style=\"color: #00d7ff; text-decoration-color: #00d7ff\">None</span>, <span style=\"color: #00af00; text-decoration-color: #00af00\">128</span>)            │        <span style=\"color: #00af00; text-decoration-color: #00af00\">92,032</span> │\n",
              "├─────────────────────────────────┼────────────────────────┼───────────────┤\n",
              "│ dense_1 (<span style=\"color: #0087ff; text-decoration-color: #0087ff\">Dense</span>)                 │ (<span style=\"color: #00d7ff; text-decoration-color: #00d7ff\">None</span>, <span style=\"color: #00af00; text-decoration-color: #00af00\">64</span>)             │         <span style=\"color: #00af00; text-decoration-color: #00af00\">8,256</span> │\n",
              "├─────────────────────────────────┼────────────────────────┼───────────────┤\n",
              "│ embedding_output (<span style=\"color: #0087ff; text-decoration-color: #0087ff\">Dense</span>)        │ (<span style=\"color: #00d7ff; text-decoration-color: #00d7ff\">None</span>, <span style=\"color: #00af00; text-decoration-color: #00af00\">32</span>)             │         <span style=\"color: #00af00; text-decoration-color: #00af00\">2,080</span> │\n",
              "├─────────────────────────────────┼────────────────────────┼───────────────┤\n",
              "│ dense_2 (<span style=\"color: #0087ff; text-decoration-color: #0087ff\">Dense</span>)                 │ (<span style=\"color: #00d7ff; text-decoration-color: #00d7ff\">None</span>, <span style=\"color: #00af00; text-decoration-color: #00af00\">64</span>)             │         <span style=\"color: #00af00; text-decoration-color: #00af00\">2,112</span> │\n",
              "├─────────────────────────────────┼────────────────────────┼───────────────┤\n",
              "│ dense_3 (<span style=\"color: #0087ff; text-decoration-color: #0087ff\">Dense</span>)                 │ (<span style=\"color: #00d7ff; text-decoration-color: #00d7ff\">None</span>, <span style=\"color: #00af00; text-decoration-color: #00af00\">128</span>)            │         <span style=\"color: #00af00; text-decoration-color: #00af00\">8,320</span> │\n",
              "├─────────────────────────────────┼────────────────────────┼───────────────┤\n",
              "│ dense_4 (<span style=\"color: #0087ff; text-decoration-color: #0087ff\">Dense</span>)                 │ (<span style=\"color: #00d7ff; text-decoration-color: #00d7ff\">None</span>, <span style=\"color: #00af00; text-decoration-color: #00af00\">718</span>)            │        <span style=\"color: #00af00; text-decoration-color: #00af00\">92,622</span> │\n",
              "└─────────────────────────────────┴────────────────────────┴───────────────┘\n",
              "</pre>\n"
            ]
          },
          "metadata": {}
        },
        {
          "output_type": "display_data",
          "data": {
            "text/plain": [
              "\u001b[1m Total params: \u001b[0m\u001b[38;5;34m205,422\u001b[0m (802.43 KB)\n"
            ],
            "text/html": [
              "<pre style=\"white-space:pre;overflow-x:auto;line-height:normal;font-family:Menlo,'DejaVu Sans Mono',consolas,'Courier New',monospace\"><span style=\"font-weight: bold\"> Total params: </span><span style=\"color: #00af00; text-decoration-color: #00af00\">205,422</span> (802.43 KB)\n",
              "</pre>\n"
            ]
          },
          "metadata": {}
        },
        {
          "output_type": "display_data",
          "data": {
            "text/plain": [
              "\u001b[1m Trainable params: \u001b[0m\u001b[38;5;34m205,422\u001b[0m (802.43 KB)\n"
            ],
            "text/html": [
              "<pre style=\"white-space:pre;overflow-x:auto;line-height:normal;font-family:Menlo,'DejaVu Sans Mono',consolas,'Courier New',monospace\"><span style=\"font-weight: bold\"> Trainable params: </span><span style=\"color: #00af00; text-decoration-color: #00af00\">205,422</span> (802.43 KB)\n",
              "</pre>\n"
            ]
          },
          "metadata": {}
        },
        {
          "output_type": "display_data",
          "data": {
            "text/plain": [
              "\u001b[1m Non-trainable params: \u001b[0m\u001b[38;5;34m0\u001b[0m (0.00 B)\n"
            ],
            "text/html": [
              "<pre style=\"white-space:pre;overflow-x:auto;line-height:normal;font-family:Menlo,'DejaVu Sans Mono',consolas,'Courier New',monospace\"><span style=\"font-weight: bold\"> Non-trainable params: </span><span style=\"color: #00af00; text-decoration-color: #00af00\">0</span> (0.00 B)\n",
              "</pre>\n"
            ]
          },
          "metadata": {}
        }
      ]
    },
    {
      "cell_type": "code",
      "source": [
        "autoencoder.fit(X, X, epochs=20, batch_size=32, validation_split=0.1)"
      ],
      "metadata": {
        "colab": {
          "base_uri": "https://localhost:8080/"
        },
        "id": "kBpFtWlZDKaH",
        "outputId": "705dcda4-d306-4a6c-c340-ef58e2049a86"
      },
      "execution_count": 25,
      "outputs": [
        {
          "output_type": "stream",
          "name": "stdout",
          "text": [
            "Epoch 1/20\n",
            "\u001b[1m280/280\u001b[0m \u001b[32m━━━━━━━━━━━━━━━━━━━━\u001b[0m\u001b[37m\u001b[0m \u001b[1m6s\u001b[0m 12ms/step - loss: 0.0078 - val_loss: 0.0032\n",
            "Epoch 2/20\n",
            "\u001b[1m280/280\u001b[0m \u001b[32m━━━━━━━━━━━━━━━━━━━━\u001b[0m\u001b[37m\u001b[0m \u001b[1m1s\u001b[0m 3ms/step - loss: 0.0045 - val_loss: 0.0028\n",
            "Epoch 3/20\n",
            "\u001b[1m280/280\u001b[0m \u001b[32m━━━━━━━━━━━━━━━━━━━━\u001b[0m\u001b[37m\u001b[0m \u001b[1m1s\u001b[0m 3ms/step - loss: 0.0039 - val_loss: 0.0026\n",
            "Epoch 4/20\n",
            "\u001b[1m280/280\u001b[0m \u001b[32m━━━━━━━━━━━━━━━━━━━━\u001b[0m\u001b[37m\u001b[0m \u001b[1m1s\u001b[0m 3ms/step - loss: 0.0036 - val_loss: 0.0025\n",
            "Epoch 5/20\n",
            "\u001b[1m280/280\u001b[0m \u001b[32m━━━━━━━━━━━━━━━━━━━━\u001b[0m\u001b[37m\u001b[0m \u001b[1m1s\u001b[0m 3ms/step - loss: 0.0033 - val_loss: 0.0024\n",
            "Epoch 6/20\n",
            "\u001b[1m280/280\u001b[0m \u001b[32m━━━━━━━━━━━━━━━━━━━━\u001b[0m\u001b[37m\u001b[0m \u001b[1m1s\u001b[0m 3ms/step - loss: 0.0032 - val_loss: 0.0023\n",
            "Epoch 7/20\n",
            "\u001b[1m280/280\u001b[0m \u001b[32m━━━━━━━━━━━━━━━━━━━━\u001b[0m\u001b[37m\u001b[0m \u001b[1m1s\u001b[0m 3ms/step - loss: 0.0031 - val_loss: 0.0023\n",
            "Epoch 8/20\n",
            "\u001b[1m280/280\u001b[0m \u001b[32m━━━━━━━━━━━━━━━━━━━━\u001b[0m\u001b[37m\u001b[0m \u001b[1m1s\u001b[0m 3ms/step - loss: 0.0030 - val_loss: 0.0022\n",
            "Epoch 9/20\n",
            "\u001b[1m280/280\u001b[0m \u001b[32m━━━━━━━━━━━━━━━━━━━━\u001b[0m\u001b[37m\u001b[0m \u001b[1m1s\u001b[0m 3ms/step - loss: 0.0030 - val_loss: 0.0022\n",
            "Epoch 10/20\n",
            "\u001b[1m280/280\u001b[0m \u001b[32m━━━━━━━━━━━━━━━━━━━━\u001b[0m\u001b[37m\u001b[0m \u001b[1m1s\u001b[0m 3ms/step - loss: 0.0029 - val_loss: 0.0021\n",
            "Epoch 11/20\n",
            "\u001b[1m280/280\u001b[0m \u001b[32m━━━━━━━━━━━━━━━━━━━━\u001b[0m\u001b[37m\u001b[0m \u001b[1m1s\u001b[0m 3ms/step - loss: 0.0028 - val_loss: 0.0021\n",
            "Epoch 12/20\n",
            "\u001b[1m280/280\u001b[0m \u001b[32m━━━━━━━━━━━━━━━━━━━━\u001b[0m\u001b[37m\u001b[0m \u001b[1m1s\u001b[0m 4ms/step - loss: 0.0028 - val_loss: 0.0021\n",
            "Epoch 13/20\n",
            "\u001b[1m280/280\u001b[0m \u001b[32m━━━━━━━━━━━━━━━━━━━━\u001b[0m\u001b[37m\u001b[0m \u001b[1m1s\u001b[0m 4ms/step - loss: 0.0027 - val_loss: 0.0022\n",
            "Epoch 14/20\n",
            "\u001b[1m280/280\u001b[0m \u001b[32m━━━━━━━━━━━━━━━━━━━━\u001b[0m\u001b[37m\u001b[0m \u001b[1m1s\u001b[0m 3ms/step - loss: 0.0027 - val_loss: 0.0020\n",
            "Epoch 15/20\n",
            "\u001b[1m280/280\u001b[0m \u001b[32m━━━━━━━━━━━━━━━━━━━━\u001b[0m\u001b[37m\u001b[0m \u001b[1m1s\u001b[0m 3ms/step - loss: 0.0027 - val_loss: 0.0020\n",
            "Epoch 16/20\n",
            "\u001b[1m280/280\u001b[0m \u001b[32m━━━━━━━━━━━━━━━━━━━━\u001b[0m\u001b[37m\u001b[0m \u001b[1m1s\u001b[0m 3ms/step - loss: 0.0026 - val_loss: 0.0020\n",
            "Epoch 17/20\n",
            "\u001b[1m280/280\u001b[0m \u001b[32m━━━━━━━━━━━━━━━━━━━━\u001b[0m\u001b[37m\u001b[0m \u001b[1m1s\u001b[0m 3ms/step - loss: 0.0026 - val_loss: 0.0020\n",
            "Epoch 18/20\n",
            "\u001b[1m280/280\u001b[0m \u001b[32m━━━━━━━━━━━━━━━━━━━━\u001b[0m\u001b[37m\u001b[0m \u001b[1m1s\u001b[0m 3ms/step - loss: 0.0026 - val_loss: 0.0020\n",
            "Epoch 19/20\n",
            "\u001b[1m280/280\u001b[0m \u001b[32m━━━━━━━━━━━━━━━━━━━━\u001b[0m\u001b[37m\u001b[0m \u001b[1m1s\u001b[0m 3ms/step - loss: 0.0025 - val_loss: 0.0020\n",
            "Epoch 20/20\n",
            "\u001b[1m280/280\u001b[0m \u001b[32m━━━━━━━━━━━━━━━━━━━━\u001b[0m\u001b[37m\u001b[0m \u001b[1m1s\u001b[0m 3ms/step - loss: 0.0025 - val_loss: 0.0019\n"
          ]
        },
        {
          "output_type": "execute_result",
          "data": {
            "text/plain": [
              "<keras.src.callbacks.history.History at 0x7ce1215cd410>"
            ]
          },
          "metadata": {},
          "execution_count": 25
        }
      ]
    },
    {
      "cell_type": "markdown",
      "source": [
        "## TESTING"
      ],
      "metadata": {
        "id": "LM01CVi-jnFI"
      }
    },
    {
      "cell_type": "code",
      "source": [
        "book_embeddings = autoencoder.predict(X)\n",
        "# Contoh: Lihat vektor embedding buku pertama\n",
        "print(\"Vektor embedding buku ke-0:\\n\", book_embeddings[0])"
      ],
      "metadata": {
        "colab": {
          "base_uri": "https://localhost:8080/"
        },
        "id": "SHiURpCJDnlV",
        "outputId": "84bbb3d5-360d-4c1d-f689-126c0d6b27e9"
      },
      "execution_count": 27,
      "outputs": [
        {
          "output_type": "stream",
          "name": "stdout",
          "text": [
            "\u001b[1m311/311\u001b[0m \u001b[32m━━━━━━━━━━━━━━━━━━━━\u001b[0m\u001b[37m\u001b[0m \u001b[1m1s\u001b[0m 4ms/step\n",
            "Vektor embedding buku ke-0:\n",
            " [ 7.86387384e-01 -3.29821417e-03 -2.09860317e-03  9.03295167e-03\n",
            " -9.52690654e-03  6.00983948e-02 -4.11526449e-02 -9.70431045e-03\n",
            " -8.55300203e-03  1.09936669e-02  1.39150815e-03 -3.20690498e-03\n",
            "  1.33759715e-02 -6.62133237e-03  1.92986056e-03  8.31549522e-04\n",
            " -1.60754528e-02  2.72105988e-02  5.61191551e-02  4.79090624e-02\n",
            "  3.24328393e-02 -1.14309695e-03 -2.55911052e-03  7.02632591e-04\n",
            " -2.35017203e-03  1.62083516e-03  2.98909936e-03  3.56377591e-03\n",
            "  2.40539270e-03 -2.55415402e-03  1.60350129e-02 -2.93494295e-03\n",
            "  1.06454790e-02 -5.91554493e-03  2.37444602e-03  2.88345083e-03\n",
            "  3.81314568e-03  7.45526515e-04  8.00970290e-03 -4.35255934e-03\n",
            "  1.60723459e-02 -3.96337640e-03 -2.96326261e-02  1.24225765e-03\n",
            "  7.43474811e-05 -1.44639891e-03  1.43558756e-02  9.54183750e-04\n",
            " -3.18980776e-04  3.08622476e-02 -2.00852333e-03 -4.02434729e-03\n",
            "  4.11205553e-03  1.43836299e-03  5.76154701e-03  4.16636877e-02\n",
            " -1.16510121e-02 -1.34773925e-03  9.94967297e-03 -8.10181163e-03\n",
            "  3.70354354e-02  9.28996038e-03  4.06493340e-03  4.57751006e-03\n",
            " -9.98521969e-03  1.38716251e-02  4.55953646e-04 -4.09088563e-04\n",
            " -3.02517554e-03  1.16472365e-03  4.09456342e-03  3.24246846e-03\n",
            "  2.14740820e-03 -4.81914449e-03 -6.37132488e-03 -1.59283001e-02\n",
            "  8.90877098e-04  7.02534011e-03 -2.11220165e-03  9.49817337e-03\n",
            "  2.00814344e-02 -2.40519503e-03 -1.01003516e-02 -2.65913131e-03\n",
            " -1.59353793e-01  7.33381137e-03 -1.54391304e-03 -4.88158129e-03\n",
            "  4.38704081e-02  4.02666628e-03  1.50802583e-02 -1.12723466e-02\n",
            " -7.35471398e-03 -8.31296900e-04  3.42753641e-02 -2.02169493e-02\n",
            " -3.49505246e-03  1.76775120e-02  4.26413585e-03  4.45696525e-03\n",
            "  1.96467759e-03 -3.94483879e-02 -1.22158742e-03  2.06867158e-02\n",
            "  1.84652023e-03 -3.51289636e-03  3.67704518e-02 -1.09781073e-02\n",
            " -9.43314284e-03 -1.65362796e-03  2.77283750e-02  9.63329151e-03\n",
            " -4.02240548e-04  9.92952526e-01  6.19872706e-03  5.21792471e-03\n",
            "  5.76954335e-05  8.01929645e-03  3.44355498e-03  1.14058692e-03\n",
            " -3.92251648e-02 -7.05320388e-03 -1.26124360e-04  3.44143994e-03\n",
            "  5.68396114e-02 -4.10551298e-03  7.35253841e-03 -1.88822951e-03\n",
            " -4.99712862e-03  1.83843859e-02  2.47600656e-02 -3.40571627e-03\n",
            "  2.93596648e-03 -2.88769696e-03  1.76524045e-03  1.74154947e-03\n",
            " -1.50744431e-02  4.80431132e-04  1.13309100e-02  1.80103630e-03\n",
            "  1.73017662e-03  2.60714209e-03  3.56982835e-03  1.00173047e-02\n",
            "  9.25295800e-03  1.63152348e-04 -1.59205496e-03  6.37584645e-03\n",
            "  2.76118331e-03 -6.92019891e-03  5.65717276e-03  1.85542554e-03\n",
            "  1.71973370e-02 -5.25674224e-03 -1.94974579e-02 -6.87237009e-02\n",
            " -5.84576838e-03 -3.25737707e-03  5.40567562e-05  9.60617885e-03\n",
            "  8.80888384e-03 -1.39659178e-03 -7.16459705e-03  6.16019685e-03\n",
            "  3.30898073e-03  3.35552879e-02  2.83141714e-03  7.04477541e-04\n",
            "  2.28495058e-03 -7.70739513e-03  1.76716790e-01 -5.28642023e-03\n",
            "  7.12854974e-03  2.34239977e-02 -3.52961011e-04  2.07137056e-02\n",
            " -5.19220158e-03 -2.40389258e-04 -5.35575789e-04 -7.35150278e-03\n",
            "  8.82118940e-03  9.09974799e-03  1.45520270e-02 -4.27515134e-02\n",
            " -3.44475731e-02 -1.54297724e-02  1.92693546e-02 -6.08218461e-03\n",
            " -1.00628622e-02  1.84576493e-03  1.34678441e-03  1.51347909e-02\n",
            " -7.96740968e-03  2.88901338e-03 -1.46944448e-02 -5.81443589e-03\n",
            "  2.31898623e-04 -2.33763717e-02  1.17510874e-02  3.08967382e-03\n",
            " -3.81893315e-03 -6.07835725e-02 -2.92812008e-04  2.60879751e-05\n",
            " -2.73656612e-03 -3.21398373e-03 -3.35289724e-03  2.11576372e-03\n",
            " -1.57673992e-02 -1.14059914e-02  1.05613387e+00  1.39134238e-03\n",
            "  1.55639136e-05 -1.74945220e-02  6.92535285e-03 -5.56584634e-03\n",
            "  1.65117625e-03 -1.88397709e-03  9.64298844e-04 -1.90716144e-03\n",
            " -4.52744588e-03 -8.77864892e-04 -7.61754694e-04 -1.27268420e-03\n",
            "  1.09924506e-02  3.87412030e-03 -1.25829224e-03  6.09962381e-02\n",
            " -1.07361311e-02 -3.34583316e-03  5.21895010e-04 -2.33486807e-03\n",
            "  4.78547649e-04  2.36620731e-03  1.01153739e-03  1.25694154e-02\n",
            " -9.35392454e-04 -1.63105056e-02  2.59184185e-03 -5.24953008e-04\n",
            " -3.17668775e-03 -6.52201986e-03 -1.85620971e-03  5.32792434e-02\n",
            "  1.32319871e-02 -1.54130650e-03 -2.76205014e-03  4.67781210e-03\n",
            "  6.55483454e-03  1.53198722e-03 -4.71920427e-03  4.30219807e-05\n",
            " -6.91587664e-03 -8.77932645e-04  1.07509084e-03  1.15755610e-02\n",
            " -9.12194885e-03 -5.19821141e-03  8.58636387e-03  9.23004001e-04\n",
            " -3.26616503e-03  4.79828799e-04 -1.32466415e-02 -2.18711887e-03\n",
            " -2.08077440e-03  1.34652071e-02  1.61399581e-02 -5.13868406e-03\n",
            "  2.83313915e-03  8.56037557e-01 -6.65199943e-03  9.93738949e-01\n",
            "  4.49951217e-02  1.45877004e-02  2.32810713e-03 -1.07648363e-03\n",
            "  4.10296861e-03 -6.27094321e-03  2.64106430e-02 -1.63482875e-03\n",
            " -1.29626668e-03  1.43912494e-01 -1.77071011e-03  9.16966982e-03\n",
            " -6.83779828e-03 -6.54649269e-03 -2.68601738e-02  2.03768560e-03\n",
            " -2.74685025e-03 -2.95350328e-04  4.36324477e-02  2.72449013e-02\n",
            "  1.71578955e-02 -6.55873716e-02  1.51462387e-03  6.00180589e-04\n",
            "  1.46604935e-03 -1.69246271e-03  1.57203004e-02 -8.65816697e-03\n",
            "  3.43656540e-03 -1.39719304e-02 -9.82808042e-03  2.00875625e-02\n",
            "  2.45007668e-02  3.90862860e-02  4.84790653e-02  1.38158500e-02\n",
            " -1.12160435e-03  1.79365952e-03  4.21504956e-05 -9.78462864e-03\n",
            "  1.28059578e-03  6.64884178e-03 -2.89664976e-03  1.82543742e-03\n",
            "  8.93772300e-03  1.08513519e-01 -7.36843608e-03  1.42601430e-02\n",
            "  2.93191103e-03 -2.40817340e-03  9.50776157e-04 -1.16759550e-03\n",
            " -4.97346278e-03  2.99314782e-03 -4.34916466e-04  1.57579482e-02\n",
            "  5.89300971e-03 -1.39436284e-02  1.60603062e-03  1.32888276e-03\n",
            " -1.34571157e-02  1.08400721e-03  2.40159594e-02  9.31483746e-01\n",
            " -2.01052427e-03 -2.57721730e-03  4.96385386e-03 -7.18208961e-04\n",
            "  2.81895092e-03 -1.76155306e-02 -1.48545660e-03 -7.84941204e-03\n",
            " -1.02363061e-04 -1.64195430e-03  4.16717399e-03  2.89699268e-02\n",
            "  3.91917713e-02  1.81772932e-03  1.17133912e-02  3.48853692e-03\n",
            " -9.46490094e-04  4.66236845e-04  4.78090718e-04  8.63851234e-03\n",
            " -3.67690623e-03 -2.78067309e-03 -5.28018642e-03 -6.13053283e-03\n",
            "  3.48274130e-03  4.36822996e-02  1.30399689e-03  1.31858718e-02\n",
            " -3.38117704e-02 -1.36175752e-03  2.35269219e-02  1.13008367e-02\n",
            " -2.35147774e-03 -1.11639872e-02  2.64170067e-03  6.28772192e-03\n",
            " -2.21827254e-02 -1.80043429e-02  4.06442769e-03 -8.43165442e-03\n",
            " -1.91641785e-02 -6.83804974e-03  5.77188097e-03 -6.78042416e-04\n",
            " -9.18449834e-04  4.73133847e-03 -1.47940889e-02  7.56450184e-03\n",
            " -3.45252082e-03  5.70517033e-03 -2.88340710e-02 -1.72999799e-02\n",
            " -3.84461577e-03  7.34082684e-02 -3.72444862e-04 -9.88746062e-04\n",
            " -3.54103907e-03  2.74855644e-02 -1.46251777e-03 -1.41024739e-02\n",
            " -4.14261892e-02 -1.10841915e-03  1.00831990e-03  1.89827755e-04\n",
            " -7.83084799e-03  8.56463797e-03  1.77221783e-02 -2.96787196e-03\n",
            " -3.75444070e-02 -5.08859335e-03 -1.14478776e-03 -4.08363193e-02\n",
            "  1.15815876e-03 -4.71473532e-03  3.17311590e-03 -1.44364429e-03\n",
            " -3.22585460e-04  1.66671351e-04  1.01526994e-02  1.30900275e-03\n",
            "  6.78908229e-02 -2.81431042e-02  1.98740158e-02 -4.42796536e-02\n",
            " -4.71682847e-03 -3.02908309e-02  8.95631872e-03 -4.74375673e-03\n",
            " -2.79702283e-02 -1.49699394e-04 -1.02070160e-03  1.30110666e-01\n",
            "  9.99349952e-02 -6.55930256e-04  5.02036652e-04 -9.32058319e-05\n",
            "  1.02087576e-02  7.36810174e-03 -5.76743670e-03 -2.52218358e-03\n",
            "  1.57640502e-03 -2.41337344e-03  1.65841971e-02  2.26999242e-02\n",
            "  2.16064993e-02  5.01311198e-02  2.98412936e-03  6.50804862e-03\n",
            " -3.09311412e-03 -3.36548290e-03 -1.60674546e-02  3.85015691e-03\n",
            "  4.68982337e-03  5.94318844e-03 -1.61850988e-03  2.50147656e-04\n",
            "  2.02777982e-03 -5.81454579e-03  4.24232036e-02 -3.46738240e-03\n",
            "  6.47789624e-04  6.06896281e-02  3.34108621e-03  2.46905498e-02\n",
            "  8.15192014e-02  5.83643727e-02  6.31637871e-04  1.17673203e-02\n",
            "  8.90888460e-03 -6.48782961e-03  1.59051027e-02  8.78768042e-04\n",
            " -5.82832424e-03 -6.97089871e-03 -2.52116658e-03  4.31997189e-03\n",
            " -1.04790963e-02 -4.91233394e-02  2.80315708e-03 -5.85617498e-04\n",
            " -9.60801821e-03  2.21982226e-03 -1.41269388e-03 -7.66833685e-03\n",
            " -3.44306231e-04 -1.26820840e-02 -9.76335257e-04 -6.92175142e-03\n",
            "  1.60926580e-03  1.26290284e-02  4.47604418e-01 -1.07016275e-03\n",
            "  3.10125388e-02  6.37721783e-03  7.87793007e-03  1.02927233e-03\n",
            " -1.27034374e-02 -1.20358542e-03  8.69319867e-03  3.38309351e-03\n",
            "  3.53532960e-03 -1.68912634e-02  4.07755841e-04  5.41498549e-02\n",
            " -1.87466410e-03 -9.94406641e-04 -4.95085586e-03 -6.61136303e-03\n",
            "  1.12909358e-04  1.38508091e-02  5.40594617e-03 -1.32219493e-03\n",
            " -1.65567640e-03  2.31695827e-03  2.03866512e-04 -8.50856304e-05\n",
            "  2.98956186e-02  5.23050968e-03 -2.11331341e-03  5.83325140e-03\n",
            "  1.43996254e-03  4.68194671e-03  1.53551456e-02 -1.36172315e-02\n",
            "  3.44364997e-03  7.58374808e-03  4.71659265e-02 -2.35806052e-02\n",
            " -1.93965584e-02  5.87655231e-03  5.71617857e-03 -8.54959246e-04\n",
            "  1.63942575e-03  3.79081070e-03 -4.47862223e-03  2.37142444e-02\n",
            " -9.59446467e-03 -2.91715749e-03  4.00164165e-03 -1.51424706e-02\n",
            "  1.63341220e-03  3.54029313e-02  1.21372566e-03  1.81557164e-02\n",
            "  6.42354488e-02  9.38998163e-03  4.39090654e-05  6.38704747e-04\n",
            "  1.43068284e-03  5.57468273e-03  3.52292415e-03 -5.21283178e-03\n",
            "  4.15071938e-03 -8.25003721e-04  3.45739955e-03  4.78880294e-03\n",
            "  2.90272757e-04  9.17768851e-02 -3.25840106e-03 -1.27533684e-03\n",
            "  5.96415065e-03 -3.85285402e-03  1.01258710e-01 -1.23862736e-03\n",
            "  8.92266259e-03 -6.30096160e-03 -1.54774338e-02  3.43757449e-03\n",
            "  9.53633338e-04 -4.07954678e-04 -5.24266576e-03  1.47144170e-02\n",
            " -1.67305209e-02  8.14730301e-05 -1.28741357e-02 -3.45928036e-03\n",
            " -9.81121231e-03  1.44888051e-02  1.21260583e-02  2.11596582e-03\n",
            "  1.55059649e-02 -2.58130999e-03  4.89330012e-03 -1.42083857e-02\n",
            " -4.34048707e-04 -4.40743286e-03 -5.16120493e-02  6.97905663e-04\n",
            " -8.29276629e-04 -6.79229526e-03 -1.27160093e-02  1.42419282e-02\n",
            " -3.25748697e-04 -1.21016055e-03 -3.38482745e-02 -4.37669922e-04\n",
            "  4.32236269e-02 -9.51172027e-04  1.13501213e-03 -9.41179693e-03\n",
            "  3.26156840e-02 -1.23654213e-03 -1.47341075e-03  2.65671685e-03\n",
            "  2.24971026e-03 -1.00719584e-02 -1.70825738e-02 -4.72847605e-03\n",
            "  3.99422599e-03  9.32626706e-03 -7.83519633e-03  7.23897293e-03\n",
            " -5.18264621e-03  8.45268190e-01  1.46447669e-03  2.52600852e-02\n",
            "  3.20800301e-03 -9.32470150e-03  2.08187063e-04  1.28175709e-02\n",
            "  5.03334077e-03  1.11035025e-02  1.46954581e-02 -1.45700201e-02\n",
            "  4.53199074e-02  8.96154195e-02  2.26798549e-01  3.49816345e-02\n",
            "  1.01255901e-01  6.08568266e-03  1.23024983e-02  2.95337141e-02\n",
            "  1.53568164e-02  4.97950288e-03 -1.96552016e-02  3.75008509e-02\n",
            "  6.83469176e-02  2.28821281e-02  6.33679703e-03  1.65933408e-02\n",
            "  5.31331897e-02  1.07576624e-02  1.29968291e-02  6.15456030e-02\n",
            "  4.58279811e-02  5.06076328e-02  4.58470881e-02  3.90215963e-02\n",
            "  4.89033721e-02  1.09072134e-01  2.25055348e-02  6.23321272e-02\n",
            " -1.90835074e-03  9.61383618e-03  1.47913918e-01  2.73451097e-02\n",
            "  1.28248274e-01  8.47745985e-02  6.18757978e-02  6.31340593e-03\n",
            "  2.38378961e-02  2.24468485e-03  1.58599894e-02  3.58431116e-02\n",
            "  2.86923870e-02  2.24283282e-02  2.14538164e-02  4.05491516e-03\n",
            "  4.98516113e-03  5.20989634e-02  5.10527082e-02  2.89515611e-02\n",
            "  7.76930079e-02  1.21001732e-02  2.23603711e-01  2.90785916e-02\n",
            "  4.69577797e-02  4.75018695e-02  3.69165465e-02  1.53704975e-02\n",
            "  1.78489909e-02  1.79490112e-02  4.41252626e-03  7.01940805e-03\n",
            "  3.59386131e-02  2.44761035e-02  6.30419031e-02  5.12856990e-03\n",
            "  5.70748746e-02 -6.25063665e-04  4.35467921e-02  3.09674412e-01\n",
            "  9.77085829e-02  2.93588862e-02  5.02943993e-02 -6.01394614e-03\n",
            "  3.97963375e-02  4.00612280e-02  1.81743652e-02  1.17810015e-02\n",
            "  1.19854346e-01  2.96840630e-02  8.18258710e-03 -7.56283617e-03\n",
            "  2.04726681e-02  2.97975689e-02  1.42869540e-02  8.05209111e-03\n",
            "  2.65662633e-02  2.67345458e-02  1.64496005e-02  1.14940517e-02\n",
            "  6.24681301e-02  3.85738015e-02  4.56891805e-02  2.07027905e-02\n",
            "  5.69575354e-02  3.38149071e-02  1.51288668e-02 -2.92419642e-02\n",
            "  3.28191333e-02 -6.30243868e-03]\n"
          ]
        }
      ]
    },
    {
      "cell_type": "code",
      "source": [
        "# Hitung cosine similarity antar semua buku\n",
        "similarity_matrix = cosine_similarity(book_embeddings)\n",
        "\n",
        "# Pilih indeks buku sebagai referensi\n",
        "book_idx = 100\n",
        "\n",
        "# Cari top 5 buku mirip (selain dirinya sendiri)\n",
        "similar_scores = list(enumerate(similarity_matrix[book_idx]))\n",
        "similar_scores = sorted(similar_scores, key=lambda x: x[1], reverse=True)[1:6]  # Skip dirinya sendiri\n",
        "\n",
        "print(f\"Top 5 buku mirip dengan buku ke-{book_idx}:\")\n",
        "print(f\"Judul Referensi: {df.iloc[book_idx]['Book']}\")\n",
        "print(f\"Genre Referensi: {df.iloc[book_idx]['Genres']}\\n\")\n",
        "\n",
        "for idx, score in similar_scores:\n",
        "    title = df.iloc[idx]['Book']\n",
        "    genres = df.iloc[idx]['Genres']\n",
        "    print(f\"- Judul: {title}\")\n",
        "    print(f\"  Genre: {genres}\")\n",
        "    print(f\"  Akurasi Kemiripan: {score:.4f}\\n\")"
      ],
      "metadata": {
        "colab": {
          "base_uri": "https://localhost:8080/"
        },
        "id": "4KDCTqf7Du_y",
        "outputId": "45a047aa-90d3-4c9e-eaae-d6a7873c8faf"
      },
      "execution_count": 28,
      "outputs": [
        {
          "output_type": "stream",
          "name": "stdout",
          "text": [
            "Top 5 buku mirip dengan buku ke-100:\n",
            "Judul Referensi: The Da Vinci Code (Robert Langdon, #2)\n",
            "Genre Referensi: ['Fiction', 'Mystery', 'Thriller', 'Mystery Thriller', 'Historical Fiction', 'Suspense', 'Adventure']\n",
            "\n",
            "- Judul: The Templar Legacy (Cotton Malone, #1)\n",
            "  Genre: ['Fiction', 'Thriller', 'Mystery', 'Historical Fiction', 'Adventure', 'Mystery Thriller', 'Suspense']\n",
            "  Akurasi Kemiripan: 0.9992\n",
            "\n",
            "- Judul: Inferno (Robert Langdon, #4)\n",
            "  Genre: ['Fiction', 'Thriller', 'Mystery', 'Mystery Thriller', 'Historical Fiction', 'Suspense', 'Adventure']\n",
            "  Akurasi Kemiripan: 0.9991\n",
            "\n",
            "- Judul: The Venetian Betrayal (Cotton Malone, #3)\n",
            "  Genre: ['Thriller', 'Fiction', 'Mystery', 'Historical Fiction', 'Adventure', 'Suspense', 'Mystery Thriller']\n",
            "  Akurasi Kemiripan: 0.9991\n",
            "\n",
            "- Judul: The Alexandria Link (Cotton Malone, #2)\n",
            "  Genre: ['Fiction', 'Thriller', 'Mystery', 'Historical Fiction', 'Adventure', 'Mystery Thriller', 'Suspense']\n",
            "  Akurasi Kemiripan: 0.9990\n",
            "\n",
            "- Judul: The Charlemagne Pursuit (Cotton Malone, #4)\n",
            "  Genre: ['Fiction', 'Thriller', 'Mystery', 'Historical Fiction', 'Adventure', 'Suspense', 'Mystery Thriller']\n",
            "  Akurasi Kemiripan: 0.9987\n",
            "\n"
          ]
        }
      ]
    },
    {
      "cell_type": "markdown",
      "source": [
        "## VISUALISASI"
      ],
      "metadata": {
        "id": "fMM-egxsYbYk"
      }
    },
    {
      "cell_type": "code",
      "source": [
        "sns.heatmap(similarity_matrix[:30, :30], cmap='viridis')  # subset 30 buku agar tidak terlalu besar\n",
        "plt.title(\"Cosine Similarity antar Buku\")\n",
        "plt.show()"
      ],
      "metadata": {
        "colab": {
          "base_uri": "https://localhost:8080/",
          "height": 452
        },
        "id": "hmw99T8FYW2F",
        "outputId": "c4ea42d3-c052-4390-e51d-079c6261a0d7"
      },
      "execution_count": 29,
      "outputs": [
        {
          "output_type": "display_data",
          "data": {
            "text/plain": [
              "<Figure size 640x480 with 2 Axes>"
            ],
            "image/png": "[encoded data removed]"
          },
          "metadata": {}
        }
      ]
    },
    {
      "cell_type": "code",
      "source": [
        "tsne = TSNE(n_components=2, random_state=42)\n",
        "embed_2d = tsne.fit_transform(book_embeddings)\n",
        "\n",
        "plt.scatter(embed_2d[:, 0], embed_2d[:, 1], alpha=0.6)\n",
        "plt.title(\"Visualisasi Embedding Buku (t-SNE)\")\n",
        "plt.xlabel(\"Dimensi 1\")\n",
        "plt.ylabel(\"Dimensi 2\")\n",
        "plt.show()"
      ],
      "metadata": {
        "colab": {
          "base_uri": "https://localhost:8080/",
          "height": 472
        },
        "id": "cXX_W9RHYaof",
        "outputId": "d7e37f72-41e3-490e-9355-15ac91e598b6"
      },
      "execution_count": 30,
      "outputs": [
        {
          "output_type": "display_data",
          "data": {
            "text/plain": [
              "<Figure size 640x480 with 1 Axes>"
            ],
            "image/png": "[encoded data removed]"
          },
          "metadata": {}
        }
      ]
    }
  ]
}