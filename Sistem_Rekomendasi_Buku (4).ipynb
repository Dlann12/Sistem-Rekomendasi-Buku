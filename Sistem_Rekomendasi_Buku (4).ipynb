{
  "nbformat": 4,
  "nbformat_minor": 0,
  "metadata": {
    "colab": {
      "provenance": [],
      "gpuType": "T4"
    },
    "kernelspec": {
      "name": "python3",
      "display_name": "Python 3"
    },
    "language_info": {
      "name": "python"
    },
    "accelerator": "GPU"
  },
  "cells": [
    {
      "cell_type": "markdown",
      "source": [
        "## IMPORT LIBRARY"
      ],
      "metadata": {
        "id": "S4tNoUP2z5LR"
      }
    },
    {
      "cell_type": "markdown",
      "source": [
        "- **pandas (`pd`):**  \n",
        "  Untuk memanipulasi data tabular (DataFrame).\n",
        "- **numpy (`np`):**  \n",
        "  Operasi numerik dan array multidimensi.\n",
        "- **scikit-learn:**\n",
        "  - `train_test_split`: Membagi data menjadi data latih dan uji.\n",
        "  - `MultiLabelBinarizer`, `LabelEncoder`: Encoding label (multi-label dan single-label).\n",
        "  - `TfidfVectorizer`: Mengubah teks menjadi fitur numerik (TF-IDF).\n",
        "  - `MinMaxScaler`: Normalisasi fitur ke rentang [0, 1].\n",
        "  - `cosine_similarity`: Menghitung kemiripan antar vektor.\n",
        "  - `TSNE`: Reduksi dimensi data untuk visualisasi.\n",
        "- **tensorflow.keras:**\n",
        "  - `Sequential`, `Model`, `Dense`, `Input`: Membangun dan melatih neural network.\n",
        "- **ast:**  \n",
        "  Parsing string ke struktur data Python (misal: string ke list/dict).\n",
        "- **seaborn (`sns`), matplotlib (`plt`):**  \n",
        "  Visualisasi data dan hasil analisis/model.\n",
        "- **tensorflow (`tf`):**  \n",
        "  Framework utama machine learning/deep learning."
      ],
      "metadata": {
        "id": "XrR03mvrdnpL"
      }
    },
    {
      "cell_type": "code",
      "source": [
        "import pandas as pd\n",
        "import numpy as np\n",
        "from sklearn.model_selection import train_test_split\n",
        "from tensorflow.keras.models import Sequential,Model\n",
        "from tensorflow.keras.layers import Dense, Input\n",
        "import ast\n",
        "from sklearn.preprocessing import MultiLabelBinarizer, LabelEncoder\n",
        "from sklearn.feature_extraction.text import TfidfVectorizer\n",
        "from sklearn.preprocessing import MinMaxScaler\n",
        "import tensorflow as tf\n",
        "from sklearn.metrics.pairwise import cosine_similarity\n",
        "import seaborn as sns\n",
        "import matplotlib.pyplot as plt\n",
        "from sklearn.manifold import TSNE"
      ],
      "metadata": {
        "id": "iUsMUI8uz39L"
      },
      "execution_count": 1,
      "outputs": []
    },
    {
      "cell_type": "markdown",
      "source": [
        "## Data Load"
      ],
      "metadata": {
        "id": "w-Bc-l-X01i-"
      }
    },
    {
      "cell_type": "markdown",
      "source": [
        "- Mengecek struktur dan sample data sebelum dilakukan analisis atau pemrosesan lebih lanjut."
      ],
      "metadata": {
        "id": "WVCO8RsWd7-O"
      }
    },
    {
      "cell_type": "code",
      "source": [
        "df = pd.read_csv('/content/goodreads_data.csv')\n",
        "df.head()"
      ],
      "metadata": {
        "colab": {
          "base_uri": "https://localhost:8080/",
          "height": 310
        },
        "id": "JSx7I_DH05s9",
        "outputId": "89ab8099-a699-43f0-c500-cbea2afef634"
      },
      "execution_count": 2,
      "outputs": [
        {
          "output_type": "execute_result",
          "data": {
            "text/plain": [
              "   Unnamed: 0                                               Book  \\\n",
              "0           0                              To Kill a Mockingbird   \n",
              "1           1  Harry Potter and the Philosopher’s Stone (Harr...   \n",
              "2           2                                Pride and Prejudice   \n",
              "3           3                          The Diary of a Young Girl   \n",
              "4           4                                        Animal Farm   \n",
              "\n",
              "          Author                                        Description  \\\n",
              "0     Harper Lee  The unforgettable novel of a childhood in a sl...   \n",
              "1   J.K. Rowling  Harry Potter thinks he is an ordinary boy - un...   \n",
              "2    Jane Austen  Since its immediate success in 1813, Pride and...   \n",
              "3     Anne Frank  Discovered in the attic in which she spent the...   \n",
              "4  George Orwell  Librarian's note: There is an Alternate Cover ...   \n",
              "\n",
              "                                              Genres  Avg_Rating Num_Ratings  \\\n",
              "0  ['Classics', 'Fiction', 'Historical Fiction', ...        4.27   5,691,311   \n",
              "1  ['Fantasy', 'Fiction', 'Young Adult', 'Magic',...        4.47   9,278,135   \n",
              "2  ['Classics', 'Fiction', 'Romance', 'Historical...        4.28   3,944,155   \n",
              "3  ['Classics', 'Nonfiction', 'History', 'Biograp...        4.18   3,488,438   \n",
              "4  ['Classics', 'Fiction', 'Dystopia', 'Fantasy',...        3.98   3,575,172   \n",
              "\n",
              "                                                 URL  \n",
              "0  https://www.goodreads.com/book/show/2657.To_Ki...  \n",
              "1  https://www.goodreads.com/book/show/72193.Harr...  \n",
              "2  https://www.goodreads.com/book/show/1885.Pride...  \n",
              "3  https://www.goodreads.com/book/show/48855.The_...  \n",
              "4  https://www.goodreads.com/book/show/170448.Ani...  "
            ],
            "text/html": [
              "\n",
              "  <div id=\"df-8de3bba8-60ab-4771-a6da-aca7cb7d597d\" class=\"colab-df-container\">\n",
              "    <div>\n",
              "<style scoped>\n",
              "    .dataframe tbody tr th:only-of-type {\n",
              "        vertical-align: middle;\n",
              "    }\n",
              "\n",
              "    .dataframe tbody tr th {\n",
              "        vertical-align: top;\n",
              "    }\n",
              "\n",
              "    .dataframe thead th {\n",
              "        text-align: right;\n",
              "    }\n",
              "</style>\n",
              "<table border=\"1\" class=\"dataframe\">\n",
              "  <thead>\n",
              "    <tr style=\"text-align: right;\">\n",
              "      <th></th>\n",
              "      <th>Unnamed: 0</th>\n",
              "      <th>Book</th>\n",
              "      <th>Author</th>\n",
              "      <th>Description</th>\n",
              "      <th>Genres</th>\n",
              "      <th>Avg_Rating</th>\n",
              "      <th>Num_Ratings</th>\n",
              "      <th>URL</th>\n",
              "    </tr>\n",
              "  </thead>\n",
              "  <tbody>\n",
              "    <tr>\n",
              "      <th>0</th>\n",
              "      <td>0</td>\n",
              "      <td>To Kill a Mockingbird</td>\n",
              "      <td>Harper Lee</td>\n",
              "      <td>The unforgettable novel of a childhood in a sl...</td>\n",
              "      <td>['Classics', 'Fiction', 'Historical Fiction', ...</td>\n",
              "      <td>4.27</td>\n",
              "      <td>5,691,311</td>\n",
              "      <td>https://www.goodreads.com/book/show/2657.To_Ki...</td>\n",
              "    </tr>\n",
              "    <tr>\n",
              "      <th>1</th>\n",
              "      <td>1</td>\n",
              "      <td>Harry Potter and the Philosopher’s Stone (Harr...</td>\n",
              "      <td>J.K. Rowling</td>\n",
              "      <td>Harry Potter thinks he is an ordinary boy - un...</td>\n",
              "      <td>['Fantasy', 'Fiction', 'Young Adult', 'Magic',...</td>\n",
              "      <td>4.47</td>\n",
              "      <td>9,278,135</td>\n",
              "      <td>https://www.goodreads.com/book/show/72193.Harr...</td>\n",
              "    </tr>\n",
              "    <tr>\n",
              "      <th>2</th>\n",
              "      <td>2</td>\n",
              "      <td>Pride and Prejudice</td>\n",
              "      <td>Jane Austen</td>\n",
              "      <td>Since its immediate success in 1813, Pride and...</td>\n",
              "      <td>['Classics', 'Fiction', 'Romance', 'Historical...</td>\n",
              "      <td>4.28</td>\n",
              "      <td>3,944,155</td>\n",
              "      <td>https://www.goodreads.com/book/show/1885.Pride...</td>\n",
              "    </tr>\n",
              "    <tr>\n",
              "      <th>3</th>\n",
              "      <td>3</td>\n",
              "      <td>The Diary of a Young Girl</td>\n",
              "      <td>Anne Frank</td>\n",
              "      <td>Discovered in the attic in which she spent the...</td>\n",
              "      <td>['Classics', 'Nonfiction', 'History', 'Biograp...</td>\n",
              "      <td>4.18</td>\n",
              "      <td>3,488,438</td>\n",
              "      <td>https://www.goodreads.com/book/show/48855.The_...</td>\n",
              "    </tr>\n",
              "    <tr>\n",
              "      <th>4</th>\n",
              "      <td>4</td>\n",
              "      <td>Animal Farm</td>\n",
              "      <td>George Orwell</td>\n",
              "      <td>Librarian's note: There is an Alternate Cover ...</td>\n",
              "      <td>['Classics', 'Fiction', 'Dystopia', 'Fantasy',...</td>\n",
              "      <td>3.98</td>\n",
              "      <td>3,575,172</td>\n",
              "      <td>https://www.goodreads.com/book/show/170448.Ani...</td>\n",
              "    </tr>\n",
              "  </tbody>\n",
              "</table>\n",
              "</div>\n",
              "    <div class=\"colab-df-buttons\">\n",
              "\n",
              "  <div class=\"colab-df-container\">\n",
              "    <button class=\"colab-df-convert\" onclick=\"convertToInteractive('df-8de3bba8-60ab-4771-a6da-aca7cb7d597d')\"\n",
              "            title=\"Convert this dataframe to an interactive table.\"\n",
              "            style=\"display:none;\">\n",
              "\n",
              "  <svg xmlns=\"http://www.w3.org/2000/svg\" height=\"24px\" viewBox=\"0 -960 960 960\">\n",
              "    <path d=\"M120-120v-720h720v720H120Zm60-500h600v-160H180v160Zm220 220h160v-160H400v160Zm0 220h160v-160H400v160ZM180-400h160v-160H180v160Zm440 0h160v-160H620v160ZM180-180h160v-160H180v160Zm440 0h160v-160H620v160Z\"/>\n",
              "  </svg>\n",
              "    </button>\n",
              "\n",
              "  <style>\n",
              "    .colab-df-container {\n",
              "      display:flex;\n",
              "      gap: 12px;\n",
              "    }\n",
              "\n",
              "    .colab-df-convert {\n",
              "      background-color: #E8F0FE;\n",
              "      border: none;\n",
              "      border-radius: 50%;\n",
              "      cursor: pointer;\n",
              "      display: none;\n",
              "      fill: #1967D2;\n",
              "      height: 32px;\n",
              "      padding: 0 0 0 0;\n",
              "      width: 32px;\n",
              "    }\n",
              "\n",
              "    .colab-df-convert:hover {\n",
              "      background-color: #E2EBFA;\n",
              "      box-shadow: 0px 1px 2px rgba(60, 64, 67, 0.3), 0px 1px 3px 1px rgba(60, 64, 67, 0.15);\n",
              "      fill: #174EA6;\n",
              "    }\n",
              "\n",
              "    .colab-df-buttons div {\n",
              "      margin-bottom: 4px;\n",
              "    }\n",
              "\n",
              "    [theme=dark] .colab-df-convert {\n",
              "      background-color: #3B4455;\n",
              "      fill: #D2E3FC;\n",
              "    }\n",
              "\n",
              "    [theme=dark] .colab-df-convert:hover {\n",
              "      background-color: #434B5C;\n",
              "      box-shadow: 0px 1px 3px 1px rgba(0, 0, 0, 0.15);\n",
              "      filter: drop-shadow(0px 1px 2px rgba(0, 0, 0, 0.3));\n",
              "      fill: #FFFFFF;\n",
              "    }\n",
              "  </style>\n",
              "\n",
              "    <script>\n",
              "      const buttonEl =\n",
              "        document.querySelector('#df-8de3bba8-60ab-4771-a6da-aca7cb7d597d button.colab-df-convert');\n",
              "      buttonEl.style.display =\n",
              "        google.colab.kernel.accessAllowed ? 'block' : 'none';\n",
              "\n",
              "      async function convertToInteractive(key) {\n",
              "        const element = document.querySelector('#df-8de3bba8-60ab-4771-a6da-aca7cb7d597d');\n",
              "        const dataTable =\n",
              "          await google.colab.kernel.invokeFunction('convertToInteractive',\n",
              "                                                    [key], {});\n",
              "        if (!dataTable) return;\n",
              "\n",
              "        const docLinkHtml = 'Like what you see? Visit the ' +\n",
              "          '<a target=\"_blank\" href=https://colab.research.google.com/notebooks/data_table.ipynb>data table notebook</a>'\n",
              "          + ' to learn more about interactive tables.';\n",
              "        element.innerHTML = '';\n",
              "        dataTable['output_type'] = 'display_data';\n",
              "        await google.colab.output.renderOutput(dataTable, element);\n",
              "        const docLink = document.createElement('div');\n",
              "        docLink.innerHTML = docLinkHtml;\n",
              "        element.appendChild(docLink);\n",
              "      }\n",
              "    </script>\n",
              "  </div>\n",
              "\n",
              "\n",
              "    <div id=\"df-38d9f64d-8681-458d-9616-b89013686d5e\">\n",
              "      <button class=\"colab-df-quickchart\" onclick=\"quickchart('df-38d9f64d-8681-458d-9616-b89013686d5e')\"\n",
              "                title=\"Suggest charts\"\n",
              "                style=\"display:none;\">\n",
              "\n",
              "<svg xmlns=\"http://www.w3.org/2000/svg\" height=\"24px\"viewBox=\"0 0 24 24\"\n",
              "     width=\"24px\">\n",
              "    <g>\n",
              "        <path d=\"M19 3H5c-1.1 0-2 .9-2 2v14c0 1.1.9 2 2 2h14c1.1 0 2-.9 2-2V5c0-1.1-.9-2-2-2zM9 17H7v-7h2v7zm4 0h-2V7h2v10zm4 0h-2v-4h2v4z\"/>\n",
              "    </g>\n",
              "</svg>\n",
              "      </button>\n",
              "\n",
              "<style>\n",
              "  .colab-df-quickchart {\n",
              "      --bg-color: #E8F0FE;\n",
              "      --fill-color: #1967D2;\n",
              "      --hover-bg-color: #E2EBFA;\n",
              "      --hover-fill-color: #174EA6;\n",
              "      --disabled-fill-color: #AAA;\n",
              "      --disabled-bg-color: #DDD;\n",
              "  }\n",
              "\n",
              "  [theme=dark] .colab-df-quickchart {\n",
              "      --bg-color: #3B4455;\n",
              "      --fill-color: #D2E3FC;\n",
              "      --hover-bg-color: #434B5C;\n",
              "      --hover-fill-color: #FFFFFF;\n",
              "      --disabled-bg-color: #3B4455;\n",
              "      --disabled-fill-color: #666;\n",
              "  }\n",
              "\n",
              "  .colab-df-quickchart {\n",
              "    background-color: var(--bg-color);\n",
              "    border: none;\n",
              "    border-radius: 50%;\n",
              "    cursor: pointer;\n",
              "    display: none;\n",
              "    fill: var(--fill-color);\n",
              "    height: 32px;\n",
              "    padding: 0;\n",
              "    width: 32px;\n",
              "  }\n",
              "\n",
              "  .colab-df-quickchart:hover {\n",
              "    background-color: var(--hover-bg-color);\n",
              "    box-shadow: 0 1px 2px rgba(60, 64, 67, 0.3), 0 1px 3px 1px rgba(60, 64, 67, 0.15);\n",
              "    fill: var(--button-hover-fill-color);\n",
              "  }\n",
              "\n",
              "  .colab-df-quickchart-complete:disabled,\n",
              "  .colab-df-quickchart-complete:disabled:hover {\n",
              "    background-color: var(--disabled-bg-color);\n",
              "    fill: var(--disabled-fill-color);\n",
              "    box-shadow: none;\n",
              "  }\n",
              "\n",
              "  .colab-df-spinner {\n",
              "    border: 2px solid var(--fill-color);\n",
              "    border-color: transparent;\n",
              "    border-bottom-color: var(--fill-color);\n",
              "    animation:\n",
              "      spin 1s steps(1) infinite;\n",
              "  }\n",
              "\n",
              "  @keyframes spin {\n",
              "    0% {\n",
              "      border-color: transparent;\n",
              "      border-bottom-color: var(--fill-color);\n",
              "      border-left-color: var(--fill-color);\n",
              "    }\n",
              "    20% {\n",
              "      border-color: transparent;\n",
              "      border-left-color: var(--fill-color);\n",
              "      border-top-color: var(--fill-color);\n",
              "    }\n",
              "    30% {\n",
              "      border-color: transparent;\n",
              "      border-left-color: var(--fill-color);\n",
              "      border-top-color: var(--fill-color);\n",
              "      border-right-color: var(--fill-color);\n",
              "    }\n",
              "    40% {\n",
              "      border-color: transparent;\n",
              "      border-right-color: var(--fill-color);\n",
              "      border-top-color: var(--fill-color);\n",
              "    }\n",
              "    60% {\n",
              "      border-color: transparent;\n",
              "      border-right-color: var(--fill-color);\n",
              "    }\n",
              "    80% {\n",
              "      border-color: transparent;\n",
              "      border-right-color: var(--fill-color);\n",
              "      border-bottom-color: var(--fill-color);\n",
              "    }\n",
              "    90% {\n",
              "      border-color: transparent;\n",
              "      border-bottom-color: var(--fill-color);\n",
              "    }\n",
              "  }\n",
              "</style>\n",
              "\n",
              "      <script>\n",
              "        async function quickchart(key) {\n",
              "          const quickchartButtonEl =\n",
              "            document.querySelector('#' + key + ' button');\n",
              "          quickchartButtonEl.disabled = true;  // To prevent multiple clicks.\n",
              "          quickchartButtonEl.classList.add('colab-df-spinner');\n",
              "          try {\n",
              "            const charts = await google.colab.kernel.invokeFunction(\n",
              "                'suggestCharts', [key], {});\n",
              "          } catch (error) {\n",
              "            console.error('Error during call to suggestCharts:', error);\n",
              "          }\n",
              "          quickchartButtonEl.classList.remove('colab-df-spinner');\n",
              "          quickchartButtonEl.classList.add('colab-df-quickchart-complete');\n",
              "        }\n",
              "        (() => {\n",
              "          let quickchartButtonEl =\n",
              "            document.querySelector('#df-38d9f64d-8681-458d-9616-b89013686d5e button');\n",
              "          quickchartButtonEl.style.display =\n",
              "            google.colab.kernel.accessAllowed ? 'block' : 'none';\n",
              "        })();\n",
              "      </script>\n",
              "    </div>\n",
              "\n",
              "    </div>\n",
              "  </div>\n"
            ],
            "application/vnd.google.colaboratory.intrinsic+json": {
              "type": "dataframe",
              "variable_name": "df",
              "summary": "{\n  \"name\": \"df\",\n  \"rows\": 10000,\n  \"fields\": [\n    {\n      \"column\": \"Unnamed: 0\",\n      \"properties\": {\n        \"dtype\": \"number\",\n        \"std\": 2886,\n        \"min\": 0,\n        \"max\": 9999,\n        \"num_unique_values\": 10000,\n        \"samples\": [\n          6252,\n          4684,\n          1731\n        ],\n        \"semantic_type\": \"\",\n        \"description\": \"\"\n      }\n    },\n    {\n      \"column\": \"Book\",\n      \"properties\": {\n        \"dtype\": \"string\",\n        \"num_unique_values\": 9871,\n        \"samples\": [\n          \"HOW TO SAY NO TO ANYTHING AND MEAN IT\",\n          \"Rejection Proof: How I Beat Fear and Became Invincible Through 100 Days of Rejection\",\n          \"Village Evenings Near Dikanka and Mirgorod\"\n        ],\n        \"semantic_type\": \"\",\n        \"description\": \"\"\n      }\n    },\n    {\n      \"column\": \"Author\",\n      \"properties\": {\n        \"dtype\": \"string\",\n        \"num_unique_values\": 6064,\n        \"samples\": [\n          \"Ryan White\",\n          \"Rachel Hartman\",\n          \"Jim Gaffigan\"\n        ],\n        \"semantic_type\": \"\",\n        \"description\": \"\"\n      }\n    },\n    {\n      \"column\": \"Description\",\n      \"properties\": {\n        \"dtype\": \"string\",\n        \"num_unique_values\": 9888,\n        \"samples\": [\n          \"What is leadership? What qualities do true leaders have? Can you learn to be a leader? These questions and more are answered. Described are the most common virtues of a leader and past and present examples.\",\n          \"Don\\u2019t face reality. Create reality!\\u00a0\\u00a0\\u00a0\\u00a0\\u00a0\\u00a0 \\nE-Squared\\n could best be described as a lab manual with simple experiments to prove once and for all that reality is malleable, that consciousness trumps matter, and that you shape your life with your mind. Rather than take it on faith, you are invited to conduct nine 48-hour experiments to prove there really is a positive, loving, totally hip force in the universe. Yes, you read that right. It says prove. \\u00a0\\u00a0\\u00a0\\u00a0\\u00a0 The experiments, each of which can be conducted with absolutely no money and very little time expenditure, demonstrate that spiritual principles are as dependable as gravity, as consistent as Newton\\u2019s\\u00a0laws of motion. For years, you\\u2019ve been hoping and praying that spiritual principles are true. Now, you can know. \\u00a0\\u00a0\\u00a0\\u00a0\\u00a0 E-Squared proves the following:\\u00a01.\\u00a0\\u00a0\\u00a0\\u00a0\\u00a0\\u00a0 There is an invisible energy force or field of infinite possibilities. 2.\\u00a0\\u00a0\\u00a0\\u00a0\\u00a0\\u00a0 You impact the field and draw from it according to your beliefs and expectations.\\u00a03.\\u00a0\\u00a0\\u00a0\\u00a0\\u00a0\\u00a0 You, too, are a field of energy.\\u00a04.\\u00a0\\u00a0\\u00a0\\u00a0\\u00a0\\u00a0 Whatever you focus on expands.\\u00a0\\u00a0 5.\\u00a0\\u00a0\\u00a0\\u00a0\\u00a0\\u00a0 Your connection to the field provides accurate and unlimited guidance.6.\\u00a0\\u00a0\\u00a0\\u00a0\\u00a0\\u00a0 Your thoughts and consciousness impact matter.\\u00a07.\\u00a0\\u00a0\\u00a0\\u00a0\\u00a0\\u00a0 Your thoughts and consciousness provide the scaffolding for your physical body.8.\\u00a0\\u00a0\\u00a0\\u00a0\\u00a0\\u00a0 You are connected to everything and everyone else in the universe. 9.\\u00a0\\u00a0\\u00a0\\u00a0\\u00a0\\u00a0 The universe is limitless, abundant, and strangely accommodating.\",\n          \"A rookie lawyer, crime mogul and junior reporter all converge in London's underworld of glamour, crime and greed. Set in a city rocked by corruption and tabloid excess, one of them is going to learn that sometimes in life you get more than you bargained forJukebox is Saira Viola's brilliant full length debut novel.\\\"A great amount has been done in literature over the years but every now and then someone comes along and shows us a completely different approach to the ancient art of the scribe . So hail Saira Viola and discover her twisted and beautiful imagination. Literature needs Saira Viola . Her writing is sharp direct and gripping. The latest research shows there is no one like her.\\\" Benjamin Zephaniah\\\" A fresh faced voice to herald in the apocalypse .Posers beware .This is the real deal.\\\" Jonathan Shaw\\\"Injecting musical prose into a dying genre and one sorely needing a shot in the arm .What Viola has proven is the great novel is not incompatible with virtuosic poetics.\\\"James Browning Kepple\\\"I enjoyed this piece's in-your-face quality.\\\"Robin Wyatt Dunn\\\"Guy Ritchie meets Martin Amis.......stunning.\\\"Betsy Reavley\"\n        ],\n        \"semantic_type\": \"\",\n        \"description\": \"\"\n      }\n    },\n    {\n      \"column\": \"Genres\",\n      \"properties\": {\n        \"dtype\": \"string\",\n        \"num_unique_values\": 8043,\n        \"samples\": [\n          \"['Fantasy', 'Romance', 'Time Travel', 'Christian Fiction', 'Young Adult', 'Christian Fantasy']\",\n          \"['Fantasy', 'Young Adult', 'Dystopia', 'Romance', 'Young Adult Fantasy', 'Fiction', 'Magic']\",\n          \"['Fiction', 'Classics', 'Romance', 'India', 'Novels', 'Indian Literature', 'Historical']\"\n        ],\n        \"semantic_type\": \"\",\n        \"description\": \"\"\n      }\n    },\n    {\n      \"column\": \"Avg_Rating\",\n      \"properties\": {\n        \"dtype\": \"number\",\n        \"std\": 0.3353586015150974,\n        \"min\": 0.0,\n        \"max\": 5.0,\n        \"num_unique_values\": 211,\n        \"samples\": [\n          3.9,\n          4.93,\n          3.24\n        ],\n        \"semantic_type\": \"\",\n        \"description\": \"\"\n      }\n    },\n    {\n      \"column\": \"Num_Ratings\",\n      \"properties\": {\n        \"dtype\": \"string\",\n        \"num_unique_values\": 7545,\n        \"samples\": [\n          \"10,144\",\n          \"295,059\",\n          \"25,501\"\n        ],\n        \"semantic_type\": \"\",\n        \"description\": \"\"\n      }\n    },\n    {\n      \"column\": \"URL\",\n      \"properties\": {\n        \"dtype\": \"string\",\n        \"num_unique_values\": 10000,\n        \"samples\": [\n          \"https://www.goodreads.com/book/show/53397.El_amor_las_mujeres_y_la_vida\",\n          \"https://www.goodreads.com/book/show/17262100-the-lowland\",\n          \"https://www.goodreads.com/book/show/35068432-i-ll-be-gone-in-the-dark\"\n        ],\n        \"semantic_type\": \"\",\n        \"description\": \"\"\n      }\n    }\n  ]\n}"
            }
          },
          "metadata": {},
          "execution_count": 2
        }
      ]
    },
    {
      "cell_type": "markdown",
      "source": [
        "Mengecek Panjang / Jumlah Data"
      ],
      "metadata": {
        "id": "Z05mQaOoeHSA"
      }
    },
    {
      "cell_type": "code",
      "source": [
        "jumlah_data = len(df)\n",
        "print(jumlah_data)"
      ],
      "metadata": {
        "colab": {
          "base_uri": "https://localhost:8080/"
        },
        "id": "h7Vyun2w1XXW",
        "outputId": "70abda89-6a6c-404b-a2fa-851f720e3f8a"
      },
      "execution_count": 3,
      "outputs": [
        {
          "output_type": "stream",
          "name": "stdout",
          "text": [
            "10000\n"
          ]
        }
      ]
    },
    {
      "cell_type": "markdown",
      "source": [
        "Mendeskripsikan Dataset"
      ],
      "metadata": {
        "id": "MINn0NMceLqx"
      }
    },
    {
      "cell_type": "code",
      "source": [
        "df.describe()"
      ],
      "metadata": {
        "colab": {
          "base_uri": "https://localhost:8080/",
          "height": 300
        },
        "id": "OG2c5m5d2b6p",
        "outputId": "02fb27b9-7cdb-457b-a625-14b3fa540d2d"
      },
      "execution_count": 4,
      "outputs": [
        {
          "output_type": "execute_result",
          "data": {
            "text/plain": [
              "        Unnamed: 0    Avg_Rating\n",
              "count  10000.00000  10000.000000\n",
              "mean    4999.50000      4.068577\n",
              "std     2886.89568      0.335359\n",
              "min        0.00000      0.000000\n",
              "25%     2499.75000      3.880000\n",
              "50%     4999.50000      4.080000\n",
              "75%     7499.25000      4.260000\n",
              "max     9999.00000      5.000000"
            ],
            "text/html": [
              "\n",
              "  <div id=\"df-0f151aa9-fa0e-43c6-9b84-35825b92be5d\" class=\"colab-df-container\">\n",
              "    <div>\n",
              "<style scoped>\n",
              "    .dataframe tbody tr th:only-of-type {\n",
              "        vertical-align: middle;\n",
              "    }\n",
              "\n",
              "    .dataframe tbody tr th {\n",
              "        vertical-align: top;\n",
              "    }\n",
              "\n",
              "    .dataframe thead th {\n",
              "        text-align: right;\n",
              "    }\n",
              "</style>\n",
              "<table border=\"1\" class=\"dataframe\">\n",
              "  <thead>\n",
              "    <tr style=\"text-align: right;\">\n",
              "      <th></th>\n",
              "      <th>Unnamed: 0</th>\n",
              "      <th>Avg_Rating</th>\n",
              "    </tr>\n",
              "  </thead>\n",
              "  <tbody>\n",
              "    <tr>\n",
              "      <th>count</th>\n",
              "      <td>10000.00000</td>\n",
              "      <td>10000.000000</td>\n",
              "    </tr>\n",
              "    <tr>\n",
              "      <th>mean</th>\n",
              "      <td>4999.50000</td>\n",
              "      <td>4.068577</td>\n",
              "    </tr>\n",
              "    <tr>\n",
              "      <th>std</th>\n",
              "      <td>2886.89568</td>\n",
              "      <td>0.335359</td>\n",
              "    </tr>\n",
              "    <tr>\n",
              "      <th>min</th>\n",
              "      <td>0.00000</td>\n",
              "      <td>0.000000</td>\n",
              "    </tr>\n",
              "    <tr>\n",
              "      <th>25%</th>\n",
              "      <td>2499.75000</td>\n",
              "      <td>3.880000</td>\n",
              "    </tr>\n",
              "    <tr>\n",
              "      <th>50%</th>\n",
              "      <td>4999.50000</td>\n",
              "      <td>4.080000</td>\n",
              "    </tr>\n",
              "    <tr>\n",
              "      <th>75%</th>\n",
              "      <td>7499.25000</td>\n",
              "      <td>4.260000</td>\n",
              "    </tr>\n",
              "    <tr>\n",
              "      <th>max</th>\n",
              "      <td>9999.00000</td>\n",
              "      <td>5.000000</td>\n",
              "    </tr>\n",
              "  </tbody>\n",
              "</table>\n",
              "</div>\n",
              "    <div class=\"colab-df-buttons\">\n",
              "\n",
              "  <div class=\"colab-df-container\">\n",
              "    <button class=\"colab-df-convert\" onclick=\"convertToInteractive('df-0f151aa9-fa0e-43c6-9b84-35825b92be5d')\"\n",
              "            title=\"Convert this dataframe to an interactive table.\"\n",
              "            style=\"display:none;\">\n",
              "\n",
              "  <svg xmlns=\"http://www.w3.org/2000/svg\" height=\"24px\" viewBox=\"0 -960 960 960\">\n",
              "    <path d=\"M120-120v-720h720v720H120Zm60-500h600v-160H180v160Zm220 220h160v-160H400v160Zm0 220h160v-160H400v160ZM180-400h160v-160H180v160Zm440 0h160v-160H620v160ZM180-180h160v-160H180v160Zm440 0h160v-160H620v160Z\"/>\n",
              "  </svg>\n",
              "    </button>\n",
              "\n",
              "  <style>\n",
              "    .colab-df-container {\n",
              "      display:flex;\n",
              "      gap: 12px;\n",
              "    }\n",
              "\n",
              "    .colab-df-convert {\n",
              "      background-color: #E8F0FE;\n",
              "      border: none;\n",
              "      border-radius: 50%;\n",
              "      cursor: pointer;\n",
              "      display: none;\n",
              "      fill: #1967D2;\n",
              "      height: 32px;\n",
              "      padding: 0 0 0 0;\n",
              "      width: 32px;\n",
              "    }\n",
              "\n",
              "    .colab-df-convert:hover {\n",
              "      background-color: #E2EBFA;\n",
              "      box-shadow: 0px 1px 2px rgba(60, 64, 67, 0.3), 0px 1px 3px 1px rgba(60, 64, 67, 0.15);\n",
              "      fill: #174EA6;\n",
              "    }\n",
              "\n",
              "    .colab-df-buttons div {\n",
              "      margin-bottom: 4px;\n",
              "    }\n",
              "\n",
              "    [theme=dark] .colab-df-convert {\n",
              "      background-color: #3B4455;\n",
              "      fill: #D2E3FC;\n",
              "    }\n",
              "\n",
              "    [theme=dark] .colab-df-convert:hover {\n",
              "      background-color: #434B5C;\n",
              "      box-shadow: 0px 1px 3px 1px rgba(0, 0, 0, 0.15);\n",
              "      filter: drop-shadow(0px 1px 2px rgba(0, 0, 0, 0.3));\n",
              "      fill: #FFFFFF;\n",
              "    }\n",
              "  </style>\n",
              "\n",
              "    <script>\n",
              "      const buttonEl =\n",
              "        document.querySelector('#df-0f151aa9-fa0e-43c6-9b84-35825b92be5d button.colab-df-convert');\n",
              "      buttonEl.style.display =\n",
              "        google.colab.kernel.accessAllowed ? 'block' : 'none';\n",
              "\n",
              "      async function convertToInteractive(key) {\n",
              "        const element = document.querySelector('#df-0f151aa9-fa0e-43c6-9b84-35825b92be5d');\n",
              "        const dataTable =\n",
              "          await google.colab.kernel.invokeFunction('convertToInteractive',\n",
              "                                                    [key], {});\n",
              "        if (!dataTable) return;\n",
              "\n",
              "        const docLinkHtml = 'Like what you see? Visit the ' +\n",
              "          '<a target=\"_blank\" href=https://colab.research.google.com/notebooks/data_table.ipynb>data table notebook</a>'\n",
              "          + ' to learn more about interactive tables.';\n",
              "        element.innerHTML = '';\n",
              "        dataTable['output_type'] = 'display_data';\n",
              "        await google.colab.output.renderOutput(dataTable, element);\n",
              "        const docLink = document.createElement('div');\n",
              "        docLink.innerHTML = docLinkHtml;\n",
              "        element.appendChild(docLink);\n",
              "      }\n",
              "    </script>\n",
              "  </div>\n",
              "\n",
              "\n",
              "    <div id=\"df-abdb263d-44f6-4bdf-b943-8fb320614679\">\n",
              "      <button class=\"colab-df-quickchart\" onclick=\"quickchart('df-abdb263d-44f6-4bdf-b943-8fb320614679')\"\n",
              "                title=\"Suggest charts\"\n",
              "                style=\"display:none;\">\n",
              "\n",
              "<svg xmlns=\"http://www.w3.org/2000/svg\" height=\"24px\"viewBox=\"0 0 24 24\"\n",
              "     width=\"24px\">\n",
              "    <g>\n",
              "        <path d=\"M19 3H5c-1.1 0-2 .9-2 2v14c0 1.1.9 2 2 2h14c1.1 0 2-.9 2-2V5c0-1.1-.9-2-2-2zM9 17H7v-7h2v7zm4 0h-2V7h2v10zm4 0h-2v-4h2v4z\"/>\n",
              "    </g>\n",
              "</svg>\n",
              "      </button>\n",
              "\n",
              "<style>\n",
              "  .colab-df-quickchart {\n",
              "      --bg-color: #E8F0FE;\n",
              "      --fill-color: #1967D2;\n",
              "      --hover-bg-color: #E2EBFA;\n",
              "      --hover-fill-color: #174EA6;\n",
              "      --disabled-fill-color: #AAA;\n",
              "      --disabled-bg-color: #DDD;\n",
              "  }\n",
              "\n",
              "  [theme=dark] .colab-df-quickchart {\n",
              "      --bg-color: #3B4455;\n",
              "      --fill-color: #D2E3FC;\n",
              "      --hover-bg-color: #434B5C;\n",
              "      --hover-fill-color: #FFFFFF;\n",
              "      --disabled-bg-color: #3B4455;\n",
              "      --disabled-fill-color: #666;\n",
              "  }\n",
              "\n",
              "  .colab-df-quickchart {\n",
              "    background-color: var(--bg-color);\n",
              "    border: none;\n",
              "    border-radius: 50%;\n",
              "    cursor: pointer;\n",
              "    display: none;\n",
              "    fill: var(--fill-color);\n",
              "    height: 32px;\n",
              "    padding: 0;\n",
              "    width: 32px;\n",
              "  }\n",
              "\n",
              "  .colab-df-quickchart:hover {\n",
              "    background-color: var(--hover-bg-color);\n",
              "    box-shadow: 0 1px 2px rgba(60, 64, 67, 0.3), 0 1px 3px 1px rgba(60, 64, 67, 0.15);\n",
              "    fill: var(--button-hover-fill-color);\n",
              "  }\n",
              "\n",
              "  .colab-df-quickchart-complete:disabled,\n",
              "  .colab-df-quickchart-complete:disabled:hover {\n",
              "    background-color: var(--disabled-bg-color);\n",
              "    fill: var(--disabled-fill-color);\n",
              "    box-shadow: none;\n",
              "  }\n",
              "\n",
              "  .colab-df-spinner {\n",
              "    border: 2px solid var(--fill-color);\n",
              "    border-color: transparent;\n",
              "    border-bottom-color: var(--fill-color);\n",
              "    animation:\n",
              "      spin 1s steps(1) infinite;\n",
              "  }\n",
              "\n",
              "  @keyframes spin {\n",
              "    0% {\n",
              "      border-color: transparent;\n",
              "      border-bottom-color: var(--fill-color);\n",
              "      border-left-color: var(--fill-color);\n",
              "    }\n",
              "    20% {\n",
              "      border-color: transparent;\n",
              "      border-left-color: var(--fill-color);\n",
              "      border-top-color: var(--fill-color);\n",
              "    }\n",
              "    30% {\n",
              "      border-color: transparent;\n",
              "      border-left-color: var(--fill-color);\n",
              "      border-top-color: var(--fill-color);\n",
              "      border-right-color: var(--fill-color);\n",
              "    }\n",
              "    40% {\n",
              "      border-color: transparent;\n",
              "      border-right-color: var(--fill-color);\n",
              "      border-top-color: var(--fill-color);\n",
              "    }\n",
              "    60% {\n",
              "      border-color: transparent;\n",
              "      border-right-color: var(--fill-color);\n",
              "    }\n",
              "    80% {\n",
              "      border-color: transparent;\n",
              "      border-right-color: var(--fill-color);\n",
              "      border-bottom-color: var(--fill-color);\n",
              "    }\n",
              "    90% {\n",
              "      border-color: transparent;\n",
              "      border-bottom-color: var(--fill-color);\n",
              "    }\n",
              "  }\n",
              "</style>\n",
              "\n",
              "      <script>\n",
              "        async function quickchart(key) {\n",
              "          const quickchartButtonEl =\n",
              "            document.querySelector('#' + key + ' button');\n",
              "          quickchartButtonEl.disabled = true;  // To prevent multiple clicks.\n",
              "          quickchartButtonEl.classList.add('colab-df-spinner');\n",
              "          try {\n",
              "            const charts = await google.colab.kernel.invokeFunction(\n",
              "                'suggestCharts', [key], {});\n",
              "          } catch (error) {\n",
              "            console.error('Error during call to suggestCharts:', error);\n",
              "          }\n",
              "          quickchartButtonEl.classList.remove('colab-df-spinner');\n",
              "          quickchartButtonEl.classList.add('colab-df-quickchart-complete');\n",
              "        }\n",
              "        (() => {\n",
              "          let quickchartButtonEl =\n",
              "            document.querySelector('#df-abdb263d-44f6-4bdf-b943-8fb320614679 button');\n",
              "          quickchartButtonEl.style.display =\n",
              "            google.colab.kernel.accessAllowed ? 'block' : 'none';\n",
              "        })();\n",
              "      </script>\n",
              "    </div>\n",
              "\n",
              "    </div>\n",
              "  </div>\n"
            ],
            "application/vnd.google.colaboratory.intrinsic+json": {
              "type": "dataframe",
              "summary": "{\n  \"name\": \"df\",\n  \"rows\": 8,\n  \"fields\": [\n    {\n      \"column\": \"Unnamed: 0\",\n      \"properties\": {\n        \"dtype\": \"number\",\n        \"std\": 3603.8294157747096,\n        \"min\": 0.0,\n        \"max\": 10000.0,\n        \"num_unique_values\": 7,\n        \"samples\": [\n          10000.0,\n          4999.5,\n          7499.25\n        ],\n        \"semantic_type\": \"\",\n        \"description\": \"\"\n      }\n    },\n    {\n      \"column\": \"Avg_Rating\",\n      \"properties\": {\n        \"dtype\": \"number\",\n        \"std\": 3534.4422317259737,\n        \"min\": 0.0,\n        \"max\": 10000.0,\n        \"num_unique_values\": 8,\n        \"samples\": [\n          4.068576999999999,\n          4.08,\n          10000.0\n        ],\n        \"semantic_type\": \"\",\n        \"description\": \"\"\n      }\n    }\n  ]\n}"
            }
          },
          "metadata": {},
          "execution_count": 4
        }
      ]
    },
    {
      "cell_type": "markdown",
      "source": [
        "Info pada dataset seperti kolom, dan lain lain"
      ],
      "metadata": {
        "id": "QSFSZ3FEeP51"
      }
    },
    {
      "cell_type": "code",
      "source": [
        "df.info()"
      ],
      "metadata": {
        "colab": {
          "base_uri": "https://localhost:8080/"
        },
        "id": "dlPllD9Z2k42",
        "outputId": "2f13348d-c96d-495c-e8cf-d8efe9e678cc"
      },
      "execution_count": 5,
      "outputs": [
        {
          "output_type": "stream",
          "name": "stdout",
          "text": [
            "<class 'pandas.core.frame.DataFrame'>\n",
            "RangeIndex: 10000 entries, 0 to 9999\n",
            "Data columns (total 8 columns):\n",
            " #   Column       Non-Null Count  Dtype  \n",
            "---  ------       --------------  -----  \n",
            " 0   Unnamed: 0   10000 non-null  int64  \n",
            " 1   Book         10000 non-null  object \n",
            " 2   Author       10000 non-null  object \n",
            " 3   Description  9923 non-null   object \n",
            " 4   Genres       10000 non-null  object \n",
            " 5   Avg_Rating   10000 non-null  float64\n",
            " 6   Num_Ratings  10000 non-null  object \n",
            " 7   URL          10000 non-null  object \n",
            "dtypes: float64(1), int64(1), object(6)\n",
            "memory usage: 625.1+ KB\n"
          ]
        }
      ]
    },
    {
      "cell_type": "code",
      "source": [
        "import seaborn as sns\n",
        "import matplotlib.pyplot as plt\n",
        "sns.histplot(df['Avg_Rating'], bins=30, kde=True)\n",
        "plt.title(\"Distribusi Rata-rata Rating Buku\")\n",
        "plt.xlabel(\"Avg_Rating\")\n",
        "plt.ylabel(\"Jumlah Buku\")\n",
        "plt.show()"
      ],
      "metadata": {
        "colab": {
          "base_uri": "https://localhost:8080/",
          "height": 472
        },
        "id": "d8uxWtVswuMG",
        "outputId": "a8beae03-9d76-4dd9-b40c-a436741561a5"
      },
      "execution_count": 29,
      "outputs": [
        {
          "output_type": "display_data",
          "data": {
            "text/plain": [
              "<Figure size 640x480 with 1 Axes>"
            ],
            "image/png": "[encoded data removed]"
          },
          "metadata": {}
        }
      ]
    },
    {
      "cell_type": "markdown",
      "source": [
        "## PREPROCESSING"
      ],
      "metadata": {
        "id": "5Rj2W5pW2oSI"
      }
    },
    {
      "cell_type": "markdown",
      "source": [
        "Menghitung jumlah data yang duplikasi"
      ],
      "metadata": {
        "id": "rbsdU-m4eUQI"
      }
    },
    {
      "cell_type": "code",
      "source": [
        "df.duplicated().sum()"
      ],
      "metadata": {
        "colab": {
          "base_uri": "https://localhost:8080/"
        },
        "id": "c8qluH6v2qYq",
        "outputId": "9c7cae7c-f15d-43a0-be0a-2f57a81dbe36"
      },
      "execution_count": 6,
      "outputs": [
        {
          "output_type": "execute_result",
          "data": {
            "text/plain": [
              "np.int64(0)"
            ]
          },
          "metadata": {},
          "execution_count": 6
        }
      ]
    },
    {
      "cell_type": "markdown",
      "source": [
        "Menghitung jumlah data yang mengandung nilai null"
      ],
      "metadata": {
        "id": "X2d712GPeXID"
      }
    },
    {
      "cell_type": "code",
      "source": [
        "df.isnull().sum()\n",
        "df = df.dropna()"
      ],
      "metadata": {
        "id": "I9OL6LrS2tw6"
      },
      "execution_count": 7,
      "outputs": []
    },
    {
      "cell_type": "markdown",
      "source": [
        "Kode berikut digunakan untuk menghapus kolom 'Unnamed: 0' dan 'URL' dari DataFrame jika kolom tersebut ada. Pertama, kode akan memeriksa apakah kedua nama kolom tersebut terdapat pada data. Jika salah satunya atau keduanya ditemukan, kolom tersebut akan dihapus dari DataFrame menggunakan fungsi `drop`. Langkah ini bertujuan untuk membersihkan data dari kolom-kolom yang tidak diperlukan, sehingga proses analisis selanjutnya menjadi lebih efisien dan hasil yang diperoleh tidak terpengaruh oleh kolom yang tidak relevan."
      ],
      "metadata": {
        "id": "_df_r4X6eioW"
      }
    },
    {
      "cell_type": "code",
      "source": [
        "#  Hapus kolom 'Unnamed: 0' dan 'URL' jika ada\n",
        "columns_to_drop = [col for col in ['Unnamed: 0', 'URL'] if col in df.columns]\n",
        "df.drop(columns=columns_to_drop, inplace=True)"
      ],
      "metadata": {
        "colab": {
          "base_uri": "https://localhost:8080/"
        },
        "id": "8JaGjei23Ll0",
        "outputId": "d572b615-4844-443e-da74-b50682579576"
      },
      "execution_count": 8,
      "outputs": [
        {
          "output_type": "stream",
          "name": "stderr",
          "text": [
            "<ipython-input-8-251cada93da3>:3: SettingWithCopyWarning: \n",
            "A value is trying to be set on a copy of a slice from a DataFrame\n",
            "\n",
            "See the caveats in the documentation: https://pandas.pydata.org/pandas-docs/stable/user_guide/indexing.html#returning-a-view-versus-a-copy\n",
            "  df.drop(columns=columns_to_drop, inplace=True)\n"
          ]
        }
      ]
    },
    {
      "cell_type": "markdown",
      "source": [
        "Kode ini digunakan untuk mengonversi kolom 'Num_Ratings' dari format string (yang mungkin memiliki tanda koma sebagai pemisah ribuan) menjadi tipe data integer.  \n",
        "Pertama, fungsi `.str.replace(',', '')` menghapus semua koma dari nilai pada kolom tersebut, lalu `.astype(int)` mengubah hasilnya menjadi bilangan bulat (integer).  \n",
        "Langkah ini penting agar data pada kolom 'Num_Ratings' dapat digunakan untuk analisis numerik tanpa error.  \n",
        "Setelah proses konversi, tipe data setiap kolom dan lima baris pertama data ditampilkan untuk memastikan hasil perubahan sudah sesuai."
      ],
      "metadata": {
        "id": "gQiEECoRej3x"
      }
    },
    {
      "cell_type": "code",
      "source": [
        "#  Konversi 'Num_Ratings' dari string ke integer (hilangkan koma)\n",
        "df['Num_Ratings'] = df['Num_Ratings'].str.replace(',', '').astype(int)\n",
        "\n",
        "# Lihat hasilnya\n",
        "print(df.dtypes)\n",
        "print(df.head())"
      ],
      "metadata": {
        "colab": {
          "base_uri": "https://localhost:8080/"
        },
        "id": "DE65sVELXPXA",
        "outputId": "3a3e683a-3e71-473f-ed0b-adb4950bc58e"
      },
      "execution_count": 9,
      "outputs": [
        {
          "output_type": "stream",
          "name": "stdout",
          "text": [
            "Book            object\n",
            "Author          object\n",
            "Description     object\n",
            "Genres          object\n",
            "Avg_Rating     float64\n",
            "Num_Ratings      int64\n",
            "dtype: object\n",
            "                                                Book         Author  \\\n",
            "0                              To Kill a Mockingbird     Harper Lee   \n",
            "1  Harry Potter and the Philosopher’s Stone (Harr...   J.K. Rowling   \n",
            "2                                Pride and Prejudice    Jane Austen   \n",
            "3                          The Diary of a Young Girl     Anne Frank   \n",
            "4                                        Animal Farm  George Orwell   \n",
            "\n",
            "                                         Description  \\\n",
            "0  The unforgettable novel of a childhood in a sl...   \n",
            "1  Harry Potter thinks he is an ordinary boy - un...   \n",
            "2  Since its immediate success in 1813, Pride and...   \n",
            "3  Discovered in the attic in which she spent the...   \n",
            "4  Librarian's note: There is an Alternate Cover ...   \n",
            "\n",
            "                                              Genres  Avg_Rating  Num_Ratings  \n",
            "0  ['Classics', 'Fiction', 'Historical Fiction', ...        4.27      5691311  \n",
            "1  ['Fantasy', 'Fiction', 'Young Adult', 'Magic',...        4.47      9278135  \n",
            "2  ['Classics', 'Fiction', 'Romance', 'Historical...        4.28      3944155  \n",
            "3  ['Classics', 'Nonfiction', 'History', 'Biograp...        4.18      3488438  \n",
            "4  ['Classics', 'Fiction', 'Dystopia', 'Fantasy',...        3.98      3575172  \n"
          ]
        },
        {
          "output_type": "stream",
          "name": "stderr",
          "text": [
            "<ipython-input-9-5f5f1e90762a>:2: SettingWithCopyWarning: \n",
            "A value is trying to be set on a copy of a slice from a DataFrame.\n",
            "Try using .loc[row_indexer,col_indexer] = value instead\n",
            "\n",
            "See the caveats in the documentation: https://pandas.pydata.org/pandas-docs/stable/user_guide/indexing.html#returning-a-view-versus-a-copy\n",
            "  df['Num_Ratings'] = df['Num_Ratings'].str.replace(',', '').astype(int)\n"
          ]
        }
      ]
    },
    {
      "cell_type": "code",
      "source": [
        "df.head()"
      ],
      "metadata": {
        "colab": {
          "base_uri": "https://localhost:8080/",
          "height": 206
        },
        "id": "DqRkIRIS5Zf-",
        "outputId": "8faa60cb-e09e-4490-a99e-dff3f0a13582"
      },
      "execution_count": 10,
      "outputs": [
        {
          "output_type": "execute_result",
          "data": {
            "text/plain": [
              "                                                Book         Author  \\\n",
              "0                              To Kill a Mockingbird     Harper Lee   \n",
              "1  Harry Potter and the Philosopher’s Stone (Harr...   J.K. Rowling   \n",
              "2                                Pride and Prejudice    Jane Austen   \n",
              "3                          The Diary of a Young Girl     Anne Frank   \n",
              "4                                        Animal Farm  George Orwell   \n",
              "\n",
              "                                         Description  \\\n",
              "0  The unforgettable novel of a childhood in a sl...   \n",
              "1  Harry Potter thinks he is an ordinary boy - un...   \n",
              "2  Since its immediate success in 1813, Pride and...   \n",
              "3  Discovered in the attic in which she spent the...   \n",
              "4  Librarian's note: There is an Alternate Cover ...   \n",
              "\n",
              "                                              Genres  Avg_Rating  Num_Ratings  \n",
              "0  ['Classics', 'Fiction', 'Historical Fiction', ...        4.27      5691311  \n",
              "1  ['Fantasy', 'Fiction', 'Young Adult', 'Magic',...        4.47      9278135  \n",
              "2  ['Classics', 'Fiction', 'Romance', 'Historical...        4.28      3944155  \n",
              "3  ['Classics', 'Nonfiction', 'History', 'Biograp...        4.18      3488438  \n",
              "4  ['Classics', 'Fiction', 'Dystopia', 'Fantasy',...        3.98      3575172  "
            ],
            "text/html": [
              "\n",
              "  <div id=\"df-9a2ce3f6-978a-47d3-ad00-60c6c50d4139\" class=\"colab-df-container\">\n",
              "    <div>\n",
              "<style scoped>\n",
              "    .dataframe tbody tr th:only-of-type {\n",
              "        vertical-align: middle;\n",
              "    }\n",
              "\n",
              "    .dataframe tbody tr th {\n",
              "        vertical-align: top;\n",
              "    }\n",
              "\n",
              "    .dataframe thead th {\n",
              "        text-align: right;\n",
              "    }\n",
              "</style>\n",
              "<table border=\"1\" class=\"dataframe\">\n",
              "  <thead>\n",
              "    <tr style=\"text-align: right;\">\n",
              "      <th></th>\n",
              "      <th>Book</th>\n",
              "      <th>Author</th>\n",
              "      <th>Description</th>\n",
              "      <th>Genres</th>\n",
              "      <th>Avg_Rating</th>\n",
              "      <th>Num_Ratings</th>\n",
              "    </tr>\n",
              "  </thead>\n",
              "  <tbody>\n",
              "    <tr>\n",
              "      <th>0</th>\n",
              "      <td>To Kill a Mockingbird</td>\n",
              "      <td>Harper Lee</td>\n",
              "      <td>The unforgettable novel of a childhood in a sl...</td>\n",
              "      <td>['Classics', 'Fiction', 'Historical Fiction', ...</td>\n",
              "      <td>4.27</td>\n",
              "      <td>5691311</td>\n",
              "    </tr>\n",
              "    <tr>\n",
              "      <th>1</th>\n",
              "      <td>Harry Potter and the Philosopher’s Stone (Harr...</td>\n",
              "      <td>J.K. Rowling</td>\n",
              "      <td>Harry Potter thinks he is an ordinary boy - un...</td>\n",
              "      <td>['Fantasy', 'Fiction', 'Young Adult', 'Magic',...</td>\n",
              "      <td>4.47</td>\n",
              "      <td>9278135</td>\n",
              "    </tr>\n",
              "    <tr>\n",
              "      <th>2</th>\n",
              "      <td>Pride and Prejudice</td>\n",
              "      <td>Jane Austen</td>\n",
              "      <td>Since its immediate success in 1813, Pride and...</td>\n",
              "      <td>['Classics', 'Fiction', 'Romance', 'Historical...</td>\n",
              "      <td>4.28</td>\n",
              "      <td>3944155</td>\n",
              "    </tr>\n",
              "    <tr>\n",
              "      <th>3</th>\n",
              "      <td>The Diary of a Young Girl</td>\n",
              "      <td>Anne Frank</td>\n",
              "      <td>Discovered in the attic in which she spent the...</td>\n",
              "      <td>['Classics', 'Nonfiction', 'History', 'Biograp...</td>\n",
              "      <td>4.18</td>\n",
              "      <td>3488438</td>\n",
              "    </tr>\n",
              "    <tr>\n",
              "      <th>4</th>\n",
              "      <td>Animal Farm</td>\n",
              "      <td>George Orwell</td>\n",
              "      <td>Librarian's note: There is an Alternate Cover ...</td>\n",
              "      <td>['Classics', 'Fiction', 'Dystopia', 'Fantasy',...</td>\n",
              "      <td>3.98</td>\n",
              "      <td>3575172</td>\n",
              "    </tr>\n",
              "  </tbody>\n",
              "</table>\n",
              "</div>\n",
              "    <div class=\"colab-df-buttons\">\n",
              "\n",
              "  <div class=\"colab-df-container\">\n",
              "    <button class=\"colab-df-convert\" onclick=\"convertToInteractive('df-9a2ce3f6-978a-47d3-ad00-60c6c50d4139')\"\n",
              "            title=\"Convert this dataframe to an interactive table.\"\n",
              "            style=\"display:none;\">\n",
              "\n",
              "  <svg xmlns=\"http://www.w3.org/2000/svg\" height=\"24px\" viewBox=\"0 -960 960 960\">\n",
              "    <path d=\"M120-120v-720h720v720H120Zm60-500h600v-160H180v160Zm220 220h160v-160H400v160Zm0 220h160v-160H400v160ZM180-400h160v-160H180v160Zm440 0h160v-160H620v160ZM180-180h160v-160H180v160Zm440 0h160v-160H620v160Z\"/>\n",
              "  </svg>\n",
              "    </button>\n",
              "\n",
              "  <style>\n",
              "    .colab-df-container {\n",
              "      display:flex;\n",
              "      gap: 12px;\n",
              "    }\n",
              "\n",
              "    .colab-df-convert {\n",
              "      background-color: #E8F0FE;\n",
              "      border: none;\n",
              "      border-radius: 50%;\n",
              "      cursor: pointer;\n",
              "      display: none;\n",
              "      fill: #1967D2;\n",
              "      height: 32px;\n",
              "      padding: 0 0 0 0;\n",
              "      width: 32px;\n",
              "    }\n",
              "\n",
              "    .colab-df-convert:hover {\n",
              "      background-color: #E2EBFA;\n",
              "      box-shadow: 0px 1px 2px rgba(60, 64, 67, 0.3), 0px 1px 3px 1px rgba(60, 64, 67, 0.15);\n",
              "      fill: #174EA6;\n",
              "    }\n",
              "\n",
              "    .colab-df-buttons div {\n",
              "      margin-bottom: 4px;\n",
              "    }\n",
              "\n",
              "    [theme=dark] .colab-df-convert {\n",
              "      background-color: #3B4455;\n",
              "      fill: #D2E3FC;\n",
              "    }\n",
              "\n",
              "    [theme=dark] .colab-df-convert:hover {\n",
              "      background-color: #434B5C;\n",
              "      box-shadow: 0px 1px 3px 1px rgba(0, 0, 0, 0.15);\n",
              "      filter: drop-shadow(0px 1px 2px rgba(0, 0, 0, 0.3));\n",
              "      fill: #FFFFFF;\n",
              "    }\n",
              "  </style>\n",
              "\n",
              "    <script>\n",
              "      const buttonEl =\n",
              "        document.querySelector('#df-9a2ce3f6-978a-47d3-ad00-60c6c50d4139 button.colab-df-convert');\n",
              "      buttonEl.style.display =\n",
              "        google.colab.kernel.accessAllowed ? 'block' : 'none';\n",
              "\n",
              "      async function convertToInteractive(key) {\n",
              "        const element = document.querySelector('#df-9a2ce3f6-978a-47d3-ad00-60c6c50d4139');\n",
              "        const dataTable =\n",
              "          await google.colab.kernel.invokeFunction('convertToInteractive',\n",
              "                                                    [key], {});\n",
              "        if (!dataTable) return;\n",
              "\n",
              "        const docLinkHtml = 'Like what you see? Visit the ' +\n",
              "          '<a target=\"_blank\" href=https://colab.research.google.com/notebooks/data_table.ipynb>data table notebook</a>'\n",
              "          + ' to learn more about interactive tables.';\n",
              "        element.innerHTML = '';\n",
              "        dataTable['output_type'] = 'display_data';\n",
              "        await google.colab.output.renderOutput(dataTable, element);\n",
              "        const docLink = document.createElement('div');\n",
              "        docLink.innerHTML = docLinkHtml;\n",
              "        element.appendChild(docLink);\n",
              "      }\n",
              "    </script>\n",
              "  </div>\n",
              "\n",
              "\n",
              "    <div id=\"df-288b794e-614b-4256-80dc-d6ea62969453\">\n",
              "      <button class=\"colab-df-quickchart\" onclick=\"quickchart('df-288b794e-614b-4256-80dc-d6ea62969453')\"\n",
              "                title=\"Suggest charts\"\n",
              "                style=\"display:none;\">\n",
              "\n",
              "<svg xmlns=\"http://www.w3.org/2000/svg\" height=\"24px\"viewBox=\"0 0 24 24\"\n",
              "     width=\"24px\">\n",
              "    <g>\n",
              "        <path d=\"M19 3H5c-1.1 0-2 .9-2 2v14c0 1.1.9 2 2 2h14c1.1 0 2-.9 2-2V5c0-1.1-.9-2-2-2zM9 17H7v-7h2v7zm4 0h-2V7h2v10zm4 0h-2v-4h2v4z\"/>\n",
              "    </g>\n",
              "</svg>\n",
              "      </button>\n",
              "\n",
              "<style>\n",
              "  .colab-df-quickchart {\n",
              "      --bg-color: #E8F0FE;\n",
              "      --fill-color: #1967D2;\n",
              "      --hover-bg-color: #E2EBFA;\n",
              "      --hover-fill-color: #174EA6;\n",
              "      --disabled-fill-color: #AAA;\n",
              "      --disabled-bg-color: #DDD;\n",
              "  }\n",
              "\n",
              "  [theme=dark] .colab-df-quickchart {\n",
              "      --bg-color: #3B4455;\n",
              "      --fill-color: #D2E3FC;\n",
              "      --hover-bg-color: #434B5C;\n",
              "      --hover-fill-color: #FFFFFF;\n",
              "      --disabled-bg-color: #3B4455;\n",
              "      --disabled-fill-color: #666;\n",
              "  }\n",
              "\n",
              "  .colab-df-quickchart {\n",
              "    background-color: var(--bg-color);\n",
              "    border: none;\n",
              "    border-radius: 50%;\n",
              "    cursor: pointer;\n",
              "    display: none;\n",
              "    fill: var(--fill-color);\n",
              "    height: 32px;\n",
              "    padding: 0;\n",
              "    width: 32px;\n",
              "  }\n",
              "\n",
              "  .colab-df-quickchart:hover {\n",
              "    background-color: var(--hover-bg-color);\n",
              "    box-shadow: 0 1px 2px rgba(60, 64, 67, 0.3), 0 1px 3px 1px rgba(60, 64, 67, 0.15);\n",
              "    fill: var(--button-hover-fill-color);\n",
              "  }\n",
              "\n",
              "  .colab-df-quickchart-complete:disabled,\n",
              "  .colab-df-quickchart-complete:disabled:hover {\n",
              "    background-color: var(--disabled-bg-color);\n",
              "    fill: var(--disabled-fill-color);\n",
              "    box-shadow: none;\n",
              "  }\n",
              "\n",
              "  .colab-df-spinner {\n",
              "    border: 2px solid var(--fill-color);\n",
              "    border-color: transparent;\n",
              "    border-bottom-color: var(--fill-color);\n",
              "    animation:\n",
              "      spin 1s steps(1) infinite;\n",
              "  }\n",
              "\n",
              "  @keyframes spin {\n",
              "    0% {\n",
              "      border-color: transparent;\n",
              "      border-bottom-color: var(--fill-color);\n",
              "      border-left-color: var(--fill-color);\n",
              "    }\n",
              "    20% {\n",
              "      border-color: transparent;\n",
              "      border-left-color: var(--fill-color);\n",
              "      border-top-color: var(--fill-color);\n",
              "    }\n",
              "    30% {\n",
              "      border-color: transparent;\n",
              "      border-left-color: var(--fill-color);\n",
              "      border-top-color: var(--fill-color);\n",
              "      border-right-color: var(--fill-color);\n",
              "    }\n",
              "    40% {\n",
              "      border-color: transparent;\n",
              "      border-right-color: var(--fill-color);\n",
              "      border-top-color: var(--fill-color);\n",
              "    }\n",
              "    60% {\n",
              "      border-color: transparent;\n",
              "      border-right-color: var(--fill-color);\n",
              "    }\n",
              "    80% {\n",
              "      border-color: transparent;\n",
              "      border-right-color: var(--fill-color);\n",
              "      border-bottom-color: var(--fill-color);\n",
              "    }\n",
              "    90% {\n",
              "      border-color: transparent;\n",
              "      border-bottom-color: var(--fill-color);\n",
              "    }\n",
              "  }\n",
              "</style>\n",
              "\n",
              "      <script>\n",
              "        async function quickchart(key) {\n",
              "          const quickchartButtonEl =\n",
              "            document.querySelector('#' + key + ' button');\n",
              "          quickchartButtonEl.disabled = true;  // To prevent multiple clicks.\n",
              "          quickchartButtonEl.classList.add('colab-df-spinner');\n",
              "          try {\n",
              "            const charts = await google.colab.kernel.invokeFunction(\n",
              "                'suggestCharts', [key], {});\n",
              "          } catch (error) {\n",
              "            console.error('Error during call to suggestCharts:', error);\n",
              "          }\n",
              "          quickchartButtonEl.classList.remove('colab-df-spinner');\n",
              "          quickchartButtonEl.classList.add('colab-df-quickchart-complete');\n",
              "        }\n",
              "        (() => {\n",
              "          let quickchartButtonEl =\n",
              "            document.querySelector('#df-288b794e-614b-4256-80dc-d6ea62969453 button');\n",
              "          quickchartButtonEl.style.display =\n",
              "            google.colab.kernel.accessAllowed ? 'block' : 'none';\n",
              "        })();\n",
              "      </script>\n",
              "    </div>\n",
              "\n",
              "    </div>\n",
              "  </div>\n"
            ],
            "application/vnd.google.colaboratory.intrinsic+json": {
              "type": "dataframe",
              "variable_name": "df",
              "summary": "{\n  \"name\": \"df\",\n  \"rows\": 9923,\n  \"fields\": [\n    {\n      \"column\": \"Book\",\n      \"properties\": {\n        \"dtype\": \"string\",\n        \"num_unique_values\": 9795,\n        \"samples\": [\n          \"The Poisonwood Bible\",\n          \"Les Mis\\u00e9rables\",\n          \"The Natural\"\n        ],\n        \"semantic_type\": \"\",\n        \"description\": \"\"\n      }\n    },\n    {\n      \"column\": \"Author\",\n      \"properties\": {\n        \"dtype\": \"string\",\n        \"num_unique_values\": 6009,\n        \"samples\": [\n          \"Pearl S. Buck\",\n          \"Kevin Hearne\",\n          \"William Kent Krueger\"\n        ],\n        \"semantic_type\": \"\",\n        \"description\": \"\"\n      }\n    },\n    {\n      \"column\": \"Description\",\n      \"properties\": {\n        \"dtype\": \"string\",\n        \"num_unique_values\": 9888,\n        \"samples\": [\n          \"What is leadership? What qualities do true leaders have? Can you learn to be a leader? These questions and more are answered. Described are the most common virtues of a leader and past and present examples.\",\n          \"Don\\u2019t face reality. Create reality!\\u00a0\\u00a0\\u00a0\\u00a0\\u00a0\\u00a0 \\nE-Squared\\n could best be described as a lab manual with simple experiments to prove once and for all that reality is malleable, that consciousness trumps matter, and that you shape your life with your mind. Rather than take it on faith, you are invited to conduct nine 48-hour experiments to prove there really is a positive, loving, totally hip force in the universe. Yes, you read that right. It says prove. \\u00a0\\u00a0\\u00a0\\u00a0\\u00a0 The experiments, each of which can be conducted with absolutely no money and very little time expenditure, demonstrate that spiritual principles are as dependable as gravity, as consistent as Newton\\u2019s\\u00a0laws of motion. For years, you\\u2019ve been hoping and praying that spiritual principles are true. Now, you can know. \\u00a0\\u00a0\\u00a0\\u00a0\\u00a0 E-Squared proves the following:\\u00a01.\\u00a0\\u00a0\\u00a0\\u00a0\\u00a0\\u00a0 There is an invisible energy force or field of infinite possibilities. 2.\\u00a0\\u00a0\\u00a0\\u00a0\\u00a0\\u00a0 You impact the field and draw from it according to your beliefs and expectations.\\u00a03.\\u00a0\\u00a0\\u00a0\\u00a0\\u00a0\\u00a0 You, too, are a field of energy.\\u00a04.\\u00a0\\u00a0\\u00a0\\u00a0\\u00a0\\u00a0 Whatever you focus on expands.\\u00a0\\u00a0 5.\\u00a0\\u00a0\\u00a0\\u00a0\\u00a0\\u00a0 Your connection to the field provides accurate and unlimited guidance.6.\\u00a0\\u00a0\\u00a0\\u00a0\\u00a0\\u00a0 Your thoughts and consciousness impact matter.\\u00a07.\\u00a0\\u00a0\\u00a0\\u00a0\\u00a0\\u00a0 Your thoughts and consciousness provide the scaffolding for your physical body.8.\\u00a0\\u00a0\\u00a0\\u00a0\\u00a0\\u00a0 You are connected to everything and everyone else in the universe. 9.\\u00a0\\u00a0\\u00a0\\u00a0\\u00a0\\u00a0 The universe is limitless, abundant, and strangely accommodating.\",\n          \"A rookie lawyer, crime mogul and junior reporter all converge in London's underworld of glamour, crime and greed. Set in a city rocked by corruption and tabloid excess, one of them is going to learn that sometimes in life you get more than you bargained forJukebox is Saira Viola's brilliant full length debut novel.\\\"A great amount has been done in literature over the years but every now and then someone comes along and shows us a completely different approach to the ancient art of the scribe . So hail Saira Viola and discover her twisted and beautiful imagination. Literature needs Saira Viola . Her writing is sharp direct and gripping. The latest research shows there is no one like her.\\\" Benjamin Zephaniah\\\" A fresh faced voice to herald in the apocalypse .Posers beware .This is the real deal.\\\" Jonathan Shaw\\\"Injecting musical prose into a dying genre and one sorely needing a shot in the arm .What Viola has proven is the great novel is not incompatible with virtuosic poetics.\\\"James Browning Kepple\\\"I enjoyed this piece's in-your-face quality.\\\"Robin Wyatt Dunn\\\"Guy Ritchie meets Martin Amis.......stunning.\\\"Betsy Reavley\"\n        ],\n        \"semantic_type\": \"\",\n        \"description\": \"\"\n      }\n    },\n    {\n      \"column\": \"Genres\",\n      \"properties\": {\n        \"dtype\": \"string\",\n        \"num_unique_values\": 8022,\n        \"samples\": [\n          \"['History', 'Biography', 'Nonfiction', 'Race', 'Historical', 'American', 'Womens']\",\n          \"['Young Adult', 'Fantasy', 'Paranormal', 'Romance', 'Fiction', 'Ghosts', 'Supernatural']\",\n          \"['Fantasy', 'Young Adult', 'Romance', 'Paranormal', 'Fairies', 'Fae', 'Fiction']\"\n        ],\n        \"semantic_type\": \"\",\n        \"description\": \"\"\n      }\n    },\n    {\n      \"column\": \"Avg_Rating\",\n      \"properties\": {\n        \"dtype\": \"number\",\n        \"std\": 0.3319367356051134,\n        \"min\": 0.0,\n        \"max\": 5.0,\n        \"num_unique_values\": 211,\n        \"samples\": [\n          3.9,\n          4.93,\n          3.24\n        ],\n        \"semantic_type\": \"\",\n        \"description\": \"\"\n      }\n    },\n    {\n      \"column\": \"Num_Ratings\",\n      \"properties\": {\n        \"dtype\": \"number\",\n        \"std\": 343376,\n        \"min\": 0,\n        \"max\": 9278135,\n        \"num_unique_values\": 7534,\n        \"samples\": [\n          18022,\n          40171,\n          99818\n        ],\n        \"semantic_type\": \"\",\n        \"description\": \"\"\n      }\n    }\n  ]\n}"
            }
          },
          "metadata": {},
          "execution_count": 10
        }
      ]
    },
    {
      "cell_type": "code",
      "source": [
        "df.info()"
      ],
      "metadata": {
        "colab": {
          "base_uri": "https://localhost:8080/"
        },
        "id": "elqMaPIr9pk6",
        "outputId": "783d3877-c1b0-4d62-dc8d-60d64149ecea"
      },
      "execution_count": 11,
      "outputs": [
        {
          "output_type": "stream",
          "name": "stdout",
          "text": [
            "<class 'pandas.core.frame.DataFrame'>\n",
            "Index: 9923 entries, 0 to 9999\n",
            "Data columns (total 6 columns):\n",
            " #   Column       Non-Null Count  Dtype  \n",
            "---  ------       --------------  -----  \n",
            " 0   Book         9923 non-null   object \n",
            " 1   Author       9923 non-null   object \n",
            " 2   Description  9923 non-null   object \n",
            " 3   Genres       9923 non-null   object \n",
            " 4   Avg_Rating   9923 non-null   float64\n",
            " 5   Num_Ratings  9923 non-null   int64  \n",
            "dtypes: float64(1), int64(1), object(4)\n",
            "memory usage: 542.7+ KB\n"
          ]
        }
      ]
    },
    {
      "cell_type": "markdown",
      "source": [
        "Kode ini digunakan untuk mengonversi data pada kolom 'Genres' dari format string (misal: \"['Fiction', 'Romance']\") menjadi list Python (`['Fiction', 'Romance']`).  \n",
        "Fungsi `ast.literal_eval` secara otomatis mengubah string yang berisi representasi list menjadi objek list.  \n",
        "Langkah ini penting agar data 'Genres' dapat digunakan untuk analisis lebih lanjut, seperti encoding multi-label atau pemrosesan fitur berbasis list."
      ],
      "metadata": {
        "id": "o2-UWA2Ues57"
      }
    },
    {
      "cell_type": "code",
      "source": [
        "# Pastikan 'Genres' diubah dari string ke list Python\n",
        "df['Genres'] = df['Genres'].apply(lambda x: ast.literal_eval(x))"
      ],
      "metadata": {
        "id": "p7yLS-8i-u_X"
      },
      "execution_count": 12,
      "outputs": []
    },
    {
      "cell_type": "markdown",
      "source": [
        "Kode ini digunakan untuk mengubah data pada kolom 'Genres' (berisi list beberapa genre per buku) menjadi fitur numerik (multi-label one-hot encoding).\n",
        "\n",
        "- `MultiLabelBinarizer()` membuat objek encoder multi-label.\n",
        "- `mlb.fit_transform(df['Genres'])` mengubah setiap list genre menjadi vektor biner (1 jika buku memiliki genre tersebut, 0 jika tidak).\n",
        "- Hasil encoding disimpan dalam DataFrame baru `genres_df` dengan nama kolom sesuai genre."
      ],
      "metadata": {
        "id": "992ScuVAe6R0"
      }
    },
    {
      "cell_type": "code",
      "source": [
        "#  Multi-hot Encoding untuk Genres\n",
        "df['Genres'] = df['Genres'].apply(lambda x: [genre.strip() for genre in x] if isinstance(x, list) else [])\n",
        "mlb = MultiLabelBinarizer()\n",
        "genre_encoded = mlb.fit_transform(df['Genres'])\n",
        "genre_df = pd.DataFrame(genre_encoded, columns=mlb.classes_)"
      ],
      "metadata": {
        "id": "qO1_DTUOXThW"
      },
      "execution_count": 13,
      "outputs": []
    },
    {
      "cell_type": "markdown",
      "source": [
        "Kode ini bertujuan untuk mengoptimalkan fitur teks melalui teknik representasi TF-IDF dengan menggabungkan informasi dari kolom 'Description' dan 'Genres'. Langkah pertama adalah memastikan bahwa setiap data pada kolom 'Genres' bertipe list diubah menjadi string dengan genre dipisahkan oleh spasi. Selanjutnya, kolom baru 'Description_Genres' dibentuk melalui penggabungan teks deskripsi dan genre, sehingga data teks menjadi lebih kaya dan informatif. Seluruh teks gabungan ini kemudian diubah menjadi vektor numerik menggunakan `TfidfVectorizer` dengan maksimal 300 fitur dan penghapusan kata-kata umum (stop words) bahasa Inggris. Hasil proses ini disimpan pada sebuah DataFrame baru yang merepresentasikan setiap buku dalam bentuk fitur numerik yang siap digunakan untuk proses analisis atau pemodelan machine learning."
      ],
      "metadata": {
        "id": "0DN1NjE4e7oJ"
      }
    },
    {
      "cell_type": "code",
      "source": [
        "# Jika Genres bertipe list, ubah jadi string dipisahkan spasi\n",
        "df['Genres_str'] = df['Genres'].apply(lambda x: ' '.join(x) if isinstance(x, list) else str(x))\n",
        "df['Description_Genres'] = df['Description'].fillna('') + ' ' + df['Genres_str'].fillna('')\n",
        "\n",
        "tfidf = TfidfVectorizer(max_features=300, stop_words='english')\n",
        "description_tfidf = tfidf.fit_transform(df['Description_Genres'])\n",
        "description_df = pd.DataFrame(description_tfidf.toarray(), columns=tfidf.get_feature_names_out())"
      ],
      "metadata": {
        "id": "Vb0vCK9eXTZk"
      },
      "execution_count": 14,
      "outputs": []
    },
    {
      "cell_type": "markdown",
      "source": [
        "Kode ini digunakan untuk mengubah data kategorikal pada kolom 'Author' dan 'Book' menjadi representasi numerik menggunakan teknik label encoding. Proses ini dilakukan dengan membuat dua objek `LabelEncoder`, masing-masing untuk kolom 'Author' dan kolom 'Book'. Selanjutnya, setiap nama penulis dan judul buku diubah menjadi angka unik yang disimpan dalam kolom baru 'Author_ID' dan 'Book_ID'. Langkah ini penting agar data yang semula berupa teks kategori dapat digunakan sebagai fitur numerik dalam pemodelan machine learning, sehingga algoritma dapat memprosesnya dengan lebih efisien."
      ],
      "metadata": {
        "id": "HP4TCdIOi22m"
      }
    },
    {
      "cell_type": "code",
      "source": [
        "#  Label Encoding untuk Author dan Book\n",
        "le_author = LabelEncoder()\n",
        "le_book = LabelEncoder()\n",
        "df['Author_ID'] = le_author.fit_transform(df['Author'])\n",
        "df['Book_ID'] = le_book.fit_transform(df['Book'])"
      ],
      "metadata": {
        "id": "ZDkCuH4vXXw2"
      },
      "execution_count": 15,
      "outputs": []
    },
    {
      "cell_type": "markdown",
      "source": [
        "igunakan untuk menyatukan berbagai fitur yang telah diproses menjadi satu DataFrame utama bernama final_features yang akan digunakan sebagai input ke model machine learning. Pertama, fitur numerik seperti Avg_Rating_norm dan Num_Ratings_norm (hasil normalisasi dari rating dan jumlah rating buku) disiapkan dari DataFrame asli df. Kemudian, fitur genre yang telah diubah menjadi representasi one-hot encoding disatukan dari genre_df. Terakhir, fitur teks dari deskripsi dan genre buku yang sudah direpresentasikan dalam bentuk vektor TF-IDF ditambahkan dari description_df. Semua bagian ini di-reset index-nya agar sejajar, lalu digabung secara horizontal (axis=1). Hasilnya adalah satu set fitur komprehensif dan konsisten yang siap digunakan dalam pelatihan model."
      ],
      "metadata": {
        "id": "qgdW9fJ8i7EW"
      }
    },
    {
      "cell_type": "code",
      "source": [
        "# Inisialisasi scaler\n",
        "scaler = MinMaxScaler()\n",
        "# Lakukan normalisasi\n",
        "df[['Avg_Rating_norm', 'Num_Ratings_norm']] = scaler.fit_transform(df[['Avg_Rating', 'Num_Ratings']])"
      ],
      "metadata": {
        "id": "tUbgVB3apxQH"
      },
      "execution_count": 17,
      "outputs": []
    },
    {
      "cell_type": "code",
      "source": [
        "final_features = pd.concat([\n",
        "    df[['Avg_Rating_norm', 'Num_Ratings_norm']].reset_index(drop=True),\n",
        "    genre_df.reset_index(drop=True),\n",
        "    description_df.reset_index(drop=True)\n",
        "], axis=1)\n"
      ],
      "metadata": {
        "id": "ntDFRLtBXbaB"
      },
      "execution_count": 18,
      "outputs": []
    },
    {
      "cell_type": "markdown",
      "source": [
        "Kode ini digunakan untuk melakukan normalisasi pada kolom 'Avg_Rating' dan 'Num_Ratings' agar nilainya berada dalam rentang 0 hingga 1 menggunakan `MinMaxScaler`. Pertama, objek scaler diinisialisasi, lalu kolom 'Avg_Rating' dan 'Num_Ratings' dinormalisasi dan hasilnya disimpan pada kolom baru 'Avg_Rating_norm' dan 'Num_Ratings_norm'. Normalisasi ini penting agar fitur numerik memiliki skala yang sama sehingga membantu meningkatkan kinerja serta stabilitas algoritma machine learning."
      ],
      "metadata": {
        "id": "R4RHph7TjNYz"
      }
    },
    {
      "cell_type": "code",
      "source": [
        "# Tampilkan 5 baris pertama setelah normalisasi\n",
        "print(\"\\nSetelah normalisasi:\")\n",
        "print(df[['Avg_Rating_norm', 'Num_Ratings_norm']].head())"
      ],
      "metadata": {
        "colab": {
          "base_uri": "https://localhost:8080/"
        },
        "id": "fSCOzYW0XqZB",
        "outputId": "2e53796a-f806-4bed-c98d-c35037db7986"
      },
      "execution_count": 19,
      "outputs": [
        {
          "output_type": "stream",
          "name": "stdout",
          "text": [
            "\n",
            "Setelah normalisasi:\n",
            "   Avg_Rating_norm  Num_Ratings_norm\n",
            "0            0.854          0.613411\n",
            "1            0.894          1.000000\n",
            "2            0.856          0.425102\n",
            "3            0.836          0.375985\n",
            "4            0.796          0.385333\n"
          ]
        }
      ]
    },
    {
      "cell_type": "markdown",
      "source": [
        "## MODELLING"
      ],
      "metadata": {
        "id": "qOiDy5iFCNbt"
      }
    },
    {
      "cell_type": "markdown",
      "source": [
        "Kode ini digunakan untuk mengekstrak seluruh nilai fitur dari DataFrame `final_features` menjadi sebuah array NumPy yang akan digunakan sebagai input ke model machine learning. Baris `X = final_features.values` mengonversi DataFrame menjadi array dua dimensi, di mana setiap baris merepresentasikan satu sampel data dan setiap kolom merepresentasikan satu fitur. Dengan perintah `print(\"Shape input ke model:\", X.shape)`, Anda dapat melihat dimensi array tersebut (jumlah baris dan kolom), sehingga dapat memastikan bahwa data yang akan digunakan untuk pelatihan atau prediksi sudah dalam format yang sesuai untuk model machine learning."
      ],
      "metadata": {
        "id": "AIe7RFUZjh-R"
      }
    },
    {
      "cell_type": "code",
      "source": [
        "X = final_features.values\n",
        "print(\"Shape input ke model:\", X.shape)"
      ],
      "metadata": {
        "colab": {
          "base_uri": "https://localhost:8080/"
        },
        "id": "QVmwA1CQCOUz",
        "outputId": "2d2097c6-c27a-4ca5-88bf-3948f8e82e56"
      },
      "execution_count": 20,
      "outputs": [
        {
          "output_type": "stream",
          "name": "stdout",
          "text": [
            "Shape input ke model: (9923, 919)\n"
          ]
        }
      ]
    },
    {
      "cell_type": "markdown",
      "source": [
        "Kode ini membangun dan mengompilasi sebuah model autoencoder menggunakan Keras. Autoencoder ini digunakan untuk melakukan pembelajaran representasi (encoding) dari data fitur input, yang kemudian dapat digunakan untuk ekstraksi fitur, deteksi anomali, atau reduksi dimensi."
      ],
      "metadata": {
        "id": "YrgOutizji6z"
      }
    },
    {
      "cell_type": "code",
      "source": [
        "input_layer = Input(shape=(X.shape[1],), name=\"input_layer\")\n",
        "\n",
        "# Encoder\n",
        "x = Dense(128, activation='relu')(input_layer)\n",
        "x = Dense(64, activation='relu')(x)\n",
        "embedding = Dense(32, activation='relu', name=\"embedding_output\")(x)\n",
        "\n",
        "# Decoder\n",
        "x = Dense(64, activation='relu')(embedding)\n",
        "x = Dense(128, activation='relu')(x)\n",
        "output_layer = Dense(X.shape[1], activation='linear')(x)  # Output shape sama seperti input\n",
        "\n",
        "# Bangun model autoencoder\n",
        "autoencoder = Model(inputs=input_layer, outputs=output_layer)\n",
        "autoencoder.compile(optimizer='adam', loss='mse')\n",
        "autoencoder.summary()\n"
      ],
      "metadata": {
        "colab": {
          "base_uri": "https://localhost:8080/",
          "height": 374
        },
        "id": "t2StibjHC0xX",
        "outputId": "4647a39c-2b3e-4ec1-ab8b-7cf0f8ebccc8"
      },
      "execution_count": 21,
      "outputs": [
        {
          "output_type": "display_data",
          "data": {
            "text/plain": [
              "\u001b[1mModel: \"functional\"\u001b[0m\n"
            ],
            "text/html": [
              "<pre style=\"white-space:pre;overflow-x:auto;line-height:normal;font-family:Menlo,'DejaVu Sans Mono',consolas,'Courier New',monospace\"><span style=\"font-weight: bold\">Model: \"functional\"</span>\n",
              "</pre>\n"
            ]
          },
          "metadata": {}
        },
        {
          "output_type": "display_data",
          "data": {
            "text/plain": [
              "┏━━━━━━━━━━━━━━━━━━━━━━━━━━━━━━━━━┳━━━━━━━━━━━━━━━━━━━━━━━━┳━━━━━━━━━━━━━━━┓\n",
              "┃\u001b[1m \u001b[0m\u001b[1mLayer (type)                   \u001b[0m\u001b[1m \u001b[0m┃\u001b[1m \u001b[0m\u001b[1mOutput Shape          \u001b[0m\u001b[1m \u001b[0m┃\u001b[1m \u001b[0m\u001b[1m      Param #\u001b[0m\u001b[1m \u001b[0m┃\n",
              "┡━━━━━━━━━━━━━━━━━━━━━━━━━━━━━━━━━╇━━━━━━━━━━━━━━━━━━━━━━━━╇━━━━━━━━━━━━━━━┩\n",
              "│ input_layer (\u001b[38;5;33mInputLayer\u001b[0m)        │ (\u001b[38;5;45mNone\u001b[0m, \u001b[38;5;34m919\u001b[0m)            │             \u001b[38;5;34m0\u001b[0m │\n",
              "├─────────────────────────────────┼────────────────────────┼───────────────┤\n",
              "│ dense (\u001b[38;5;33mDense\u001b[0m)                   │ (\u001b[38;5;45mNone\u001b[0m, \u001b[38;5;34m128\u001b[0m)            │       \u001b[38;5;34m117,760\u001b[0m │\n",
              "├─────────────────────────────────┼────────────────────────┼───────────────┤\n",
              "│ dense_1 (\u001b[38;5;33mDense\u001b[0m)                 │ (\u001b[38;5;45mNone\u001b[0m, \u001b[38;5;34m64\u001b[0m)             │         \u001b[38;5;34m8,256\u001b[0m │\n",
              "├─────────────────────────────────┼────────────────────────┼───────────────┤\n",
              "│ embedding_output (\u001b[38;5;33mDense\u001b[0m)        │ (\u001b[38;5;45mNone\u001b[0m, \u001b[38;5;34m32\u001b[0m)             │         \u001b[38;5;34m2,080\u001b[0m │\n",
              "├─────────────────────────────────┼────────────────────────┼───────────────┤\n",
              "│ dense_2 (\u001b[38;5;33mDense\u001b[0m)                 │ (\u001b[38;5;45mNone\u001b[0m, \u001b[38;5;34m64\u001b[0m)             │         \u001b[38;5;34m2,112\u001b[0m │\n",
              "├─────────────────────────────────┼────────────────────────┼───────────────┤\n",
              "│ dense_3 (\u001b[38;5;33mDense\u001b[0m)                 │ (\u001b[38;5;45mNone\u001b[0m, \u001b[38;5;34m128\u001b[0m)            │         \u001b[38;5;34m8,320\u001b[0m │\n",
              "├─────────────────────────────────┼────────────────────────┼───────────────┤\n",
              "│ dense_4 (\u001b[38;5;33mDense\u001b[0m)                 │ (\u001b[38;5;45mNone\u001b[0m, \u001b[38;5;34m919\u001b[0m)            │       \u001b[38;5;34m118,551\u001b[0m │\n",
              "└─────────────────────────────────┴────────────────────────┴───────────────┘\n"
            ],
            "text/html": [
              "<pre style=\"white-space:pre;overflow-x:auto;line-height:normal;font-family:Menlo,'DejaVu Sans Mono',consolas,'Courier New',monospace\">┏━━━━━━━━━━━━━━━━━━━━━━━━━━━━━━━━━┳━━━━━━━━━━━━━━━━━━━━━━━━┳━━━━━━━━━━━━━━━┓\n",
              "┃<span style=\"font-weight: bold\"> Layer (type)                    </span>┃<span style=\"font-weight: bold\"> Output Shape           </span>┃<span style=\"font-weight: bold\">       Param # </span>┃\n",
              "┡━━━━━━━━━━━━━━━━━━━━━━━━━━━━━━━━━╇━━━━━━━━━━━━━━━━━━━━━━━━╇━━━━━━━━━━━━━━━┩\n",
              "│ input_layer (<span style=\"color: #0087ff; text-decoration-color: #0087ff\">InputLayer</span>)        │ (<span style=\"color: #00d7ff; text-decoration-color: #00d7ff\">None</span>, <span style=\"color: #00af00; text-decoration-color: #00af00\">919</span>)            │             <span style=\"color: #00af00; text-decoration-color: #00af00\">0</span> │\n",
              "├─────────────────────────────────┼────────────────────────┼───────────────┤\n",
              "│ dense (<span style=\"color: #0087ff; text-decoration-color: #0087ff\">Dense</span>)                   │ (<span style=\"color: #00d7ff; text-decoration-color: #00d7ff\">None</span>, <span style=\"color: #00af00; text-decoration-color: #00af00\">128</span>)            │       <span style=\"color: #00af00; text-decoration-color: #00af00\">117,760</span> │\n",
              "├─────────────────────────────────┼────────────────────────┼───────────────┤\n",
              "│ dense_1 (<span style=\"color: #0087ff; text-decoration-color: #0087ff\">Dense</span>)                 │ (<span style=\"color: #00d7ff; text-decoration-color: #00d7ff\">None</span>, <span style=\"color: #00af00; text-decoration-color: #00af00\">64</span>)             │         <span style=\"color: #00af00; text-decoration-color: #00af00\">8,256</span> │\n",
              "├─────────────────────────────────┼────────────────────────┼───────────────┤\n",
              "│ embedding_output (<span style=\"color: #0087ff; text-decoration-color: #0087ff\">Dense</span>)        │ (<span style=\"color: #00d7ff; text-decoration-color: #00d7ff\">None</span>, <span style=\"color: #00af00; text-decoration-color: #00af00\">32</span>)             │         <span style=\"color: #00af00; text-decoration-color: #00af00\">2,080</span> │\n",
              "├─────────────────────────────────┼────────────────────────┼───────────────┤\n",
              "│ dense_2 (<span style=\"color: #0087ff; text-decoration-color: #0087ff\">Dense</span>)                 │ (<span style=\"color: #00d7ff; text-decoration-color: #00d7ff\">None</span>, <span style=\"color: #00af00; text-decoration-color: #00af00\">64</span>)             │         <span style=\"color: #00af00; text-decoration-color: #00af00\">2,112</span> │\n",
              "├─────────────────────────────────┼────────────────────────┼───────────────┤\n",
              "│ dense_3 (<span style=\"color: #0087ff; text-decoration-color: #0087ff\">Dense</span>)                 │ (<span style=\"color: #00d7ff; text-decoration-color: #00d7ff\">None</span>, <span style=\"color: #00af00; text-decoration-color: #00af00\">128</span>)            │         <span style=\"color: #00af00; text-decoration-color: #00af00\">8,320</span> │\n",
              "├─────────────────────────────────┼────────────────────────┼───────────────┤\n",
              "│ dense_4 (<span style=\"color: #0087ff; text-decoration-color: #0087ff\">Dense</span>)                 │ (<span style=\"color: #00d7ff; text-decoration-color: #00d7ff\">None</span>, <span style=\"color: #00af00; text-decoration-color: #00af00\">919</span>)            │       <span style=\"color: #00af00; text-decoration-color: #00af00\">118,551</span> │\n",
              "└─────────────────────────────────┴────────────────────────┴───────────────┘\n",
              "</pre>\n"
            ]
          },
          "metadata": {}
        },
        {
          "output_type": "display_data",
          "data": {
            "text/plain": [
              "\u001b[1m Total params: \u001b[0m\u001b[38;5;34m257,079\u001b[0m (1004.21 KB)\n"
            ],
            "text/html": [
              "<pre style=\"white-space:pre;overflow-x:auto;line-height:normal;font-family:Menlo,'DejaVu Sans Mono',consolas,'Courier New',monospace\"><span style=\"font-weight: bold\"> Total params: </span><span style=\"color: #00af00; text-decoration-color: #00af00\">257,079</span> (1004.21 KB)\n",
              "</pre>\n"
            ]
          },
          "metadata": {}
        },
        {
          "output_type": "display_data",
          "data": {
            "text/plain": [
              "\u001b[1m Trainable params: \u001b[0m\u001b[38;5;34m257,079\u001b[0m (1004.21 KB)\n"
            ],
            "text/html": [
              "<pre style=\"white-space:pre;overflow-x:auto;line-height:normal;font-family:Menlo,'DejaVu Sans Mono',consolas,'Courier New',monospace\"><span style=\"font-weight: bold\"> Trainable params: </span><span style=\"color: #00af00; text-decoration-color: #00af00\">257,079</span> (1004.21 KB)\n",
              "</pre>\n"
            ]
          },
          "metadata": {}
        },
        {
          "output_type": "display_data",
          "data": {
            "text/plain": [
              "\u001b[1m Non-trainable params: \u001b[0m\u001b[38;5;34m0\u001b[0m (0.00 B)\n"
            ],
            "text/html": [
              "<pre style=\"white-space:pre;overflow-x:auto;line-height:normal;font-family:Menlo,'DejaVu Sans Mono',consolas,'Courier New',monospace\"><span style=\"font-weight: bold\"> Non-trainable params: </span><span style=\"color: #00af00; text-decoration-color: #00af00\">0</span> (0.00 B)\n",
              "</pre>\n"
            ]
          },
          "metadata": {}
        }
      ]
    },
    {
      "cell_type": "markdown",
      "source": [
        "Kode ini menjalankan proses pelatihan (training) model autoencoder yang telah dibangun sebelumnya. Dengan perintah `autoencoder.fit(X, X, epochs=20, batch_size=32, validation_split=0.1)`, data input (`X`) digunakan baik sebagai data masukan maupun target, karena autoencoder bertujuan merekonstruksi inputnya sendiri. Proses pelatihan dilakukan selama 20 epoch, dengan ukuran batch 32, dan 10% data digunakan sebagai data validasi untuk memonitor performa model selama training. Langkah ini penting agar model belajar merepresentasikan fitur-fitur utama dari data secara efisien."
      ],
      "metadata": {
        "id": "SfnwVqZMjq81"
      }
    },
    {
      "cell_type": "code",
      "source": [
        "autoencoder.fit(X, X, epochs=20, batch_size=32, validation_split=0.1)"
      ],
      "metadata": {
        "colab": {
          "base_uri": "https://localhost:8080/"
        },
        "id": "kBpFtWlZDKaH",
        "outputId": "6b07a3bf-b431-465e-871e-8af446b06d5c"
      },
      "execution_count": 22,
      "outputs": [
        {
          "output_type": "stream",
          "name": "stdout",
          "text": [
            "Epoch 1/20\n",
            "\u001b[1m280/280\u001b[0m \u001b[32m━━━━━━━━━━━━━━━━━━━━\u001b[0m\u001b[37m\u001b[0m \u001b[1m9s\u001b[0m 10ms/step - loss: 0.0064 - val_loss: 0.0029\n",
            "Epoch 2/20\n",
            "\u001b[1m280/280\u001b[0m \u001b[32m━━━━━━━━━━━━━━━━━━━━\u001b[0m\u001b[37m\u001b[0m \u001b[1m1s\u001b[0m 3ms/step - loss: 0.0040 - val_loss: 0.0025\n",
            "Epoch 3/20\n",
            "\u001b[1m280/280\u001b[0m \u001b[32m━━━━━━━━━━━━━━━━━━━━\u001b[0m\u001b[37m\u001b[0m \u001b[1m1s\u001b[0m 3ms/step - loss: 0.0035 - val_loss: 0.0024\n",
            "Epoch 4/20\n",
            "\u001b[1m280/280\u001b[0m \u001b[32m━━━━━━━━━━━━━━━━━━━━\u001b[0m\u001b[37m\u001b[0m \u001b[1m1s\u001b[0m 3ms/step - loss: 0.0032 - val_loss: 0.0023\n",
            "Epoch 5/20\n",
            "\u001b[1m280/280\u001b[0m \u001b[32m━━━━━━━━━━━━━━━━━━━━\u001b[0m\u001b[37m\u001b[0m \u001b[1m1s\u001b[0m 3ms/step - loss: 0.0030 - val_loss: 0.0022\n",
            "Epoch 6/20\n",
            "\u001b[1m280/280\u001b[0m \u001b[32m━━━━━━━━━━━━━━━━━━━━\u001b[0m\u001b[37m\u001b[0m \u001b[1m1s\u001b[0m 3ms/step - loss: 0.0029 - val_loss: 0.0022\n",
            "Epoch 7/20\n",
            "\u001b[1m280/280\u001b[0m \u001b[32m━━━━━━━━━━━━━━━━━━━━\u001b[0m\u001b[37m\u001b[0m \u001b[1m1s\u001b[0m 3ms/step - loss: 0.0028 - val_loss: 0.0022\n",
            "Epoch 8/20\n",
            "\u001b[1m280/280\u001b[0m \u001b[32m━━━━━━━━━━━━━━━━━━━━\u001b[0m\u001b[37m\u001b[0m \u001b[1m1s\u001b[0m 3ms/step - loss: 0.0027 - val_loss: 0.0021\n",
            "Epoch 9/20\n",
            "\u001b[1m280/280\u001b[0m \u001b[32m━━━━━━━━━━━━━━━━━━━━\u001b[0m\u001b[37m\u001b[0m \u001b[1m1s\u001b[0m 4ms/step - loss: 0.0026 - val_loss: 0.0021\n",
            "Epoch 10/20\n",
            "\u001b[1m280/280\u001b[0m \u001b[32m━━━━━━━━━━━━━━━━━━━━\u001b[0m\u001b[37m\u001b[0m \u001b[1m1s\u001b[0m 3ms/step - loss: 0.0026 - val_loss: 0.0021\n",
            "Epoch 11/20\n",
            "\u001b[1m280/280\u001b[0m \u001b[32m━━━━━━━━━━━━━━━━━━━━\u001b[0m\u001b[37m\u001b[0m \u001b[1m1s\u001b[0m 3ms/step - loss: 0.0026 - val_loss: 0.0020\n",
            "Epoch 12/20\n",
            "\u001b[1m280/280\u001b[0m \u001b[32m━━━━━━━━━━━━━━━━━━━━\u001b[0m\u001b[37m\u001b[0m \u001b[1m1s\u001b[0m 3ms/step - loss: 0.0025 - val_loss: 0.0020\n",
            "Epoch 13/20\n",
            "\u001b[1m280/280\u001b[0m \u001b[32m━━━━━━━━━━━━━━━━━━━━\u001b[0m\u001b[37m\u001b[0m \u001b[1m1s\u001b[0m 3ms/step - loss: 0.0025 - val_loss: 0.0020\n",
            "Epoch 14/20\n",
            "\u001b[1m280/280\u001b[0m \u001b[32m━━━━━━━━━━━━━━━━━━━━\u001b[0m\u001b[37m\u001b[0m \u001b[1m1s\u001b[0m 3ms/step - loss: 0.0024 - val_loss: 0.0020\n",
            "Epoch 15/20\n",
            "\u001b[1m280/280\u001b[0m \u001b[32m━━━━━━━━━━━━━━━━━━━━\u001b[0m\u001b[37m\u001b[0m \u001b[1m1s\u001b[0m 3ms/step - loss: 0.0024 - val_loss: 0.0020\n",
            "Epoch 16/20\n",
            "\u001b[1m280/280\u001b[0m \u001b[32m━━━━━━━━━━━━━━━━━━━━\u001b[0m\u001b[37m\u001b[0m \u001b[1m1s\u001b[0m 3ms/step - loss: 0.0023 - val_loss: 0.0019\n",
            "Epoch 17/20\n",
            "\u001b[1m280/280\u001b[0m \u001b[32m━━━━━━━━━━━━━━━━━━━━\u001b[0m\u001b[37m\u001b[0m \u001b[1m1s\u001b[0m 3ms/step - loss: 0.0023 - val_loss: 0.0019\n",
            "Epoch 18/20\n",
            "\u001b[1m280/280\u001b[0m \u001b[32m━━━━━━━━━━━━━━━━━━━━\u001b[0m\u001b[37m\u001b[0m \u001b[1m1s\u001b[0m 3ms/step - loss: 0.0023 - val_loss: 0.0019\n",
            "Epoch 19/20\n",
            "\u001b[1m280/280\u001b[0m \u001b[32m━━━━━━━━━━━━━━━━━━━━\u001b[0m\u001b[37m\u001b[0m \u001b[1m1s\u001b[0m 3ms/step - loss: 0.0023 - val_loss: 0.0019\n",
            "Epoch 20/20\n",
            "\u001b[1m280/280\u001b[0m \u001b[32m━━━━━━━━━━━━━━━━━━━━\u001b[0m\u001b[37m\u001b[0m \u001b[1m1s\u001b[0m 4ms/step - loss: 0.0022 - val_loss: 0.0019\n"
          ]
        },
        {
          "output_type": "execute_result",
          "data": {
            "text/plain": [
              "<keras.src.callbacks.history.History at 0x7ead99938dd0>"
            ]
          },
          "metadata": {},
          "execution_count": 22
        }
      ]
    },
    {
      "cell_type": "markdown",
      "source": [
        "## TESTING"
      ],
      "metadata": {
        "id": "LM01CVi-jnFI"
      }
    },
    {
      "cell_type": "markdown",
      "source": [
        "Kode ini digunakan untuk menghasilkan representasi vektor embedding dari data buku menggunakan model autoencoder yang telah dilatih. Dengan menjalankan `book_embeddings = autoencoder.predict(X)`, seluruh data fitur buku diproses melalui model sehingga menghasilkan vektor embedding (representasi baru) untuk setiap buku. Vektor embedding ini dapat digunakan untuk berbagai keperluan seperti pencarian kemiripan antar buku, clustering, atau visualisasi. Contoh keluaran vektor embedding untuk buku pertama ditampilkan dengan `print(\"Vektor embedding buku ke-0:\\n\", book_embeddings[0])` agar Anda dapat melihat bentuk representasi numerik hasil transformasi autoencoder."
      ],
      "metadata": {
        "id": "r3WFe475jv8o"
      }
    },
    {
      "cell_type": "code",
      "source": [
        "book_embeddings = autoencoder.predict(X)\n",
        "# Contoh: Lihat vektor embedding buku pertama\n",
        "print(\"Vektor embedding buku ke-0:\\n\", book_embeddings[0])"
      ],
      "metadata": {
        "colab": {
          "base_uri": "https://localhost:8080/"
        },
        "id": "SHiURpCJDnlV",
        "outputId": "17208e74-77d7-435a-aed6-dc2bc1477088"
      },
      "execution_count": 23,
      "outputs": [
        {
          "output_type": "stream",
          "name": "stdout",
          "text": [
            "\u001b[1m311/311\u001b[0m \u001b[32m━━━━━━━━━━━━━━━━━━━━\u001b[0m\u001b[37m\u001b[0m \u001b[1m1s\u001b[0m 3ms/step\n",
            "Vektor embedding buku ke-0:\n",
            " [ 8.14184427e-01  4.91573587e-02 -3.65537126e-04  2.93959118e-03\n",
            "  3.61246429e-03  1.51038915e-02  1.81794353e-02 -2.25941017e-02\n",
            " -6.95089996e-02 -8.57887138e-03 -6.68742321e-03 -1.77205075e-04\n",
            "  5.32410946e-03 -5.42177297e-02  1.57112221e-03 -1.23830931e-03\n",
            "  4.15701390e-04 -3.83069217e-02  1.45322472e-01 -9.95891616e-02\n",
            "  3.98518145e-03  4.43884842e-02 -2.50073941e-03  8.64271075e-04\n",
            " -3.54861957e-04  2.19736458e-03 -6.19689003e-04 -9.16822907e-03\n",
            "  5.13751991e-04  4.40613367e-04  4.72343899e-03  4.83052395e-02\n",
            " -3.15408269e-03 -1.12565383e-02 -4.46918514e-03  1.16505893e-03\n",
            " -5.96136670e-04  2.41502188e-03  2.08728481e-03  1.71309337e-02\n",
            "  1.58636067e-02 -6.06266782e-04 -1.05866417e-03  2.38697976e-03\n",
            "  1.57991424e-03  5.28381113e-03  5.83854038e-03  3.57881933e-03\n",
            "  1.75829988e-03  1.51240379e-02  2.44939290e-02  3.81153263e-03\n",
            "  5.82302362e-03  2.73287185e-02 -1.00861699e-03 -1.42349792e-03\n",
            "  5.42413257e-02  6.24988414e-03 -8.08112882e-03  1.55777838e-02\n",
            " -1.88739412e-03  2.57287174e-03  2.46720221e-02 -4.87231277e-03\n",
            " -8.45887884e-02 -3.42234503e-04 -1.94336753e-02  2.34047836e-03\n",
            "  3.37346718e-02 -2.78229546e-03  7.58953393e-04  6.66775741e-05\n",
            "  3.30370385e-04  1.91140291e-03  7.39510171e-03  5.86987026e-02\n",
            " -2.00260803e-03 -4.55655623e-04  2.07125302e-02  9.03290510e-03\n",
            "  6.88844174e-02  1.81955546e-02  4.27124323e-04  5.72608784e-04\n",
            "  4.88371123e-03 -4.02920507e-02  8.99332762e-03 -8.25000368e-03\n",
            " -2.27300990e-02  3.63929681e-02  4.90606297e-03  6.60222303e-03\n",
            "  6.90460857e-03  1.05314385e-02  3.17016151e-04  1.79589950e-02\n",
            "  1.19066760e-01  8.55412334e-04  3.56694013e-02  2.35443329e-03\n",
            " -1.45566687e-01 -1.39202476e-02 -9.24969912e-02 -8.46580602e-04\n",
            " -7.09827617e-03 -1.55299902e-02 -1.42590357e-02 -2.87425108e-02\n",
            "  1.36079872e-03  3.25888954e-03  1.71555905e-03  2.29945183e-02\n",
            " -3.71601991e-03  2.79133150e-04  1.13583589e+00 -2.14711460e-03\n",
            "  3.02376039e-03  6.77962089e-03  9.44725331e-03  2.47279252e-03\n",
            " -1.03921909e-03 -4.03558053e-02  9.17115808e-03 -5.27225900e-04\n",
            "  6.28123432e-02  1.14711456e-01 -3.26430192e-04  1.27754100e-02\n",
            "  3.26556410e-03 -6.00113347e-03  5.35595790e-03  1.96046941e-03\n",
            "  4.06675553e-03  7.51919160e-03 -6.16769190e-04 -7.33805064e-06\n",
            "  7.44615914e-04 -2.31942330e-02  5.56682469e-04 -9.83558595e-04\n",
            " -1.09026590e-02  3.76734883e-04  5.07718371e-03 -4.93201427e-04\n",
            " -1.05220382e-03  8.69894680e-03 -9.83112259e-04 -1.46423746e-03\n",
            "  1.14345108e-04 -1.88265704e-02 -2.85076955e-03 -1.33550866e-03\n",
            " -6.16450608e-03  5.90245100e-03 -1.49096828e-04 -2.18476611e-03\n",
            " -2.15907171e-02 -1.06805307e-03 -5.57570136e-04 -3.04730120e-03\n",
            " -6.29646610e-03 -4.21459321e-04  2.37637991e-03 -1.30154751e-02\n",
            "  3.87195777e-03  3.32440296e-03  7.01347366e-02 -7.53062358e-03\n",
            "  1.70968869e-03  8.18766654e-03 -4.40732576e-04  8.54532272e-02\n",
            " -1.83279312e-03  5.37920408e-02  3.80505882e-02 -6.83865510e-04\n",
            "  6.52531162e-03 -1.16581772e-03  2.56696343e-03  1.55206595e-03\n",
            " -1.69662107e-03 -1.56874023e-03 -7.09838606e-03  1.28549859e-02\n",
            " -7.26383645e-03 -2.49297377e-02  9.84602422e-03 -3.53322625e-02\n",
            " -2.57914737e-02 -1.75678656e-02 -8.10786150e-04  4.04288527e-04\n",
            "  1.04962867e-02  5.65206958e-03  9.42563079e-03 -4.98200208e-03\n",
            "  1.31924767e-02 -2.23205425e-05  1.22847185e-02 -1.21800117e-02\n",
            "  4.31367662e-03  2.31273845e-03  3.80274057e-02 -1.20791178e-02\n",
            " -8.03606585e-04 -1.46188028e-03 -1.38488156e-03 -6.15267083e-04\n",
            "  2.92434869e-03  3.98554355e-02 -5.61848097e-03  1.14721429e+00\n",
            "  1.99595233e-04 -2.12015351e-04 -1.37555040e-03 -7.99456798e-03\n",
            " -1.91573985e-04 -2.88708787e-03 -8.50874931e-04 -7.92355277e-05\n",
            "  1.00671817e-02  5.60117466e-03  1.86011172e-03  1.07613334e-03\n",
            "  1.56996353e-03 -2.04669032e-03 -5.22685330e-03 -5.43827796e-03\n",
            " -8.02000165e-02 -5.68450987e-02  4.87400312e-03  6.97639538e-04\n",
            " -1.62648642e-03  5.70835546e-05  1.27243460e-04  6.37703948e-03\n",
            "  1.64596327e-02  3.63774598e-06 -6.11322373e-03 -3.80379427e-03\n",
            " -3.28228995e-03 -3.80663923e-03  8.34046770e-03  7.98461260e-04\n",
            "  7.78091475e-02  1.95415728e-02  2.25734082e-03 -5.65161277e-03\n",
            " -9.11367312e-03  1.01549795e-03  8.61041714e-04  1.41047104e-03\n",
            "  2.47368589e-04  4.85724770e-03  1.28619303e-03  4.66482714e-04\n",
            "  6.28091097e-02  2.42397077e-02  1.01350201e-02  3.76919210e-02\n",
            " -4.37907409e-04 -1.09515060e-03  7.36849615e-04  7.08992779e-03\n",
            "  1.47760259e-02 -1.89940957e-03  1.16159841e-02  2.71300822e-02\n",
            "  7.71936402e-03  3.37828882e-04  9.93610978e-01  1.13071706e-02\n",
            "  9.71829534e-01 -2.21570376e-02 -3.88473719e-02  3.02210227e-02\n",
            "  8.04229826e-03 -1.34896627e-03  4.93329857e-03  1.87778808e-02\n",
            "  7.62461685e-04  2.26005539e-03 -3.15685086e-02 -5.11688646e-04\n",
            " -4.81572002e-03 -5.72330877e-03  1.12926923e-02  1.23545356e-01\n",
            "  6.62947074e-03  6.55490160e-03 -7.87070021e-05  7.15811923e-02\n",
            "  7.58505464e-02  2.82485271e-03 -1.17093265e-01  2.42773793e-04\n",
            "  5.73072582e-04 -2.00231606e-03  6.44585118e-04  3.59472353e-03\n",
            "  1.45591199e-02  5.10797091e-03  1.38738845e-02  3.50775570e-03\n",
            "  9.09744482e-03  3.70051786e-02  1.85492728e-02  5.05163614e-03\n",
            "  1.65119022e-02  2.99907988e-04  4.13164962e-05 -1.48290163e-03\n",
            " -1.18297711e-03  2.94300378e-04  2.00490188e-03  1.36880786e-03\n",
            " -3.77387949e-03  6.37848629e-03  9.50968787e-02 -3.16931866e-03\n",
            "  1.13153299e-02  7.37752160e-03  2.04691645e-02  4.86715510e-03\n",
            " -2.50569312e-04  7.04092206e-04  1.08785043e-03  1.21844606e-03\n",
            "  1.15693845e-02  3.03931185e-03 -5.88144269e-03  1.78107619e-03\n",
            " -1.01982104e-03 -1.16602900e-02  5.52538037e-03 -6.80442452e-02\n",
            "  1.69394821e-01 -4.14205249e-04  1.02343876e-02 -3.09030386e-03\n",
            " -2.97702732e-04 -3.74604156e-03 -9.99649428e-03 -2.24119984e-03\n",
            "  2.87512527e-03 -5.18143992e-04 -1.36695243e-03 -2.26418134e-02\n",
            "  1.74840894e-02  2.44815238e-02 -1.92541000e-03 -1.40247419e-02\n",
            "  6.01156754e-03  4.17099297e-02  4.90996009e-03 -2.57359147e-02\n",
            " -1.46585423e-03  3.54895368e-04 -5.39405213e-04 -1.27478177e-03\n",
            " -4.22633812e-03 -6.86209649e-03  5.62308170e-02 -1.85647048e-03\n",
            " -5.72390854e-05  3.08777392e-02 -1.21131120e-03  9.01486576e-02\n",
            "  2.00530104e-02 -8.11918452e-03 -1.39885712e-02 -2.68363254e-03\n",
            "  2.93619391e-02 -3.72732729e-02 -1.01901134e-02 -7.21965637e-03\n",
            "  4.51136939e-03  4.77351248e-03 -2.43239105e-04  6.82191784e-03\n",
            "  1.57850236e-03  5.22906426e-04  3.26416595e-03  1.99647434e-02\n",
            " -1.28048882e-02 -1.45486114e-03 -6.43681828e-03 -2.38730490e-01\n",
            " -1.63770057e-02  1.46467704e-04  1.59239784e-01  4.94990498e-04\n",
            "  1.40904449e-04 -4.28237906e-03  2.70776972e-02  2.99263699e-03\n",
            " -1.21354284e-02 -4.73723747e-04  5.84250782e-04  7.66690820e-04\n",
            "  3.23753245e-03  1.00910701e-02 -1.93607248e-03  1.39517263e-02\n",
            " -7.51739182e-03  5.74491844e-02 -8.72083940e-04  5.60598681e-03\n",
            "  5.06935492e-02  3.14403698e-03 -8.75190739e-03 -4.41233627e-03\n",
            " -7.26152211e-05  6.40779734e-04  6.42635860e-04  2.18091160e-03\n",
            " -8.66536750e-04  1.46182980e-02 -3.99287120e-02  2.89656855e-02\n",
            " -3.38266157e-02  5.66745223e-03 -3.65511924e-02  1.86724495e-03\n",
            "  1.44133950e-02  1.74103864e-02 -2.56269053e-03  2.79397704e-04\n",
            "  6.94447458e-02  8.11529160e-02 -1.75450463e-03  2.54294202e-02\n",
            " -1.10204564e-04 -8.16450221e-04 -7.38965441e-03 -2.40176935e-02\n",
            " -2.50555621e-03 -1.51205529e-03 -3.25366389e-04  1.12090064e-02\n",
            "  3.35810333e-03  7.45267421e-03  9.03921574e-03 -8.79496802e-04\n",
            " -7.97221251e-03  3.38676199e-03 -1.12472475e-03 -1.00046191e-02\n",
            "  1.09156081e-03 -5.00042327e-02  1.11317867e-03  6.84037339e-04\n",
            "  7.60362484e-04  2.99676694e-03  1.40576437e-02 -5.38137704e-02\n",
            " -5.63403778e-03 -9.56887845e-04  6.49192184e-02  3.83537263e-05\n",
            "  4.26595993e-02  1.02426641e-01  1.44249238e-02  4.47114632e-02\n",
            "  1.07803643e-02 -1.09470380e-03  1.97605379e-02  6.34642169e-02\n",
            " -5.24464995e-05  9.18929558e-03  9.86149767e-04  9.57581587e-03\n",
            " -2.02332158e-04 -5.28921373e-03  1.04463287e-02  1.90639868e-03\n",
            " -8.09286721e-05 -2.09327694e-03 -1.54022053e-02 -4.10354696e-03\n",
            " -2.48699766e-02 -1.79451331e-03 -1.33221820e-02  1.73883978e-04\n",
            " -6.87232986e-03 -3.51325143e-05  9.37333889e-03  5.06323934e-01\n",
            "  9.52505134e-03  3.10214590e-02 -7.06273504e-03  1.12025477e-02\n",
            " -5.09558849e-05 -9.88665409e-03 -6.16879086e-04  1.60328019e-03\n",
            "  7.16344221e-04 -7.39197899e-03 -9.28450841e-03 -2.61021778e-05\n",
            "  4.15734276e-02 -4.23016550e-04  7.29309395e-05 -4.46014572e-04\n",
            " -7.02496804e-03  2.53989245e-03 -1.25100720e-04  4.08806419e-03\n",
            "  9.27970000e-03  1.71872810e-03  3.28210648e-04 -1.28586253e-03\n",
            "  8.49527121e-03 -2.96588391e-02 -1.35719310e-04 -1.09066535e-03\n",
            "  1.77749433e-03  3.89590114e-02 -1.38245791e-03  5.54626957e-02\n",
            "  2.87424345e-02  2.35876888e-02 -1.24903396e-04  3.24392095e-02\n",
            " -3.42998877e-02 -4.52307314e-02 -4.65326244e-04  6.08535483e-03\n",
            " -1.74280349e-03 -7.81135261e-03  1.11694355e-03  8.38867761e-03\n",
            " -6.75460882e-03  1.80458277e-03  3.61547060e-03  3.79979610e-06\n",
            "  2.11487524e-04 -1.08442502e-03  1.08892471e-02 -1.26059959e-03\n",
            "  8.58545117e-03  7.24952901e-03  4.67376132e-03  1.99394617e-02\n",
            "  2.14275047e-02  1.20298704e-04  2.23641540e-03  1.28937047e-03\n",
            "  4.11151210e-04  1.23533737e-02 -4.52073291e-04  1.47167686e-02\n",
            "  7.08686188e-04 -7.98484590e-03  3.67173105e-02 -1.14092827e-02\n",
            "  2.30843201e-03  1.64902490e-03  1.09839090e-03  9.22319200e-03\n",
            " -1.07638864e-03 -2.71637924e-03  9.47293360e-03 -5.50418627e-03\n",
            " -8.04249197e-03 -8.95474572e-04  1.83154317e-03 -1.93132088e-04\n",
            " -2.97674909e-04  7.87586868e-02 -1.85939833e-03 -2.25331299e-02\n",
            " -1.44152492e-02  9.00619780e-04 -2.47722864e-02 -2.46812515e-02\n",
            " -9.55056399e-04 -4.66649048e-03 -2.17454834e-03  1.04050329e-02\n",
            " -1.89083163e-04 -1.06046861e-03 -3.39659862e-04  8.75630323e-03\n",
            "  1.15409214e-03  1.66300032e-03 -1.28107704e-03 -4.39047255e-03\n",
            " -1.30998418e-02 -8.72457866e-04  8.28600023e-04  6.98013604e-03\n",
            " -3.28971539e-04  5.06720319e-02  3.55578959e-05 -2.48667318e-04\n",
            " -5.62308356e-03  2.28378549e-03  1.56592141e-04  3.61026474e-03\n",
            "  4.68672253e-04  7.96649605e-04 -5.01615647e-03  1.84739940e-04\n",
            " -3.38627864e-03 -1.77772786e-03  1.18200798e-02 -1.67545583e-03\n",
            "  3.22184935e-02 -2.18401663e-03  7.03535914e-01  2.11881334e-03\n",
            "  4.58275527e-02 -2.84563750e-04  2.71822140e-03 -3.02479602e-05\n",
            "  1.28485505e-02  6.20556297e-04 -1.08185336e-02 -1.72349140e-02\n",
            "  1.16734892e-01 -7.22594187e-03  4.42412570e-02 -1.09801423e-02\n",
            "  5.77360298e-03  4.68083248e-02 -7.21917115e-03  5.21969981e-03\n",
            "  1.30867772e-03  2.43240632e-02  1.08313840e-03  1.85787119e-03\n",
            "  5.11199888e-03  3.62187345e-03  1.41838137e-02  2.62933783e-02\n",
            "  2.14013699e-02  7.06706243e-03  1.02636795e-02 -4.99907602e-03\n",
            "  1.70319341e-02  2.11683614e-03 -7.65954982e-03  9.08665732e-03\n",
            "  3.22821140e-02  5.47587452e-03  3.12006976e-02  1.15635321e-02\n",
            "  5.98820485e-03  2.18629185e-03  9.47714224e-03 -1.18034817e-02\n",
            " -5.39965928e-04  2.25426089e-02  2.55564041e-03  1.72303841e-02\n",
            " -7.57850800e-03  1.61800403e-02  3.10275052e-02  2.04138029e-02\n",
            "  2.91698705e-02 -6.00764230e-02  1.53467460e-02  5.66509701e-02\n",
            "  1.77968040e-01  1.89251639e-03 -1.93185452e-03  2.42582336e-03\n",
            "  3.57701108e-02  1.10681206e-02 -3.99787817e-03  3.32729006e-03\n",
            "  2.60900315e-02 -7.62373162e-03 -4.78115398e-05  5.13437577e-03\n",
            "  9.80051514e-03  2.88694724e-02  2.92846374e-03 -1.26283774e-02\n",
            "  7.46904314e-03  1.55522488e-03 -1.75590850e-02 -3.34682409e-05\n",
            " -6.00760058e-03  5.08548990e-02  1.24305971e-02  3.85896116e-03\n",
            " -1.09760044e-02  5.37597947e-03 -4.05262783e-03 -3.77717242e-03\n",
            " -6.00791117e-03  1.83535777e-02 -2.52726302e-03  7.80383311e-03\n",
            " -2.25082180e-03  4.19347771e-02 -1.00950599e-02  4.02858704e-02\n",
            "  2.17671860e-02  7.65106780e-03  4.49632481e-03  1.40832011e-02\n",
            " -3.02640395e-03  4.48933896e-03 -1.69371255e-03 -1.53919272e-02\n",
            "  5.01143634e-02  7.68427085e-03 -6.13186508e-03  5.64874150e-03\n",
            "  2.10751444e-02 -5.07192686e-04  1.81662470e-01 -2.05641892e-03\n",
            "  2.02406198e-03  5.34722768e-03  9.56785493e-03  8.30909424e-03\n",
            " -9.36682336e-04  2.54683811e-02  2.53799781e-02  1.20254029e-02\n",
            "  5.16663343e-02 -2.96596661e-02  1.95148811e-02 -6.92422688e-03\n",
            "  9.91537329e-03  4.34268825e-02 -6.99220598e-03 -9.98284668e-04\n",
            "  7.29076006e-03  1.46842999e-02  1.40832048e-02 -5.58201596e-03\n",
            " -9.07299388e-03  2.02079043e-02  3.26811224e-01  6.04827628e-02\n",
            "  1.88823603e-02  1.84716433e-02  1.48447230e-03  3.35167572e-02\n",
            "  1.44884670e-02  3.91745605e-02  1.22367917e-02  7.14030908e-03\n",
            " -7.33955391e-03 -2.95477873e-03 -1.23169338e-02 -3.76895163e-03\n",
            "  1.32664368e-02 -1.18710287e-02  1.68207288e-03  2.16225758e-02\n",
            " -3.69083881e-03  8.18482134e-03  6.28140755e-03  1.71797797e-02\n",
            "  3.30584645e-02  1.72690749e-02  6.20639604e-03 -9.79532488e-03\n",
            " -1.51190907e-03 -4.46242653e-03 -4.02880833e-04  1.80475377e-02\n",
            "  7.47896433e-02  1.16135590e-02  4.58279327e-02  2.22352631e-02\n",
            "  8.09747353e-03 -1.39094209e-02  1.80626754e-02  1.36999413e-03\n",
            "  7.35695288e-03  2.18393560e-02  5.43013103e-02  1.36418082e-02\n",
            "  1.89074967e-02  2.96069384e-02 -2.25483067e-03  1.44039579e-02\n",
            "  1.21179074e-02 -1.98822077e-02 -2.01928057e-03  4.14457079e-03\n",
            "  2.85076387e-02  2.24287510e-02  3.45242433e-02 -1.47433765e-02\n",
            "  2.60489248e-02 -7.57521950e-04  4.42860238e-02  1.03861233e-02\n",
            "  5.44842379e-03  9.63097438e-04 -4.84382510e-02  2.04508286e-03\n",
            "  4.50477935e-03 -7.01008365e-03  4.41361628e-02 -7.90320709e-03\n",
            "  2.06953678e-02  9.66429561e-02  4.94939536e-02 -2.83755828e-03\n",
            "  2.89982092e-02 -3.59060615e-03  2.15437040e-02 -1.04297083e-02\n",
            "  3.91217694e-03  5.33606857e-03  1.13485316e-02 -5.30480593e-03\n",
            "  1.25161503e-02  7.95446988e-03  4.69911844e-04  4.33096662e-03\n",
            "  2.83126384e-02  7.19455350e-03  1.64406355e-02 -1.80133060e-03\n",
            " -8.96140002e-03 -8.45719408e-03  9.21782851e-03 -1.09564969e-02\n",
            "  2.16255728e-02  1.00973798e-02 -1.99982710e-02  1.83767974e-02\n",
            "  3.51051837e-02 -2.95703672e-03  2.20201910e-02 -1.44315138e-03\n",
            " -3.51541769e-03 -1.90789439e-03  2.60747131e-03  1.19674169e-02\n",
            "  1.51951201e-02  1.83113515e-02  5.36494143e-03  3.24504543e-03\n",
            "  1.02870446e-03  1.78693920e-01  1.08691305e-02  1.80190802e-02\n",
            " -3.03440168e-03 -1.14858951e-02 -5.53816371e-03  1.85503829e-02\n",
            " -1.82359479e-03  2.31898371e-02  7.35585671e-03  7.87732191e-03\n",
            "  5.31287678e-03  1.78153049e-02  7.92220421e-03  1.33369472e-02\n",
            "  1.08794989e-02 -8.76444206e-03  6.53539831e-03 -1.18174348e-02\n",
            "  2.18667164e-02  4.23924997e-03  1.70584954e-03  2.76620756e-03\n",
            " -1.13579705e-02  1.64674930e-02  5.25983721e-02 -6.62413426e-04\n",
            "  1.27638634e-02 -8.31765961e-03  2.32318882e-02 -7.30381394e-03\n",
            "  2.80063078e-02  3.30803096e-02  2.29756702e-02 -3.03132134e-03\n",
            " -1.56410467e-02 -9.24693886e-03  1.41441813e-02 -3.53723206e-03\n",
            "  9.51689482e-03  8.66726227e-03 -1.54427625e-03  2.14992054e-02\n",
            "  6.63803611e-03  2.78597679e-02  2.10684468e-03  1.68162584e-02\n",
            "  5.64051792e-03  1.02456734e-02 -8.72823875e-03  7.39542861e-03\n",
            "  3.91441956e-03 -1.43813249e-02  1.98069215e-03 -7.45138247e-03\n",
            "  5.50727434e-02  1.44521892e-02  1.26601625e-02  4.56391275e-03\n",
            " -9.24311392e-03  1.08068250e-02  1.45007595e-02  1.70852430e-02\n",
            "  8.19102116e-03  2.10788064e-02  4.64833528e-03  5.96557222e-02\n",
            "  7.71965692e-03  4.35983390e-03  2.03362964e-02  3.14556807e-02\n",
            "  2.25999430e-02  1.40041085e-02  1.25196338e-01]\n"
          ]
        }
      ]
    },
    {
      "cell_type": "markdown",
      "source": [
        "Kode ini digunakan untuk menghitung kemiripan antar semua buku berdasarkan vektor embedding yang dihasilkan autoencoder, menggunakan metode cosine similarity. Langkah-langkah utama:\n",
        "\n",
        "1. `similarity_matrix = cosine_similarity(book_embeddings)`  \n",
        "   Menghitung matriks kemiripan antar semua buku, di mana setiap nilai merepresentasikan tingkat kemiripan antara dua buku (nilai 1 berarti identik, semakin mendekati 0 semakin tidak mirip).\n",
        "\n",
        "2. `book_idx = 2`  \n",
        "   Menentukan indeks buku yang akan dijadikan referensi untuk pencarian buku-buku serupa.\n",
        "\n",
        "3. Mengambil 5 buku paling mirip (selain dirinya sendiri)  \n",
        "   - Kemiripan semua buku terhadap referensi diurutkan dari paling mirip ke paling tidak mirip.\n",
        "   - Indeks pertama (nilai tertinggi) di-skip karena itu adalah dirinya sendiri.\n",
        "   - Lima buku berikutnya diambil sebagai rekomendasi teratas.\n",
        "\n",
        "4. Menampilkan hasil  \n",
        "   - Menampilkan judul dan genre buku referensi.\n",
        "   - Menampilkan judul, genre, dan skor kemiripan (akurasi kemiripan) dari 5 buku paling mirip.\n",
        "\n",
        "Kode ini sangat berguna untuk membuat sistem rekomendasi buku berbasis kemiripan fitur, sehingga pengguna bisa diberi saran buku-buku yang relevan berdasarkan satu buku referensi."
      ],
      "metadata": {
        "id": "nB5_b8wmj1LJ"
      }
    },
    {
      "cell_type": "code",
      "source": [
        "# Hitung cosine similarity antar semua buku\n",
        "similarity_matrix = cosine_similarity(book_embeddings)\n",
        "\n",
        "# Pilih indeks buku sebagai referensi\n",
        "book_idx = 2\n",
        "\n",
        "# Cari top 5 buku mirip (selain dirinya sendiri)\n",
        "similar_scores = list(enumerate(similarity_matrix[book_idx]))\n",
        "similar_scores = sorted(similar_scores, key=lambda x: x[1], reverse=True)[1:6]  # Skip dirinya sendiri\n",
        "\n",
        "print(f\"Top 5 buku mirip dengan buku ke-{book_idx}:\")\n",
        "print(f\"Judul Referensi: {df.iloc[book_idx]['Book']}\")\n",
        "print(f\"Genre Referensi: {df.iloc[book_idx]['Genres']}\\n\")\n",
        "\n",
        "for idx, score in similar_scores:\n",
        "    title = df.iloc[idx]['Book']\n",
        "    genres = df.iloc[idx]['Genres']\n",
        "    print(f\"- Judul: {title}\")\n",
        "    print(f\"  Genre: {genres}\")\n",
        "    print(f\"  Akurasi Kemiripan: {score:.4f}\\n\")"
      ],
      "metadata": {
        "colab": {
          "base_uri": "https://localhost:8080/"
        },
        "id": "4KDCTqf7Du_y",
        "outputId": "a872353b-c7a1-446e-ff14-99e5ad459427"
      },
      "execution_count": 24,
      "outputs": [
        {
          "output_type": "stream",
          "name": "stdout",
          "text": [
            "Top 5 buku mirip dengan buku ke-2:\n",
            "Judul Referensi: Pride and Prejudice\n",
            "Genre Referensi: ['Classics', 'Fiction', 'Romance', 'Historical Fiction', 'Literature', 'Historical', 'Audiobook']\n",
            "\n",
            "- Judul: Emma\n",
            "  Genre: ['Classics', 'Fiction', 'Romance', 'Historical Fiction', 'Literature', 'Historical', 'Audiobook']\n",
            "  Akurasi Kemiripan: 0.9995\n",
            "\n",
            "- Judul: Sense and Sensibility\n",
            "  Genre: ['Classics', 'Fiction', 'Romance', 'Historical Fiction', 'Literature', 'Historical', 'Audiobook']\n",
            "  Akurasi Kemiripan: 0.9987\n",
            "\n",
            "- Judul: Persuasion\n",
            "  Genre: ['Classics', 'Fiction', 'Romance', 'Historical Fiction', 'Literature', 'Historical', 'Audiobook']\n",
            "  Akurasi Kemiripan: 0.9986\n",
            "\n",
            "- Judul: The Complete Novels\n",
            "  Genre: ['Classics', 'Fiction', 'Romance', 'Historical Fiction', 'Literature', 'Historical', 'Classic Literature']\n",
            "  Akurasi Kemiripan: 0.9242\n",
            "\n",
            "- Judul: Jane Eyre\n",
            "  Genre: ['Classics', 'Fiction', 'Romance', 'Historical Fiction', 'Gothic', 'Literature', 'Historical']\n",
            "  Akurasi Kemiripan: 0.9190\n",
            "\n"
          ]
        }
      ]
    },
    {
      "cell_type": "markdown",
      "source": [
        "## VISUALISASI"
      ],
      "metadata": {
        "id": "fMM-egxsYbYk"
      }
    },
    {
      "cell_type": "code",
      "source": [
        "sns.heatmap(similarity_matrix[:30, :30], cmap='viridis')  # subset 30 buku agar tidak terlalu besar\n",
        "plt.title(\"Cosine Similarity antar Buku\")\n",
        "plt.show()"
      ],
      "metadata": {
        "colab": {
          "base_uri": "https://localhost:8080/",
          "height": 452
        },
        "id": "hmw99T8FYW2F",
        "outputId": "8033be73-d0d0-4982-cb1f-69046765d567"
      },
      "execution_count": 25,
      "outputs": [
        {
          "output_type": "display_data",
          "data": {
            "text/plain": [
              "<Figure size 640x480 with 2 Axes>"
            ],
            "image/png": "[encoded data removed]"
          },
          "metadata": {}
        }
      ]
    },
    {
      "cell_type": "markdown",
      "source": [
        "menunjukkan visualisasi matriks Cosine Similarity antar buku. Setiap titik pada matriks ini merepresentasikan tingkat kemiripan antara dua buku berdasarkan fitur-fitur yang telah diekstrak dan diolah menggunakan metode embedding. Nilai cosine similarity berkisar antara 0 hingga 1, di mana nilai 1 (warna kuning terang pada diagonal) menandakan buku yang dibandingkan dengan dirinya sendiri, sedangkan nilai mendekati 0 (warna ungu tua) menunjukkan dua buku yang sangat tidak mirip. Pola warna pada matriks ini memberikan gambaran umum tentang seberapa beragam atau homogen koleksi buku yang dianalisis, serta seberapa efektif fitur yang digunakan dalam membedakan satu buku dengan lainnya."
      ],
      "metadata": {
        "id": "oWrXZOFVj8hL"
      }
    },
    {
      "cell_type": "code",
      "source": [
        "tsne = TSNE(n_components=2, random_state=42)\n",
        "embed_2d = tsne.fit_transform(book_embeddings)\n",
        "\n",
        "plt.scatter(embed_2d[:, 0], embed_2d[:, 1], alpha=0.6)\n",
        "plt.title(\"Visualisasi Embedding Buku (t-SNE)\")\n",
        "plt.xlabel(\"Dimensi 1\")\n",
        "plt.ylabel(\"Dimensi 2\")\n",
        "plt.show()"
      ],
      "metadata": {
        "colab": {
          "base_uri": "https://localhost:8080/",
          "height": 472
        },
        "id": "cXX_W9RHYaof",
        "outputId": "132d0cc7-f978-4b25-dcb3-256529de5d5c"
      },
      "execution_count": 26,
      "outputs": [
        {
          "output_type": "display_data",
          "data": {
            "text/plain": [
              "<Figure size 640x480 with 1 Axes>"
            ],
            "image/png": "[encoded data removed]"
          },
          "metadata": {}
        }
      ]
    },
    {
      "cell_type": "markdown",
      "source": [
        "memperlihatkan visualisasi sebaran embedding buku pada ruang dua dimensi menggunakan teknik t-SNE (t-Distributed Stochastic Neighbor Embedding). Setiap titik pada plot ini merepresentasikan satu buku, di mana posisi titik-titik tersebut menggambarkan kemiripan fitur antara buku berdasarkan hasil ekstraksi embedding dari model autoencoder. Titik-titik yang berdekatan satu sama lain menunjukkan buku-buku yang memiliki kemiripan karakteristik, baik dari segi genre, rating, deskripsi, maupun fitur lain yang digunakan dalam model. Melalui visualisasi ini, kita dapat melihat pola kelompok (cluster) atau persebaran buku secara keseluruhan, yang sangat membantu dalam analisis hubungan atau kemiripan antar buku di dalam dataset."
      ],
      "metadata": {
        "id": "bM777OdMkDSE"
      }
    },
    {
      "cell_type": "markdown",
      "source": [
        "## EVALUATION"
      ],
      "metadata": {
        "id": "XxkokgfckA7V"
      }
    },
    {
      "cell_type": "code",
      "source": [
        "def get_genre_list(genre_val):\n",
        "    if isinstance(genre_val, list):\n",
        "        return set(genre_val)\n",
        "    elif isinstance(genre_val, str):\n",
        "        genre_val = genre_val.strip(\"[]\")\n",
        "        genres = [g.strip(\" '\\\"\") for g in genre_val.split(\",\") if g.strip()]\n",
        "        return set(genres)\n",
        "    else:\n",
        "        return set()\n",
        "\n",
        "def precision_recall_at_k(rekomendasi_idx, ground_truth_genres, df, k=5):\n",
        "    recommended_genres = set()\n",
        "    for idx in rekomendasi_idx[:k]:\n",
        "        genres = get_genre_list(df.iloc[idx]['Genres'])\n",
        "        recommended_genres.update(genres)\n",
        "    true_positives = len(recommended_genres & ground_truth_genres)\n",
        "    precision = true_positives / (len(recommended_genres) + 1e-10)\n",
        "    recall = true_positives / (len(ground_truth_genres) + 1e-10)\n",
        "    return precision, recall\n",
        "\n",
        "def evaluate_model(df, tfidf_matrix, book_index, top_k=5):\n",
        "    cosine_sim = cosine_similarity(tfidf_matrix[book_index], tfidf_matrix).flatten()\n",
        "    similar_indices = cosine_sim.argsort()[::-1]\n",
        "    similar_indices = [i for i in similar_indices if i != book_index]\n",
        "    rekomendasi_idx = similar_indices[:top_k]\n",
        "    ground_truth_genres = get_genre_list(df.iloc[book_index]['Genres'])\n",
        "    precision, recall = precision_recall_at_k(rekomendasi_idx, ground_truth_genres, df, k=top_k)\n",
        "    print(f\"Precision@{top_k}: {precision:.2f}\")\n",
        "    print(f\"Recall@{top_k}: {recall:.2f}\")\n",
        "    print(\"\\nRekomendasi untuk buku:\", df.iloc[book_index]['Book'])\n",
        "    for idx in rekomendasi_idx:\n",
        "        print(\"-\", df.iloc[idx]['Book'])"
      ],
      "metadata": {
        "id": "-f-dp0NqZ0Xl"
      },
      "execution_count": 27,
      "outputs": []
    },
    {
      "cell_type": "code",
      "source": [
        "evaluate_model(df, description_tfidf, book_index=2, top_k=5)"
      ],
      "metadata": {
        "colab": {
          "base_uri": "https://localhost:8080/"
        },
        "id": "K8aBg2VGZ5Xm",
        "outputId": "d43fcdf4-6ce9-469c-bd95-348053114164"
      },
      "execution_count": 28,
      "outputs": [
        {
          "output_type": "stream",
          "name": "stdout",
          "text": [
            "Precision@5: 0.64\n",
            "Recall@5: 1.00\n",
            "\n",
            "Rekomendasi untuk buku: Pride and Prejudice\n",
            "- Emma\n",
            "- عصر الحب\n",
            "- Egipcjanin Sinuhe, tom 1\n",
            "- ثلاثية غرناطة\n",
            "- I, Claudius (Claudius, #1)\n"
          ]
        }
      ]
    }
  ]
}